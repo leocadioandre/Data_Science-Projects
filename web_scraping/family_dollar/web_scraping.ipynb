{
 "cells": [
  {
   "cell_type": "markdown",
   "metadata": {},
   "source": [
    "##  Web scraping - Familydollar"
   ]
  },
  {
   "cell_type": "markdown",
   "metadata": {},
   "source": [
    "**Estabelecendo uma meta para o projeto de web-scraping. - Para um projeto bem sucedido deve-se seguir os seguintes passos.**\n",
    "\n",
    "- Estamos coletando informações que valem o esforço necessário para criar um web scraping em funcionamento.\n",
    "- Estamos baixando informações que podem ser coletadas legal e eticamente por um web scraping.\n",
    "- Temos algum conhecimento de como encontrar as informações de destino no código HTML.\n",
    "- Temos as ferramentas certas: nesse caso, são as bibliotecas BeautifulSoup e requests.\n",
    "- Sabemos (ou estamos dispostos a aprender) como analisar objetos JSON.\n",
    "- Temos habilidade para manipular dados com pandas.\n"
   ]
  },
  {
   "cell_type": "markdown",
   "metadata": {},
   "source": [
    "- O site o quel faremos web-scraping é: https://www.familydollar.com/locations/id/\n",
    "        \n",
    "- Estas lojas possuem uma grande presença em areas rurais nos EUA, o objetivo é descobrir quantas existem em estados mais ruralizados do sul (Lembrando que é apenas um exemplo para demonstração de conhecimento, podemos posterimormente fazer com casos da nossa realizade brasileira.)"
   ]
  },
  {
   "cell_type": "code",
   "execution_count": 1,
   "metadata": {},
   "outputs": [],
   "source": [
    "# importando as bibliotecas utilizadas\n",
    "\n",
    "import requests # para fazer as requisições em html\n",
    "from bs4 import BeautifulSoup # ferramenta para analisar dados html\n",
    "import json # para analisar os dados\n",
    "from pandas import DataFrame as df "
   ]
  },
  {
   "cell_type": "markdown",
   "metadata": {},
   "source": [
    "O BeautifulSoup pega o conteúdo HTML ou XML e o transforma em uma complexa árvore de objetos. Aqui estão vários tipos de objetos comuns que usaremos:\n",
    "\n",
    "- BeautifulSoup — o conteudo que será analisado.\n",
    "- Tag — uma tag HTML padrão, o principal tipo de elemento bs4 que você encontrará\n",
    "- NavigableString — uma string dentro das tags\n",
    "- Comment - um tipo especial de NavigableString"
   ]
  },
  {
   "cell_type": "code",
   "execution_count": 16,
   "metadata": {},
   "outputs": [],
   "source": [
    "# Para garantir que as requisições analisem corretamente o texto, deixaremos as variaveis abaixo não utilizando o default.\n",
    "\n",
    "#allow_redirects = ajusta a biblioteca de solicitações para não seguir os redirecionamentos. Caso necessário.\n",
    "\n",
    "page = requests.get(\"https://www.familydollar.com/locations/id/\", allow_redirects=False)#indicar a URL da página\n",
    "page.encoding = 'ISO-885901'  #No caso por estarmos fazendo o webscraping de um site em ingles, em latin mudar utf-8\n",
    "soup = BeautifulSoup(page.text, 'html.parser')"
   ]
  },
  {
   "cell_type": "markdown",
   "metadata": {},
   "source": [
    "**Determinando como extrair um conteudo relevante**\n",
    "\n",
    " Visualizar o código HTML da página é essencial. Há alguns modos de se fazer isso.\n",
    " \n",
    " - Você pode ver todo o codigo da fonte por meio do terminal do Python (Não recomendado).\n",
    " - Ou visualizar o codigo fonte por meio do seu navegador(clique no botão direito da pagina e selececione \"Exibir codigo fonte da página\") Essa é a maneira mais confiável de encontrar seu conteúdo de destino ."
   ]
  },
  {
   "cell_type": "markdown",
   "metadata": {},
   "source": [
    "- Vamos utilizar a visualização por meio do navegador, nesse caso, preciso encontrar meu conteúdo de destino - um endereço, cidade, estado e CEP - nesse vasto codigo HTML. Muitas vezes, uma simples pesquisa na fonte da página (ctrl + F) gera a seção em que meu local de destino está localizado. Depois que posso realmente ver um exemplo do meu conteúdo de destino (o endereço de pelo menos uma loja), procuro um atributo ou marca que diferencia esse conteúdo do restante.\n",
    "- Procurando a palavra chave State, foi possivel achar onde estão os links que indicam os locais das lojas. No caso foram achadas esse endereços entre as tags \"href\". Portanto vamos procurar por meio do find_all."
   ]
  },
  {
   "cell_type": "code",
   "execution_count": 7,
   "metadata": {},
   "outputs": [
    {
     "data": {
      "text/plain": [
       "[]"
      ]
     },
     "execution_count": 7,
     "metadata": {},
     "output_type": "execute_result"
    }
   ],
   "source": [
    "dollar_tree_list = soup.find_all('href')\n",
    "dollar_tree_list"
   ]
  },
  {
   "cell_type": "markdown",
   "metadata": {},
   "source": [
    "- Procurar href não produziu nada. Isso pode ter falhado porque o href está aninhado dentro da lista de itens da classe. Para a próxima tentativa, pesquise item_list. Como \"class\" é uma palavra reservada no Python, class_ é usado em seu lugar."
   ]
  },
  {
   "cell_type": "code",
   "execution_count": 17,
   "metadata": {},
   "outputs": [],
   "source": [
    "#Procurando agora itemlist tag que contem os endereços.\n",
    "\n",
    "dollar_tree_list = soup.find_all(class_ = 'itemlist')"
   ]
  },
  {
   "cell_type": "code",
   "execution_count": 19,
   "metadata": {},
   "outputs": [
    {
     "name": "stdout",
     "output_type": "stream",
     "text": [
      "<div class=\"itemlist\" data-fl=\"A\"><a class=\"ga_w2gi_lp\" data-gaact=\"Click_to_CityPage\" data-galoc=\"Aberdeen - ID\" dta-linktrack=\"City index page - Aberdeen\" href=\"https://www.familydollar.com/locations/id/aberdeen/\">Aberdeen</a></div>\n",
      "<div class=\"itemlist\" data-fl=\"A\"><a class=\"ga_w2gi_lp\" data-gaact=\"Click_to_CityPage\" data-galoc=\"American Falls - ID\" dta-linktrack=\"City index page - American Falls\" href=\"https://www.familydollar.com/locations/id/american-falls/\">American Falls</a></div>\n"
     ]
    }
   ],
   "source": [
    "for i in dollar_tree_list[:2]:\n",
    "  print(i)"
   ]
  },
  {
   "cell_type": "code",
   "execution_count": 20,
   "metadata": {},
   "outputs": [
    {
     "data": {
      "text/plain": [
       "48"
      ]
     },
     "execution_count": 20,
     "metadata": {},
     "output_type": "execute_result"
    }
   ],
   "source": [
    "#Agora vamos aprender mais sobre o objeto:\n",
    "len(dollar_tree_list)"
   ]
  },
  {
   "cell_type": "code",
   "execution_count": 24,
   "metadata": {},
   "outputs": [
    {
     "data": {
      "text/plain": [
       "bs4.element.ResultSet"
      ]
     },
     "execution_count": 24,
     "metadata": {},
     "output_type": "execute_result"
    }
   ],
   "source": [
    "type(dollar_tree_list)"
   ]
  },
  {
   "cell_type": "code",
   "execution_count": 23,
   "metadata": {},
   "outputs": [
    {
     "name": "stdout",
     "output_type": "stream",
     "text": [
      "[<a class=\"ga_w2gi_lp\" data-gaact=\"Click_to_CityPage\" data-galoc=\"Homedale - ID\" dta-linktrack=\"City index page - Homedale\" href=\"https://www.familydollar.com/locations/id/homedale/\">Homedale</a>]\n"
     ]
    }
   ],
   "source": [
    "#O conteúdo deste BeautifulSoup \"ResultSet\" pode ser extraído usando .contents. \n",
    "#Este também é um bom momento para criar um único exemplo representativo.\n",
    "\n",
    "example = dollar_tree_list[20] # a representative example\n",
    "example_content = example.contents\n",
    "print(example_content)"
   ]
  },
  {
   "cell_type": "code",
   "execution_count": 25,
   "metadata": {},
   "outputs": [
    {
     "data": {
      "text/plain": [
       "{'class': ['ga_w2gi_lp'],\n",
       " 'data-galoc': 'Homedale - ID',\n",
       " 'data-gaact': 'Click_to_CityPage',\n",
       " 'dta-linktrack': 'City index page - Homedale',\n",
       " 'href': 'https://www.familydollar.com/locations/id/homedale/'}"
      ]
     },
     "execution_count": 25,
     "metadata": {},
     "output_type": "execute_result"
    }
   ],
   "source": [
    "#Use .attr para encontrar quais atributos estão presentes no conteúdo deste objeto em forma de dicionário\n",
    "#Nota: .contents geralmente retorna uma lista de exatamente um item; portanto, a primeira etapa é indexar esse item usando a notação de colchete.\n",
    "\n",
    "example_content = example.contents[0]\n",
    "example_content.attrs"
   ]
  },
  {
   "cell_type": "code",
   "execution_count": 26,
   "metadata": {},
   "outputs": [
    {
     "name": "stdout",
     "output_type": "stream",
     "text": [
      "https://www.familydollar.com/locations/id/homedale/\n"
     ]
    }
   ],
   "source": [
    "#Agora podemos ver que \"href\" é um atributo e podemos extrair como um item de dicionário.\n",
    "\n",
    "example_href = example_content['href']\n",
    "print(example_href)"
   ]
  },
  {
   "cell_type": "markdown",
   "metadata": {},
   "source": [
    "**Montando o nosso web scraper**\n"
   ]
  },
  {
   "cell_type": "code",
   "execution_count": 27,
   "metadata": {},
   "outputs": [],
   "source": [
    "#Abaixo temos a versão limpa do que descobrimos acima.\n",
    "\n",
    "city_hrefs = [] # iniciando com uma lista vazia\n",
    "\n",
    "for i in dollar_tree_list:#em cada item da lista\n",
    "    cont = i.contents[0]#o conteudo do resultset é extraido\n",
    "    href = cont['href']#retirado o link\n",
    "    city_hrefs.append(href)# e adicionado a lista criada\n"
   ]
  },
  {
   "cell_type": "code",
   "execution_count": 29,
   "metadata": {},
   "outputs": [
    {
     "name": "stdout",
     "output_type": "stream",
     "text": [
      "https://www.familydollar.com/locations/id/aberdeen/\n",
      "https://www.familydollar.com/locations/id/american-falls/\n",
      "https://www.familydollar.com/locations/id/arco/\n"
     ]
    }
   ],
   "source": [
    "#Checando os resultados\n",
    "for i in city_hrefs[:3]:\n",
    "  print(i)"
   ]
  },
  {
   "cell_type": "markdown",
   "metadata": {},
   "source": [
    "- Ainda não tenho informações de endereço. Agora, o URL de cada cidade precisa ser obtido para termos essas informações. Então, reiniciamos o processo, usando um exemplo único e representativo.\n",
    "- As informações de endereço estão aninhadas em type = \"application / ld + json\". Felizmente, soup.find_all () também permite pesquisar no tipo.\n"
   ]
  },
  {
   "cell_type": "code",
   "execution_count": 35,
   "metadata": {},
   "outputs": [],
   "source": [
    "page2 = requests.get(city_hrefs[2]) # Exemplo representativo\n",
    "soup2 = BeautifulSoup(page2.text, 'html.parser')"
   ]
  },
  {
   "cell_type": "code",
   "execution_count": 37,
   "metadata": {
    "scrolled": true
   },
   "outputs": [
    {
     "name": "stdout",
     "output_type": "stream",
     "text": [
      "[<script type=\"application/ld+json\">\n",
      "    {\n",
      "      \"@context\": \"https://schema.org\",\n",
      "      \"@type\": \"BreadcrumbList\",\n",
      "      \"itemListElement\": [{\n",
      "        \"@type\": \"ListItem\",\n",
      "        \"position\": 1,\n",
      "        \"item\": {\n",
      "          \"@id\": \"https://www.familydollar.com/locations/\",\n",
      "          \"name\": \"Index\"\n",
      "        }\n",
      "      },{\n",
      "        \"@type\": \"ListItem\",\n",
      "        \"position\": 2,\n",
      "        \"item\": {\n",
      "          \"@id\": \"https://www.familydollar.com/locations/id/\",\n",
      "          \"name\": \"ID\"\n",
      "        }\n",
      "      }]\n",
      "    }\n",
      "</script>, <script type=\"application/ld+json\">\n",
      "\t{\n",
      "\t  \"@context\":\"https://schema.org\",\n",
      "\t  \"@type\":\"Schema Business Type\",\n",
      "\t  \"name\": \"Family Dollar #9143\",\n",
      "\t  \"address\":{\n",
      "\t    \"@type\":\"PostalAddress\",\n",
      "\t    \"streetAddress\":\"157 W Grand Avenue\",\n",
      "\t    \"addressLocality\":\"Arco\",\n",
      "\t    \"addressRegion\":\"ID\",\n",
      "\t    \"postalCode\":\"83213\",\n",
      "\t    \"addressCountry\":\"US\"\n",
      "\t  },\n",
      "\t  \"containedIn\":\"\",  \n",
      "\t  \"branchOf\": {\n",
      "\t    \"name\":\"Family Dollar\",\n",
      "\t    \"url\": \"https://www.familydollar.com/\"\n",
      "\t  },\n",
      "\t  \"url\":\"https://www.familydollar.com/locations/id/arco/29143/\",\n",
      "\t  \"telephone\":\"208-881-5738\",\n",
      "\t  \"image\": \"//hosted.where2getit.com/familydollarstore/images/storefront.png\"\n",
      "\t}\t\t\t\n",
      "\t</script>]\n"
     ]
    }
   ],
   "source": [
    "arco = soup2.find_all(type=\"application/ld+json\")\n",
    "print(arco)"
   ]
  },
  {
   "cell_type": "markdown",
   "metadata": {},
   "source": [
    "- Agora conseguimos o endereço que está no segundo membro da lista!\n",
    "- Extraí o conteúdo (do segundo item da lista) usando .contents (essa é uma boa ação padrão depois de filtrar a sopa). Novamente, como a saída do conteúdo é uma lista de um, indexei esse item da lista:"
   ]
  },
  {
   "cell_type": "code",
   "execution_count": 38,
   "metadata": {},
   "outputs": [
    {
     "data": {
      "text/plain": [
       "'\\n\\t{\\n\\t  \"@context\":\"https://schema.org\",\\n\\t  \"@type\":\"Schema Business Type\",\\n\\t  \"name\": \"Family Dollar #9143\",\\n\\t  \"address\":{\\n\\t    \"@type\":\"PostalAddress\",\\n\\t    \"streetAddress\":\"157 W Grand Avenue\",\\n\\t    \"addressLocality\":\"Arco\",\\n\\t    \"addressRegion\":\"ID\",\\n\\t    \"postalCode\":\"83213\",\\n\\t    \"addressCountry\":\"US\"\\n\\t  },\\n\\t  \"containedIn\":\"\",  \\n\\t  \"branchOf\": {\\n\\t    \"name\":\"Family Dollar\",\\n\\t    \"url\": \"https://www.familydollar.com/\"\\n\\t  },\\n\\t  \"url\":\"https://www.familydollar.com/locations/id/arco/29143/\",\\n\\t  \"telephone\":\"208-881-5738\",\\n\\t  \"image\": \"//hosted.where2getit.com/familydollarstore/images/storefront.png\"\\n\\t}\\t\\t\\t\\n\\t'"
      ]
     },
     "execution_count": 38,
     "metadata": {},
     "output_type": "execute_result"
    }
   ],
   "source": [
    "arco_contents = arco[1].contents[0]\n",
    "arco_contents"
   ]
  },
  {
   "cell_type": "code",
   "execution_count": 39,
   "metadata": {},
   "outputs": [
    {
     "name": "stdout",
     "output_type": "stream",
     "text": [
      "\n",
      "\t{\n",
      "\t  \"@context\":\"https://schema.org\",\n",
      "\t  \"@type\":\"Schema Business Type\",\n",
      "\t  \"name\": \"Family Dollar #9143\",\n",
      "\t  \"address\":{\n",
      "\t    \"@type\":\"PostalAddress\",\n",
      "\t    \"streetAddress\":\"157 W Grand Avenue\",\n",
      "\t    \"addressLocality\":\"Arco\",\n",
      "\t    \"addressRegion\":\"ID\",\n",
      "\t    \"postalCode\":\"83213\",\n",
      "\t    \"addressCountry\":\"US\"\n",
      "\t  },\n",
      "\t  \"containedIn\":\"\",  \n",
      "\t  \"branchOf\": {\n",
      "\t    \"name\":\"Family Dollar\",\n",
      "\t    \"url\": \"https://www.familydollar.com/\"\n",
      "\t  },\n",
      "\t  \"url\":\"https://www.familydollar.com/locations/id/arco/29143/\",\n",
      "\t  \"telephone\":\"208-881-5738\",\n",
      "\t  \"image\": \"//hosted.where2getit.com/familydollarstore/images/storefront.png\"\n",
      "\t}\t\t\t\n",
      "\t\n"
     ]
    }
   ],
   "source": [
    "print(arco_contents)"
   ]
  },
  {
   "cell_type": "markdown",
   "metadata": {},
   "source": [
    "- O formato apresentado aqui é consistente com o formato JSON.\n",
    "- Um objeto JSON pode atuar como um dicionário com dicionários aninhados dentro.\n",
    "- Embora isso pareça estruturalmente com um objeto JSON, ainda é um objeto bs4 e precisa de uma conversão programática formal em JSON para ser acessada como um objeto JSON:\n"
   ]
  },
  {
   "cell_type": "code",
   "execution_count": 40,
   "metadata": {},
   "outputs": [],
   "source": [
    "#Convertendo para o formato JSON\n",
    "\n",
    "arco_json =  json.loads(arco_contents)"
   ]
  },
  {
   "cell_type": "code",
   "execution_count": 43,
   "metadata": {},
   "outputs": [
    {
     "data": {
      "text/plain": [
       "dict"
      ]
     },
     "execution_count": 43,
     "metadata": {},
     "output_type": "execute_result"
    }
   ],
   "source": [
    "type(arco_json)"
   ]
  },
  {
   "cell_type": "code",
   "execution_count": 42,
   "metadata": {},
   "outputs": [
    {
     "name": "stdout",
     "output_type": "stream",
     "text": [
      "{'@context': 'https://schema.org', '@type': 'Schema Business Type', 'name': 'Family Dollar #9143', 'address': {'@type': 'PostalAddress', 'streetAddress': '157 W Grand Avenue', 'addressLocality': 'Arco', 'addressRegion': 'ID', 'postalCode': '83213', 'addressCountry': 'US'}, 'containedIn': '', 'branchOf': {'name': 'Family Dollar', 'url': 'https://www.familydollar.com/'}, 'url': 'https://www.familydollar.com/locations/id/arco/29143/', 'telephone': '208-881-5738', 'image': '//hosted.where2getit.com/familydollarstore/images/storefront.png'}\n"
     ]
    }
   ],
   "source": [
    "print(arco_json)"
   ]
  },
  {
   "cell_type": "code",
   "execution_count": 46,
   "metadata": {},
   "outputs": [
    {
     "data": {
      "text/plain": [
       "{'@type': 'PostalAddress',\n",
       " 'streetAddress': '157 W Grand Avenue',\n",
       " 'addressLocality': 'Arco',\n",
       " 'addressRegion': 'ID',\n",
       " 'postalCode': '83213',\n",
       " 'addressCountry': 'US'}"
      ]
     },
     "execution_count": 46,
     "metadata": {},
     "output_type": "execute_result"
    }
   ],
   "source": [
    "#Nesse conteúdo, há uma chave chamada endereço que possui as informações de endereço desejadas no dicionário aninhado menor.\n",
    "\n",
    "arco_address = arco_json['address']\n",
    "arco_address"
   ]
  },
  {
   "cell_type": "markdown",
   "metadata": {},
   "source": [
    "- Agora eu posso percorrer os URLs da loja de lista em Idaho Falls:"
   ]
  },
  {
   "cell_type": "code",
   "execution_count": 47,
   "metadata": {},
   "outputs": [],
   "source": [
    "locs_dict = [] # inicializa em uma lista vazia\n",
    "\n",
    "for link in city_hrefs:\n",
    "  locpage = requests.get(link)   # solicita infromação da pagina\n",
    "  locsoup = BeautifulSoup(locpage.text, 'html.parser') \n",
    "      # analisa o conteúdo da pagina\n",
    "  locinfo = locsoup.find_all(type=\"application/ld+json\") \n",
    "      # extrai elemento expecifico onde contem o endereço\n",
    "  loccont = locinfo[1].contents[0]  \n",
    "      # pega o elemento em bs4\n",
    "  locjson = json.loads(loccont)  # converte em json\n",
    "  locaddr = locjson['address'] # pega o endereço\n",
    "  locs_dict.append(locaddr)#adiciona a lista"
   ]
  },
  {
   "cell_type": "markdown",
   "metadata": {},
   "source": [
    "- Temos muitos dados em um dicionário, mas temos algumas informações adicionais que tornarão a reutilização de nossos dados mais complexa do que precisa.\n",
    "- Para executar algumas etapas finais da organização de dados, convertemos para um data frame do pandas, descartamos as colunas desnecessárias (\"@type\" e \"country\") e verificamos as cinco principais linhas para garantir que tudo fique bem."
   ]
  },
  {
   "cell_type": "code",
   "execution_count": 54,
   "metadata": {},
   "outputs": [],
   "source": [
    "locs_df = df.from_records(locs_dict)#tranforma em uma data frame\n",
    "locs_df.drop(['@type', 'addressCountry', 'addressRegion'], axis = 1, inplace = True)#retira as variáveis '@type', 'addressCountry'.\n",
    "\n"
   ]
  },
  {
   "cell_type": "code",
   "execution_count": 55,
   "metadata": {
    "scrolled": true
   },
   "outputs": [
    {
     "data": {
      "text/html": [
       "<div>\n",
       "<style scoped>\n",
       "    .dataframe tbody tr th:only-of-type {\n",
       "        vertical-align: middle;\n",
       "    }\n",
       "\n",
       "    .dataframe tbody tr th {\n",
       "        vertical-align: top;\n",
       "    }\n",
       "\n",
       "    .dataframe thead th {\n",
       "        text-align: right;\n",
       "    }\n",
       "</style>\n",
       "<table border=\"1\" class=\"dataframe\">\n",
       "  <thead>\n",
       "    <tr style=\"text-align: right;\">\n",
       "      <th></th>\n",
       "      <th>streetAddress</th>\n",
       "      <th>addressLocality</th>\n",
       "      <th>postalCode</th>\n",
       "    </tr>\n",
       "  </thead>\n",
       "  <tbody>\n",
       "    <tr>\n",
       "      <th>0</th>\n",
       "      <td>111 N Main Street</td>\n",
       "      <td>Aberdeen</td>\n",
       "      <td>83210</td>\n",
       "    </tr>\n",
       "    <tr>\n",
       "      <th>1</th>\n",
       "      <td>253 Harrison St</td>\n",
       "      <td>American Falls</td>\n",
       "      <td>83211</td>\n",
       "    </tr>\n",
       "    <tr>\n",
       "      <th>2</th>\n",
       "      <td>157 W Grand Avenue</td>\n",
       "      <td>Arco</td>\n",
       "      <td>83213</td>\n",
       "    </tr>\n",
       "    <tr>\n",
       "      <th>3</th>\n",
       "      <td>177 Main Street</td>\n",
       "      <td>Ashton</td>\n",
       "      <td>83420</td>\n",
       "    </tr>\n",
       "    <tr>\n",
       "      <th>4</th>\n",
       "      <td>747 N. Main St.</td>\n",
       "      <td>Bellevue</td>\n",
       "      <td>83313</td>\n",
       "    </tr>\n",
       "    <tr>\n",
       "      <th>5</th>\n",
       "      <td>67 Sw Main St</td>\n",
       "      <td>Blackfoot</td>\n",
       "      <td>83221</td>\n",
       "    </tr>\n",
       "    <tr>\n",
       "      <th>6</th>\n",
       "      <td>2901 W State St.</td>\n",
       "      <td>Boise</td>\n",
       "      <td>83702</td>\n",
       "    </tr>\n",
       "    <tr>\n",
       "      <th>7</th>\n",
       "      <td>415 Broadway Ave S</td>\n",
       "      <td>Buhl</td>\n",
       "      <td>83316</td>\n",
       "    </tr>\n",
       "    <tr>\n",
       "      <th>8</th>\n",
       "      <td>1408 Overland Ave</td>\n",
       "      <td>Burley</td>\n",
       "      <td>83318</td>\n",
       "    </tr>\n",
       "    <tr>\n",
       "      <th>9</th>\n",
       "      <td>2402 E Linden St</td>\n",
       "      <td>Caldwell</td>\n",
       "      <td>83605</td>\n",
       "    </tr>\n",
       "    <tr>\n",
       "      <th>10</th>\n",
       "      <td>340 N Main Street</td>\n",
       "      <td>Cascade</td>\n",
       "      <td>83611</td>\n",
       "    </tr>\n",
       "    <tr>\n",
       "      <th>11</th>\n",
       "      <td>780 South Us Highway 93</td>\n",
       "      <td>Challis</td>\n",
       "      <td>83226</td>\n",
       "    </tr>\n",
       "    <tr>\n",
       "      <th>12</th>\n",
       "      <td>120 W Chubbuck</td>\n",
       "      <td>Chubbuck</td>\n",
       "      <td>83202</td>\n",
       "    </tr>\n",
       "    <tr>\n",
       "      <th>13</th>\n",
       "      <td>170 S Main St.</td>\n",
       "      <td>Driggs</td>\n",
       "      <td>83422</td>\n",
       "    </tr>\n",
       "    <tr>\n",
       "      <th>14</th>\n",
       "      <td>135 S Washington Ave</td>\n",
       "      <td>Emmett</td>\n",
       "      <td>83617</td>\n",
       "    </tr>\n",
       "    <tr>\n",
       "      <th>15</th>\n",
       "      <td>505 Highway 30</td>\n",
       "      <td>Filer</td>\n",
       "      <td>83328</td>\n",
       "    </tr>\n",
       "    <tr>\n",
       "      <th>16</th>\n",
       "      <td>221 West Legacy Drive</td>\n",
       "      <td>Franklin</td>\n",
       "      <td>83237</td>\n",
       "    </tr>\n",
       "    <tr>\n",
       "      <th>17</th>\n",
       "      <td>825 E. 1st Ave.</td>\n",
       "      <td>Glenns Ferry</td>\n",
       "      <td>83623</td>\n",
       "    </tr>\n",
       "    <tr>\n",
       "      <th>18</th>\n",
       "      <td>1902 State Highway 46</td>\n",
       "      <td>Gooding</td>\n",
       "      <td>83330</td>\n",
       "    </tr>\n",
       "    <tr>\n",
       "      <th>19</th>\n",
       "      <td>370 South East Street</td>\n",
       "      <td>Grangeville</td>\n",
       "      <td>83530</td>\n",
       "    </tr>\n",
       "    <tr>\n",
       "      <th>20</th>\n",
       "      <td>330 W Idaho Ave</td>\n",
       "      <td>Homedale</td>\n",
       "      <td>83628</td>\n",
       "    </tr>\n",
       "    <tr>\n",
       "      <th>21</th>\n",
       "      <td>145 N Woodruff Ave</td>\n",
       "      <td>Idaho Falls</td>\n",
       "      <td>83401</td>\n",
       "    </tr>\n",
       "    <tr>\n",
       "      <th>22</th>\n",
       "      <td>1015 S Lincoln Ave</td>\n",
       "      <td>Jerome</td>\n",
       "      <td>83338</td>\n",
       "    </tr>\n",
       "    <tr>\n",
       "      <th>23</th>\n",
       "      <td>1541 Main St. N</td>\n",
       "      <td>Kimberly</td>\n",
       "      <td>83341</td>\n",
       "    </tr>\n",
       "    <tr>\n",
       "      <th>24</th>\n",
       "      <td>349 E Avalon St</td>\n",
       "      <td>Kuna</td>\n",
       "      <td>83634</td>\n",
       "    </tr>\n",
       "    <tr>\n",
       "      <th>25</th>\n",
       "      <td>255 E. 50th S</td>\n",
       "      <td>Malad City</td>\n",
       "      <td>83252</td>\n",
       "    </tr>\n",
       "    <tr>\n",
       "      <th>26</th>\n",
       "      <td>150 Main Street</td>\n",
       "      <td>Marsing</td>\n",
       "      <td>83639</td>\n",
       "    </tr>\n",
       "    <tr>\n",
       "      <th>27</th>\n",
       "      <td>507 Center</td>\n",
       "      <td>Mccammon</td>\n",
       "      <td>83250</td>\n",
       "    </tr>\n",
       "    <tr>\n",
       "      <th>28</th>\n",
       "      <td>206 E. Main Street</td>\n",
       "      <td>Middleton</td>\n",
       "      <td>83644</td>\n",
       "    </tr>\n",
       "    <tr>\n",
       "      <th>29</th>\n",
       "      <td>130 N 4th Street</td>\n",
       "      <td>Montpelier</td>\n",
       "      <td>83254</td>\n",
       "    </tr>\n",
       "    <tr>\n",
       "      <th>30</th>\n",
       "      <td>204 11th Avenue N</td>\n",
       "      <td>Nampa</td>\n",
       "      <td>83687</td>\n",
       "    </tr>\n",
       "    <tr>\n",
       "      <th>31</th>\n",
       "      <td>301 Virginia Street</td>\n",
       "      <td>New Meadows</td>\n",
       "      <td>83654</td>\n",
       "    </tr>\n",
       "    <tr>\n",
       "      <th>32</th>\n",
       "      <td>12978 Hwy 12</td>\n",
       "      <td>Orofino</td>\n",
       "      <td>83544</td>\n",
       "    </tr>\n",
       "    <tr>\n",
       "      <th>33</th>\n",
       "      <td>411 E Grove Avenue</td>\n",
       "      <td>Parma</td>\n",
       "      <td>83660</td>\n",
       "    </tr>\n",
       "    <tr>\n",
       "      <th>34</th>\n",
       "      <td>1244 16th St.</td>\n",
       "      <td>Payette</td>\n",
       "      <td>83661</td>\n",
       "    </tr>\n",
       "    <tr>\n",
       "      <th>35</th>\n",
       "      <td>1433 N Main St</td>\n",
       "      <td>Pocatello</td>\n",
       "      <td>83204</td>\n",
       "    </tr>\n",
       "    <tr>\n",
       "      <th>36</th>\n",
       "      <td>197 S State St</td>\n",
       "      <td>Preston</td>\n",
       "      <td>83263</td>\n",
       "    </tr>\n",
       "    <tr>\n",
       "      <th>37</th>\n",
       "      <td>247 S State St</td>\n",
       "      <td>Rigby</td>\n",
       "      <td>83442</td>\n",
       "    </tr>\n",
       "    <tr>\n",
       "      <th>38</th>\n",
       "      <td>4269 E County Line Road</td>\n",
       "      <td>Ririe</td>\n",
       "      <td>83443</td>\n",
       "    </tr>\n",
       "    <tr>\n",
       "      <th>39</th>\n",
       "      <td>311 F St</td>\n",
       "      <td>Rupert</td>\n",
       "      <td>83350</td>\n",
       "    </tr>\n",
       "    <tr>\n",
       "      <th>40</th>\n",
       "      <td>1315 Main Street</td>\n",
       "      <td>Salmon</td>\n",
       "      <td>83467</td>\n",
       "    </tr>\n",
       "    <tr>\n",
       "      <th>41</th>\n",
       "      <td>560 S State St</td>\n",
       "      <td>Shelley</td>\n",
       "      <td>83274</td>\n",
       "    </tr>\n",
       "    <tr>\n",
       "      <th>42</th>\n",
       "      <td>910 S Greenwood Street</td>\n",
       "      <td>Shoshone</td>\n",
       "      <td>83352</td>\n",
       "    </tr>\n",
       "    <tr>\n",
       "      <th>43</th>\n",
       "      <td>156 E 2nd St</td>\n",
       "      <td>Soda Springs</td>\n",
       "      <td>83276</td>\n",
       "    </tr>\n",
       "    <tr>\n",
       "      <th>44</th>\n",
       "      <td>100 West 2nd North</td>\n",
       "      <td>St Anthony</td>\n",
       "      <td>83445</td>\n",
       "    </tr>\n",
       "    <tr>\n",
       "      <th>45</th>\n",
       "      <td>1746 Addison Ave E</td>\n",
       "      <td>Twin Falls</td>\n",
       "      <td>83301</td>\n",
       "    </tr>\n",
       "    <tr>\n",
       "      <th>46</th>\n",
       "      <td>512 E 7th St</td>\n",
       "      <td>Weiser</td>\n",
       "      <td>83672</td>\n",
       "    </tr>\n",
       "    <tr>\n",
       "      <th>47</th>\n",
       "      <td>597 S Idaho St</td>\n",
       "      <td>Wendell</td>\n",
       "      <td>83355</td>\n",
       "    </tr>\n",
       "  </tbody>\n",
       "</table>\n",
       "</div>"
      ],
      "text/plain": [
       "              streetAddress addressLocality postalCode\n",
       "0         111 N Main Street        Aberdeen      83210\n",
       "1           253 Harrison St  American Falls      83211\n",
       "2        157 W Grand Avenue            Arco      83213\n",
       "3           177 Main Street          Ashton      83420\n",
       "4           747 N. Main St.        Bellevue      83313\n",
       "5             67 Sw Main St       Blackfoot      83221\n",
       "6          2901 W State St.           Boise      83702\n",
       "7        415 Broadway Ave S            Buhl      83316\n",
       "8         1408 Overland Ave          Burley      83318\n",
       "9          2402 E Linden St        Caldwell      83605\n",
       "10        340 N Main Street         Cascade      83611\n",
       "11  780 South Us Highway 93         Challis      83226\n",
       "12           120 W Chubbuck        Chubbuck      83202\n",
       "13           170 S Main St.          Driggs      83422\n",
       "14     135 S Washington Ave          Emmett      83617\n",
       "15           505 Highway 30           Filer      83328\n",
       "16    221 West Legacy Drive        Franklin      83237\n",
       "17          825 E. 1st Ave.    Glenns Ferry      83623\n",
       "18    1902 State Highway 46         Gooding      83330\n",
       "19    370 South East Street     Grangeville      83530\n",
       "20          330 W Idaho Ave        Homedale      83628\n",
       "21       145 N Woodruff Ave     Idaho Falls      83401\n",
       "22       1015 S Lincoln Ave          Jerome      83338\n",
       "23          1541 Main St. N        Kimberly      83341\n",
       "24          349 E Avalon St            Kuna      83634\n",
       "25            255 E. 50th S      Malad City      83252\n",
       "26          150 Main Street         Marsing      83639\n",
       "27               507 Center        Mccammon      83250\n",
       "28       206 E. Main Street       Middleton      83644\n",
       "29         130 N 4th Street      Montpelier      83254\n",
       "30        204 11th Avenue N           Nampa      83687\n",
       "31      301 Virginia Street     New Meadows      83654\n",
       "32             12978 Hwy 12         Orofino      83544\n",
       "33       411 E Grove Avenue           Parma      83660\n",
       "34            1244 16th St.         Payette      83661\n",
       "35           1433 N Main St       Pocatello      83204\n",
       "36           197 S State St         Preston      83263\n",
       "37           247 S State St           Rigby      83442\n",
       "38  4269 E County Line Road           Ririe      83443\n",
       "39                 311 F St          Rupert      83350\n",
       "40         1315 Main Street          Salmon      83467\n",
       "41           560 S State St         Shelley      83274\n",
       "42   910 S Greenwood Street        Shoshone      83352\n",
       "43             156 E 2nd St    Soda Springs      83276\n",
       "44       100 West 2nd North      St Anthony      83445\n",
       "45       1746 Addison Ave E      Twin Falls      83301\n",
       "46             512 E 7th St          Weiser      83672\n",
       "47           597 S Idaho St         Wendell      83355"
      ]
     },
     "execution_count": 55,
     "metadata": {},
     "output_type": "execute_result"
    }
   ],
   "source": [
    "locs_df.head(50)#Visualiza o data frame"
   ]
  },
  {
   "cell_type": "code",
   "execution_count": 56,
   "metadata": {},
   "outputs": [],
   "source": [
    "#Agora podemos salvar os nossos resultados.\n",
    "\n",
    "df.to_csv(locs_df, \"family_dollar_ID_locations.csv\", sep = \",\", index = False)"
   ]
  },
  {
   "cell_type": "code",
   "execution_count": 57,
   "metadata": {},
   "outputs": [],
   "source": [
    "#Olhar também o Selenium"
   ]
  }
 ],
 "metadata": {
  "kernelspec": {
   "display_name": "Python 3",
   "language": "python",
   "name": "python3"
  },
  "language_info": {
   "codemirror_mode": {
    "name": "ipython",
    "version": 3
   },
   "file_extension": ".py",
   "mimetype": "text/x-python",
   "name": "python",
   "nbconvert_exporter": "python",
   "pygments_lexer": "ipython3",
   "version": "3.7.3"
  }
 },
 "nbformat": 4,
 "nbformat_minor": 4
}
