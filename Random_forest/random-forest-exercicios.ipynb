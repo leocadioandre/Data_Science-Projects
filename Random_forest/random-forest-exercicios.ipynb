{
 "cells": [
  {
   "cell_type": "markdown",
   "metadata": {},
   "source": [
    "# Machine Learning - Random Forest\n"
   ]
  },
  {
   "cell_type": "markdown",
   "metadata": {},
   "source": [
    "## Exercícios"
   ]
  },
  {
   "cell_type": "markdown",
   "metadata": {},
   "source": [
    "**1) Baseado em seus conhecimentos sobre Random Forest explique suas vantagens e desvantagens.**\n",
    "\n",
    "* As vantagens são: \n",
    "*\n",
    "- Pode ser utilizado tanto pra regressão quanto para classificação.\n",
    "- Possui uma facil visualização devido as arvores pra entener o processo e a importancia de cada caracteristicas.\n",
    "- Algoritmo facil devido ao seus autoparametros no modo defaut, obterem bons resultados, evitando uma maior complexidade, para obter previsões boas.\n",
    "- Evita o sobreajuste, pois dependendo do numero de arvores escolhidas ficará mais dificil do modelo causar sobreajuste sobre os dados de treino.\n",
    "\n",
    "* Desvantagens são:\n",
    "*\n",
    "- Se o algoritmo possuir um número grande de árvores pode torna-lo custoso computacionalmente para coloca-lo em produção.\n",
    "- É uma ferramenta de modelagem preditiva e não descritiva. Isto significa que, se você está procurando uma descrição dos relacionamentos nos seus dados, você deve escolher outras abordagens que possuem uma estatistica descritiva e relacional dos dados."
   ]
  },
  {
   "cell_type": "markdown",
   "metadata": {},
   "source": [
    "**2) Explique de forma teórica:<br>**\n",
    "* 2.1 - O que é Bootstrap Dataset ?\n",
    "- O método de Bootstrap é uma técnica de reamostragem usada para estimar estatísticas em uma população amostrando um conjunto de dados com substituição. Pode ser usado para estimar estatísticas resumidas, como média ou desvio padrão. Calculando a média de estimativas de várias pequenas amostras de dados.\n",
    "\n",
    "* 2.2 - Por que as árvores que compoem a floresta são diferentes?\n",
    "- São diferentes devido a cada uma apresentar uma amostra de dados aleatória diferente, portanto cada arvore indica uma amostra de dados diferentes para treino do algoritmo, tendo assiom uma maior robustez na previsão, A previsão será feita por meio da soma dos resultados obtidos em cada árvore, indicando assim a maior soma a classe escolhida."
   ]
  },
  {
   "cell_type": "markdown",
   "metadata": {},
   "source": [
    "**3) Para que serve o parâmetro n_estimators do objeto RandomForestClassifier ?**\n",
    "- Este parametro indica o número de árvores que será criada no modelo, portanto quanto mais arvores, mais robusto o resultado e maior o gasto computacional utilizado."
   ]
  },
  {
   "cell_type": "markdown",
   "metadata": {},
   "source": [
    "**4) É possível controlar o crescimento das árvores da floresta ?**\n",
    "\n",
    "Sim é possivel controlar por meio do parametro max_deph, que indica a profundida da arvore."
   ]
  },
  {
   "cell_type": "markdown",
   "metadata": {},
   "source": [
    "**5) Utilizando o dataset iris.csv faça:**\n",
    "* 5.1 - Carregue a base de dados e separe os dados e as classes em variáveis distintas.\n",
    "* 5.2 - Treine um modelo baseado em Random Forest com um total de 20 árvores.\n",
    "* 5.3 - Utilizando o código abaixo, faça as alterações necessárias para listar **objetos DecisionTreeClassifiers** e suas propriedades como **profundidade máxima** e **features importantes** utilizando o modelo treinado no item anterior (5.2)."
   ]
  },
  {
   "cell_type": "code",
   "execution_count": 6,
   "metadata": {},
   "outputs": [],
   "source": [
    "# 5.1 - Carregue a base de dados e separe os dados e as classes em variáveis distintas.\n",
    "\n",
    "import pandas as pd\n",
    "import numpy as np \n",
    "\n",
    "data = pd.read_csv(\"iris.csv\")\n"
   ]
  },
  {
   "cell_type": "code",
   "execution_count": 10,
   "metadata": {},
   "outputs": [],
   "source": [
    "dados = data.drop(\"Species\", axis=1)\n",
    "classes = data.Species"
   ]
  },
  {
   "cell_type": "code",
   "execution_count": 15,
   "metadata": {},
   "outputs": [],
   "source": [
    "# 5.2 - Treine um modelo baseado em Random Forest com um total de 20 árvores.\n",
    "\n",
    "from sklearn.ensemble import RandomForestClassifier\n",
    "\n",
    "iris_clf = RandomForestClassifier(n_estimators=20)\n",
    "random_clf = iris_clf.fit(dados, classes)"
   ]
  },
  {
   "cell_type": "code",
   "execution_count": 16,
   "metadata": {},
   "outputs": [
    {
     "name": "stdout",
     "output_type": "stream",
     "text": [
      "\n",
      "Numero de nós: 27\n",
      "Profundidade da árvore: 7\n",
      "Features importantes: [0.53717525 0.17735968 0.07045089 0.21501419]\n",
      "\n",
      "Objeto: DecisionTreeClassifier(ccp_alpha=0.0, class_weight=None, criterion='gini',\n",
      "                       max_depth=None, max_features='auto', max_leaf_nodes=None,\n",
      "                       min_impurity_decrease=0.0, min_impurity_split=None,\n",
      "                       min_samples_leaf=1, min_samples_split=2,\n",
      "                       min_weight_fraction_leaf=0.0, presort='deprecated',\n",
      "                       random_state=1280765244, splitter='best')\n",
      "\n",
      "Numero de nós: 15\n",
      "Profundidade da árvore: 6\n",
      "Features importantes: [0.35990431 0.02894121 0.19882153 0.41233295]\n",
      "\n",
      "Objeto: DecisionTreeClassifier(ccp_alpha=0.0, class_weight=None, criterion='gini',\n",
      "                       max_depth=None, max_features='auto', max_leaf_nodes=None,\n",
      "                       min_impurity_decrease=0.0, min_impurity_split=None,\n",
      "                       min_samples_leaf=1, min_samples_split=2,\n",
      "                       min_weight_fraction_leaf=0.0, presort='deprecated',\n",
      "                       random_state=1857539099, splitter='best')\n",
      "\n",
      "Numero de nós: 7\n",
      "Profundidade da árvore: 3\n",
      "Features importantes: [0.         0.         0.62081359 0.37918641]\n",
      "\n",
      "Objeto: DecisionTreeClassifier(ccp_alpha=0.0, class_weight=None, criterion='gini',\n",
      "                       max_depth=None, max_features='auto', max_leaf_nodes=None,\n",
      "                       min_impurity_decrease=0.0, min_impurity_split=None,\n",
      "                       min_samples_leaf=1, min_samples_split=2,\n",
      "                       min_weight_fraction_leaf=0.0, presort='deprecated',\n",
      "                       random_state=1763565369, splitter='best')\n",
      "\n",
      "Numero de nós: 19\n",
      "Profundidade da árvore: 5\n",
      "Features importantes: [0.3682732  0.03387777 0.45292805 0.14492097]\n",
      "\n",
      "Objeto: DecisionTreeClassifier(ccp_alpha=0.0, class_weight=None, criterion='gini',\n",
      "                       max_depth=None, max_features='auto', max_leaf_nodes=None,\n",
      "                       min_impurity_decrease=0.0, min_impurity_split=None,\n",
      "                       min_samples_leaf=1, min_samples_split=2,\n",
      "                       min_weight_fraction_leaf=0.0, presort='deprecated',\n",
      "                       random_state=268253187, splitter='best')\n",
      "\n",
      "Numero de nós: 13\n",
      "Profundidade da árvore: 4\n",
      "Features importantes: [0.39841772 0.         0.48623818 0.1153441 ]\n",
      "\n",
      "Objeto: DecisionTreeClassifier(ccp_alpha=0.0, class_weight=None, criterion='gini',\n",
      "                       max_depth=None, max_features='auto', max_leaf_nodes=None,\n",
      "                       min_impurity_decrease=0.0, min_impurity_split=None,\n",
      "                       min_samples_leaf=1, min_samples_split=2,\n",
      "                       min_weight_fraction_leaf=0.0, presort='deprecated',\n",
      "                       random_state=1879786913, splitter='best')\n",
      "\n",
      "Numero de nós: 15\n",
      "Profundidade da árvore: 5\n",
      "Features importantes: [0.19401208 0.         0.15056109 0.65542683]\n",
      "\n",
      "Objeto: DecisionTreeClassifier(ccp_alpha=0.0, class_weight=None, criterion='gini',\n",
      "                       max_depth=None, max_features='auto', max_leaf_nodes=None,\n",
      "                       min_impurity_decrease=0.0, min_impurity_split=None,\n",
      "                       min_samples_leaf=1, min_samples_split=2,\n",
      "                       min_weight_fraction_leaf=0.0, presort='deprecated',\n",
      "                       random_state=406758564, splitter='best')\n",
      "\n",
      "Numero de nós: 21\n",
      "Profundidade da árvore: 6\n",
      "Features importantes: [0.02313133 0.02689256 0.45410293 0.49587318]\n",
      "\n",
      "Objeto: DecisionTreeClassifier(ccp_alpha=0.0, class_weight=None, criterion='gini',\n",
      "                       max_depth=None, max_features='auto', max_leaf_nodes=None,\n",
      "                       min_impurity_decrease=0.0, min_impurity_split=None,\n",
      "                       min_samples_leaf=1, min_samples_split=2,\n",
      "                       min_weight_fraction_leaf=0.0, presort='deprecated',\n",
      "                       random_state=1630313723, splitter='best')\n",
      "\n",
      "Numero de nós: 31\n",
      "Profundidade da árvore: 7\n",
      "Features importantes: [0.03521343 0.02129204 0.34736982 0.59612472]\n",
      "\n",
      "Objeto: DecisionTreeClassifier(ccp_alpha=0.0, class_weight=None, criterion='gini',\n",
      "                       max_depth=None, max_features='auto', max_leaf_nodes=None,\n",
      "                       min_impurity_decrease=0.0, min_impurity_split=None,\n",
      "                       min_samples_leaf=1, min_samples_split=2,\n",
      "                       min_weight_fraction_leaf=0.0, presort='deprecated',\n",
      "                       random_state=1042173007, splitter='best')\n",
      "\n",
      "Numero de nós: 23\n",
      "Profundidade da árvore: 7\n",
      "Features importantes: [0.20267127 0.01000534 0.69264591 0.09467748]\n",
      "\n",
      "Objeto: DecisionTreeClassifier(ccp_alpha=0.0, class_weight=None, criterion='gini',\n",
      "                       max_depth=None, max_features='auto', max_leaf_nodes=None,\n",
      "                       min_impurity_decrease=0.0, min_impurity_split=None,\n",
      "                       min_samples_leaf=1, min_samples_split=2,\n",
      "                       min_weight_fraction_leaf=0.0, presort='deprecated',\n",
      "                       random_state=63212067, splitter='best')\n",
      "\n",
      "Numero de nós: 9\n",
      "Profundidade da árvore: 4\n",
      "Features importantes: [0.01879144 0.         0.53505723 0.44615134]\n",
      "\n",
      "Objeto: DecisionTreeClassifier(ccp_alpha=0.0, class_weight=None, criterion='gini',\n",
      "                       max_depth=None, max_features='auto', max_leaf_nodes=None,\n",
      "                       min_impurity_decrease=0.0, min_impurity_split=None,\n",
      "                       min_samples_leaf=1, min_samples_split=2,\n",
      "                       min_weight_fraction_leaf=0.0, presort='deprecated',\n",
      "                       random_state=350818752, splitter='best')\n",
      "\n",
      "Numero de nós: 15\n",
      "Profundidade da árvore: 5\n",
      "Features importantes: [0.007161   0.0150381  0.10507509 0.87272582]\n",
      "\n",
      "Objeto: DecisionTreeClassifier(ccp_alpha=0.0, class_weight=None, criterion='gini',\n",
      "                       max_depth=None, max_features='auto', max_leaf_nodes=None,\n",
      "                       min_impurity_decrease=0.0, min_impurity_split=None,\n",
      "                       min_samples_leaf=1, min_samples_split=2,\n",
      "                       min_weight_fraction_leaf=0.0, presort='deprecated',\n",
      "                       random_state=1742911302, splitter='best')\n",
      "\n",
      "Numero de nós: 23\n",
      "Profundidade da árvore: 8\n",
      "Features importantes: [0.05514126 0.02129878 0.9041741  0.01938586]\n",
      "\n",
      "Objeto: DecisionTreeClassifier(ccp_alpha=0.0, class_weight=None, criterion='gini',\n",
      "                       max_depth=None, max_features='auto', max_leaf_nodes=None,\n",
      "                       min_impurity_decrease=0.0, min_impurity_split=None,\n",
      "                       min_samples_leaf=1, min_samples_split=2,\n",
      "                       min_weight_fraction_leaf=0.0, presort='deprecated',\n",
      "                       random_state=1938472350, splitter='best')\n",
      "\n",
      "Numero de nós: 13\n",
      "Profundidade da árvore: 4\n",
      "Features importantes: [0.03757885 0.         0.49836048 0.46406067]\n",
      "\n",
      "Objeto: DecisionTreeClassifier(ccp_alpha=0.0, class_weight=None, criterion='gini',\n",
      "                       max_depth=None, max_features='auto', max_leaf_nodes=None,\n",
      "                       min_impurity_decrease=0.0, min_impurity_split=None,\n",
      "                       min_samples_leaf=1, min_samples_split=2,\n",
      "                       min_weight_fraction_leaf=0.0, presort='deprecated',\n",
      "                       random_state=653346159, splitter='best')\n",
      "\n",
      "Numero de nós: 13\n",
      "Profundidade da árvore: 4\n",
      "Features importantes: [0.01400756 0.00190189 0.01838493 0.96570562]\n",
      "\n",
      "Objeto: DecisionTreeClassifier(ccp_alpha=0.0, class_weight=None, criterion='gini',\n",
      "                       max_depth=None, max_features='auto', max_leaf_nodes=None,\n",
      "                       min_impurity_decrease=0.0, min_impurity_split=None,\n",
      "                       min_samples_leaf=1, min_samples_split=2,\n",
      "                       min_weight_fraction_leaf=0.0, presort='deprecated',\n",
      "                       random_state=1451917185, splitter='best')\n",
      "\n",
      "Numero de nós: 11\n",
      "Profundidade da árvore: 5\n",
      "Features importantes: [0.        0.        0.0254257 0.9745743]\n",
      "\n",
      "Objeto: DecisionTreeClassifier(ccp_alpha=0.0, class_weight=None, criterion='gini',\n",
      "                       max_depth=None, max_features='auto', max_leaf_nodes=None,\n",
      "                       min_impurity_decrease=0.0, min_impurity_split=None,\n",
      "                       min_samples_leaf=1, min_samples_split=2,\n",
      "                       min_weight_fraction_leaf=0.0, presort='deprecated',\n",
      "                       random_state=1809898043, splitter='best')\n",
      "\n",
      "Numero de nós: 15\n",
      "Profundidade da árvore: 5\n",
      "Features importantes: [0.01075703 0.         0.9334409  0.05580207]\n",
      "\n",
      "Objeto: DecisionTreeClassifier(ccp_alpha=0.0, class_weight=None, criterion='gini',\n",
      "                       max_depth=None, max_features='auto', max_leaf_nodes=None,\n",
      "                       min_impurity_decrease=0.0, min_impurity_split=None,\n",
      "                       min_samples_leaf=1, min_samples_split=2,\n",
      "                       min_weight_fraction_leaf=0.0, presort='deprecated',\n",
      "                       random_state=195016393, splitter='best')\n",
      "\n",
      "Numero de nós: 13\n",
      "Profundidade da árvore: 5\n",
      "Features importantes: [0.         0.01002808 0.95308757 0.03688435]\n",
      "\n",
      "Objeto: DecisionTreeClassifier(ccp_alpha=0.0, class_weight=None, criterion='gini',\n",
      "                       max_depth=None, max_features='auto', max_leaf_nodes=None,\n",
      "                       min_impurity_decrease=0.0, min_impurity_split=None,\n",
      "                       min_samples_leaf=1, min_samples_split=2,\n",
      "                       min_weight_fraction_leaf=0.0, presort='deprecated',\n",
      "                       random_state=570539686, splitter='best')\n",
      "\n",
      "Numero de nós: 17\n",
      "Profundidade da árvore: 6\n",
      "Features importantes: [0.00979876 0.01341922 0.47845426 0.49832776]\n",
      "\n",
      "Objeto: DecisionTreeClassifier(ccp_alpha=0.0, class_weight=None, criterion='gini',\n",
      "                       max_depth=None, max_features='auto', max_leaf_nodes=None,\n",
      "                       min_impurity_decrease=0.0, min_impurity_split=None,\n",
      "                       min_samples_leaf=1, min_samples_split=2,\n",
      "                       min_weight_fraction_leaf=0.0, presort='deprecated',\n",
      "                       random_state=57796271, splitter='best')\n",
      "\n",
      "Numero de nós: 19\n",
      "Profundidade da árvore: 6\n",
      "Features importantes: [0.30699401 0.         0.18187792 0.51112807]\n",
      "\n",
      "Objeto: DecisionTreeClassifier(ccp_alpha=0.0, class_weight=None, criterion='gini',\n",
      "                       max_depth=None, max_features='auto', max_leaf_nodes=None,\n",
      "                       min_impurity_decrease=0.0, min_impurity_split=None,\n",
      "                       min_samples_leaf=1, min_samples_split=2,\n",
      "                       min_weight_fraction_leaf=0.0, presort='deprecated',\n",
      "                       random_state=159813158, splitter='best')\n",
      "\n",
      "Numero de nós: 15\n",
      "Profundidade da árvore: 5\n",
      "Features importantes: [0.02005616 0.02005616 0.38449936 0.57538832]\n",
      "\n",
      "Objeto: DecisionTreeClassifier(ccp_alpha=0.0, class_weight=None, criterion='gini',\n",
      "                       max_depth=None, max_features='auto', max_leaf_nodes=None,\n",
      "                       min_impurity_decrease=0.0, min_impurity_split=None,\n",
      "                       min_samples_leaf=1, min_samples_split=2,\n",
      "                       min_weight_fraction_leaf=0.0, presort='deprecated',\n",
      "                       random_state=944637281, splitter='best')\n"
     ]
    }
   ],
   "source": [
    "# Utilizando o código abaixo, faça as alterações necessárias para listar **objetos DecisionTreeClassifiers** e \n",
    "# suas propriedades como **profundidade máxima** e **features importantes** utilizando o modelo treinado no item anterior (5.2).\n",
    "\n",
    "for tree in random_clf.estimators_:\n",
    "    print(\"\\nNumero de nós: {}\".format(tree.tree_.node_count))\n",
    "    print(\"Profundidade da árvore: {}\".format(tree.tree_.max_depth))\n",
    "    print(\"Features importantes: {}\".format(tree.feature_importances_))\n",
    "    print(\"\\nObjeto: {}\".format(tree))"
   ]
  },
  {
   "cell_type": "markdown",
   "metadata": {},
   "source": [
    "**7) Baseado no conhecimento aprendido sobre os parâmetros min_samples_split, min_samples_leaf, max_depth e max_features para controlar o crescimento das árvores, faça: **"
   ]
  },
  {
   "cell_type": "markdown",
   "metadata": {},
   "source": [
    "* Utilizando os códigos das células abaixo, utilize o DataFrame dfcancer para treinar um modelo RandomForestClassifiers com seus parametros padrão.\n",
    "* Imprima os resultados de classificação utilizando Cross Validation.\n",
    "* Utilize o GridSearchCV conforme aprendido nas aulas e descubra os melhores valores para os parametros min_samples_split, min_samples_leaf, max_depth e max_features.\n",
    "* Treine novamente o modelo desta vez especificando os valores aos parametros e verifique novamente os resultados de classificação."
   ]
  },
  {
   "cell_type": "code",
   "execution_count": 17,
   "metadata": {},
   "outputs": [],
   "source": [
    "from sklearn.datasets import load_breast_cancer\n",
    "import pandas as pd\n",
    "from sklearn.model_selection import cross_val_predict"
   ]
  },
  {
   "cell_type": "code",
   "execution_count": 19,
   "metadata": {},
   "outputs": [],
   "source": [
    "data = load_breast_cancer()\n"
   ]
  },
  {
   "cell_type": "code",
   "execution_count": 25,
   "metadata": {},
   "outputs": [],
   "source": [
    "data = load_breast_cancer()\n",
    "dfcancer = pd.DataFrame(data=data.data,columns=data.feature_names)\n",
    "dfcancer['class'] = data.target\n",
    "data.data = dfcancer.drop('class', axis = 1)"
   ]
  },
  {
   "cell_type": "code",
   "execution_count": 27,
   "metadata": {
    "scrolled": true
   },
   "outputs": [
    {
     "data": {
      "text/plain": [
       "array([0, 0, 0, 0, 0, 0, 0, 0, 0, 0, 0, 0, 0, 0, 0, 0, 0, 0, 0, 1, 1, 1,\n",
       "       0, 0, 0, 0, 0, 0, 0, 0, 0, 0, 0, 0, 0, 0, 0, 1, 0, 0, 0, 0, 0, 0,\n",
       "       0, 0, 1, 0, 1, 1, 1, 1, 1, 0, 0, 1, 0, 0, 1, 1, 1, 1, 0, 1, 0, 0,\n",
       "       1, 1, 1, 1, 0, 1, 0, 0, 1, 0, 1, 0, 0, 1, 1, 1, 0, 0, 1, 0, 0, 0,\n",
       "       1, 1, 1, 0, 1, 1, 0, 0, 1, 1, 1, 0, 0, 1, 1, 1, 1, 0, 1, 1, 0, 1,\n",
       "       1, 1, 1, 1, 1, 1, 1, 0, 0, 0, 1, 0, 0, 1, 1, 1, 0, 0, 1, 0, 1, 0,\n",
       "       0, 1, 0, 0, 1, 1, 0, 1, 1, 0, 1, 1, 1, 1, 0, 1, 1, 1, 1, 1, 1, 1,\n",
       "       1, 1, 0, 1, 1, 1, 1, 0, 0, 1, 0, 1, 1, 0, 0, 1, 1, 0, 0, 1, 1, 1,\n",
       "       1, 0, 1, 1, 0, 0, 0, 1, 0, 1, 0, 1, 1, 1, 0, 1, 1, 0, 0, 1, 0, 0,\n",
       "       0, 0, 1, 0, 0, 0, 1, 0, 1, 0, 1, 1, 0, 1, 0, 0, 0, 0, 1, 1, 0, 0,\n",
       "       1, 1, 1, 0, 1, 1, 1, 1, 1, 0, 0, 1, 1, 0, 1, 1, 0, 0, 1, 0, 1, 1,\n",
       "       1, 1, 0, 1, 1, 1, 1, 1, 0, 1, 0, 0, 0, 0, 0, 0, 0, 0, 0, 0, 0, 0,\n",
       "       0, 0, 1, 1, 1, 1, 1, 1, 0, 1, 0, 1, 1, 0, 1, 1, 0, 1, 0, 0, 1, 1,\n",
       "       1, 1, 1, 1, 1, 1, 1, 1, 1, 1, 1, 0, 1, 1, 0, 1, 0, 1, 1, 1, 1, 1,\n",
       "       1, 1, 1, 1, 1, 1, 1, 1, 1, 0, 1, 1, 1, 0, 1, 0, 1, 1, 1, 1, 0, 0,\n",
       "       0, 1, 1, 1, 1, 0, 1, 0, 1, 0, 1, 1, 1, 0, 1, 1, 1, 1, 1, 1, 1, 0,\n",
       "       0, 0, 1, 1, 1, 1, 1, 1, 1, 1, 1, 1, 1, 0, 0, 1, 0, 0, 0, 1, 0, 0,\n",
       "       1, 1, 1, 1, 1, 0, 1, 1, 1, 1, 1, 0, 1, 1, 1, 0, 1, 1, 0, 0, 1, 1,\n",
       "       1, 1, 1, 1, 0, 1, 1, 1, 1, 1, 1, 1, 0, 1, 1, 1, 1, 1, 0, 1, 1, 0,\n",
       "       1, 1, 1, 1, 1, 1, 1, 1, 1, 1, 1, 1, 0, 1, 0, 0, 1, 0, 1, 1, 1, 1,\n",
       "       1, 0, 1, 1, 0, 1, 0, 1, 1, 0, 1, 0, 1, 1, 1, 1, 1, 1, 1, 1, 0, 0,\n",
       "       1, 1, 1, 1, 1, 1, 0, 1, 1, 1, 1, 1, 1, 1, 1, 1, 1, 0, 1, 1, 1, 1,\n",
       "       1, 1, 1, 0, 1, 0, 1, 1, 0, 1, 1, 1, 1, 1, 0, 0, 1, 0, 1, 0, 1, 1,\n",
       "       1, 1, 1, 0, 1, 1, 0, 1, 0, 1, 0, 0, 1, 1, 1, 0, 1, 1, 1, 1, 1, 1,\n",
       "       1, 1, 1, 1, 1, 0, 1, 0, 0, 1, 1, 1, 1, 1, 1, 1, 1, 1, 1, 1, 1, 1,\n",
       "       1, 1, 1, 1, 1, 1, 1, 1, 1, 1, 1, 1, 0, 0, 0, 0, 0, 0, 1])"
      ]
     },
     "execution_count": 27,
     "metadata": {},
     "output_type": "execute_result"
    }
   ],
   "source": [
    "data.target"
   ]
  },
  {
   "cell_type": "code",
   "execution_count": 28,
   "metadata": {},
   "outputs": [],
   "source": [
    "dfcancer_clf = RandomForestClassifier()\n",
    "random_clf = iris_clf.fit(data.data, data.target)"
   ]
  },
  {
   "cell_type": "code",
   "execution_count": 32,
   "metadata": {},
   "outputs": [
    {
     "name": "stdout",
     "output_type": "stream",
     "text": [
      "              precision    recall  f1-score   support\n",
      "\n",
      "           0       0.95      0.93      0.94       212\n",
      "           1       0.96      0.97      0.96       357\n",
      "\n",
      "    accuracy                           0.95       569\n",
      "   macro avg       0.95      0.95      0.95       569\n",
      "weighted avg       0.95      0.95      0.95       569\n",
      "\n"
     ]
    }
   ],
   "source": [
    "from sklearn.metrics import classification_report\n",
    "\n",
    "resultados_random = cross_val_predict(random_clf, data.data, data.target, cv=5)\n",
    "print(classification_report(data.target,resultados_random))\n"
   ]
  },
  {
   "cell_type": "code",
   "execution_count": 33,
   "metadata": {},
   "outputs": [],
   "source": [
    "from sklearn.model_selection import GridSearchCV\n",
    "\n",
    "valores_estimators = [10, 20, 50, 100, 150]\n",
    "valores_criterion = ['gini','entropy']\n",
    "valores_max_depth = [10, 20, 50, 100]\n",
    "valores_min_samples_split = [2, 5, 10,15]\n",
    "valores_min_samples_leaf = [1, 5, 10,15]"
   ]
  },
  {
   "cell_type": "code",
   "execution_count": 34,
   "metadata": {},
   "outputs": [],
   "source": [
    "parametros_grid = dict(n_estimators=valores_estimators,\n",
    "                       criterion=valores_criterion,\n",
    "                       max_depth=valores_max_depth,\n",
    "                       min_samples_split=valores_min_samples_split,\n",
    "                       min_samples_leaf=valores_min_samples_leaf \n",
    "                      )"
   ]
  },
  {
   "cell_type": "code",
   "execution_count": 35,
   "metadata": {},
   "outputs": [],
   "source": [
    "rf = RandomForestClassifier()"
   ]
  },
  {
   "cell_type": "code",
   "execution_count": 36,
   "metadata": {},
   "outputs": [],
   "source": [
    "grid = GridSearchCV(rf, parametros_grid, cv=5, scoring='accuracy')"
   ]
  },
  {
   "cell_type": "code",
   "execution_count": 37,
   "metadata": {},
   "outputs": [
    {
     "data": {
      "text/plain": [
       "GridSearchCV(cv=5, error_score=nan,\n",
       "             estimator=RandomForestClassifier(bootstrap=True, ccp_alpha=0.0,\n",
       "                                              class_weight=None,\n",
       "                                              criterion='gini', max_depth=None,\n",
       "                                              max_features='auto',\n",
       "                                              max_leaf_nodes=None,\n",
       "                                              max_samples=None,\n",
       "                                              min_impurity_decrease=0.0,\n",
       "                                              min_impurity_split=None,\n",
       "                                              min_samples_leaf=1,\n",
       "                                              min_samples_split=2,\n",
       "                                              min_weight_fraction_leaf=0.0,\n",
       "                                              n_estimators=100, n_jobs=None,\n",
       "                                              oob_score=False,\n",
       "                                              random_state=None, verbose=0,\n",
       "                                              warm_start=False),\n",
       "             iid='deprecated', n_jobs=None,\n",
       "             param_grid={'criterion': ['gini', 'entropy'],\n",
       "                         'max_depth': [10, 20, 50, 100],\n",
       "                         'min_samples_leaf': [1, 5, 10, 15],\n",
       "                         'min_samples_split': [2, 5, 10, 15],\n",
       "                         'n_estimators': [10, 20, 50, 100, 150]},\n",
       "             pre_dispatch='2*n_jobs', refit=True, return_train_score=False,\n",
       "             scoring='accuracy', verbose=0)"
      ]
     },
     "execution_count": 37,
     "metadata": {},
     "output_type": "execute_result"
    }
   ],
   "source": [
    "grid.fit(data.data,data.target)"
   ]
  },
  {
   "cell_type": "code",
   "execution_count": 38,
   "metadata": {},
   "outputs": [
    {
     "data": {
      "text/plain": [
       "{'criterion': 'entropy',\n",
       " 'max_depth': 20,\n",
       " 'min_samples_leaf': 1,\n",
       " 'min_samples_split': 2,\n",
       " 'n_estimators': 100}"
      ]
     },
     "execution_count": 38,
     "metadata": {},
     "output_type": "execute_result"
    }
   ],
   "source": [
    "grid.best_params_"
   ]
  },
  {
   "cell_type": "code",
   "execution_count": 39,
   "metadata": {},
   "outputs": [
    {
     "data": {
      "text/plain": [
       "0.968390001552554"
      ]
     },
     "execution_count": 39,
     "metadata": {},
     "output_type": "execute_result"
    }
   ],
   "source": [
    "grid.best_score_"
   ]
  },
  {
   "cell_type": "code",
   "execution_count": 40,
   "metadata": {},
   "outputs": [],
   "source": [
    "# Treine novamente o modelo desta vez especificando os valores aos parametros e verifique novamente os resultados de classificação.\n",
    "\n",
    "from sklearn.model_selection import train_test_split\n",
    "\n",
    "X_train, X_test, y_train, y_test = train_test_split(data.data,data.target,test_size=0.3,random_state=0)"
   ]
  },
  {
   "cell_type": "code",
   "execution_count": 41,
   "metadata": {},
   "outputs": [
    {
     "data": {
      "text/plain": [
       "((398, 30), (171, 30))"
      ]
     },
     "execution_count": 41,
     "metadata": {},
     "output_type": "execute_result"
    }
   ],
   "source": [
    "X_train.shape,X_test.shape"
   ]
  },
  {
   "cell_type": "code",
   "execution_count": 42,
   "metadata": {},
   "outputs": [
    {
     "data": {
      "text/plain": [
       "((398,), (171,))"
      ]
     },
     "execution_count": 42,
     "metadata": {},
     "output_type": "execute_result"
    }
   ],
   "source": [
    "y_train.shape,y_test.shape"
   ]
  },
  {
   "cell_type": "code",
   "execution_count": 52,
   "metadata": {},
   "outputs": [
    {
     "data": {
      "text/plain": [
       "RandomForestClassifier(bootstrap=True, ccp_alpha=0.0, class_weight=None,\n",
       "                       criterion='entropy', max_depth=20, max_features='auto',\n",
       "                       max_leaf_nodes=None, max_samples=None,\n",
       "                       min_impurity_decrease=0.0, min_impurity_split=None,\n",
       "                       min_samples_leaf=1, min_samples_split=2,\n",
       "                       min_weight_fraction_leaf=0.0, n_estimators=100,\n",
       "                       n_jobs=None, oob_score=False, random_state=None,\n",
       "                       verbose=0, warm_start=False)"
      ]
     },
     "execution_count": 52,
     "metadata": {},
     "output_type": "execute_result"
    }
   ],
   "source": [
    "random_clf = RandomForestClassifier(criterion='entropy', max_depth= 20, min_samples_leaf= 1, min_samples_split= 2, n_estimators= 100)\n",
    "random_clf"
   ]
  },
  {
   "cell_type": "code",
   "execution_count": 53,
   "metadata": {},
   "outputs": [
    {
     "data": {
      "text/plain": [
       "RandomForestClassifier(bootstrap=True, ccp_alpha=0.0, class_weight=None,\n",
       "                       criterion='entropy', max_depth=20, max_features='auto',\n",
       "                       max_leaf_nodes=None, max_samples=None,\n",
       "                       min_impurity_decrease=0.0, min_impurity_split=None,\n",
       "                       min_samples_leaf=1, min_samples_split=2,\n",
       "                       min_weight_fraction_leaf=0.0, n_estimators=100,\n",
       "                       n_jobs=None, oob_score=False, random_state=None,\n",
       "                       verbose=0, warm_start=False)"
      ]
     },
     "execution_count": 53,
     "metadata": {},
     "output_type": "execute_result"
    }
   ],
   "source": [
    "random_clf.fit(X_train,y_train)"
   ]
  },
  {
   "cell_type": "code",
   "execution_count": 54,
   "metadata": {},
   "outputs": [],
   "source": [
    "resultado = random_clf.predict(X_test)"
   ]
  },
  {
   "cell_type": "code",
   "execution_count": 55,
   "metadata": {},
   "outputs": [
    {
     "name": "stdout",
     "output_type": "stream",
     "text": [
      "              precision    recall  f1-score   support\n",
      "\n",
      "           0       0.95      0.98      0.97        63\n",
      "           1       0.99      0.97      0.98       108\n",
      "\n",
      "    accuracy                           0.98       171\n",
      "   macro avg       0.97      0.98      0.98       171\n",
      "weighted avg       0.98      0.98      0.98       171\n",
      "\n"
     ]
    }
   ],
   "source": [
    "from sklearn import metrics\n",
    "print(metrics.classification_report(y_test,resultado))"
   ]
  },
  {
   "cell_type": "markdown",
   "metadata": {},
   "source": [
    "* Utilizando o modelo treinado após o Tunning dos parametros liste as features mais importantes.\n",
    "* Utilizando o código utilizado em aula renderize de forma gráfica as features e suas importâncias.\n",
    "* Utilize apenas as features relevantes e treine novamente o modelo para verificar os resultados."
   ]
  },
  {
   "cell_type": "code",
   "execution_count": 56,
   "metadata": {},
   "outputs": [
    {
     "data": {
      "text/plain": [
       "array([0.03647417, 0.0192628 , 0.04629   , 0.03195105, 0.00757263,\n",
       "       0.01537849, 0.06284828, 0.12283286, 0.00650384, 0.00176264,\n",
       "       0.02230191, 0.00550876, 0.01795781, 0.0222738 , 0.00459418,\n",
       "       0.00581612, 0.00497933, 0.00556147, 0.00554228, 0.00504464,\n",
       "       0.0854409 , 0.02733653, 0.13078764, 0.09739392, 0.01394468,\n",
       "       0.01593176, 0.03944014, 0.11322484, 0.01441386, 0.01162867])"
      ]
     },
     "execution_count": 56,
     "metadata": {},
     "output_type": "execute_result"
    }
   ],
   "source": [
    "# Listantando as features mais importantes.\n",
    "\n",
    "random_clf.feature_importances_"
   ]
  },
  {
   "cell_type": "code",
   "execution_count": 57,
   "metadata": {},
   "outputs": [
    {
     "data": {
      "text/plain": [
       "Index(['mean radius', 'mean texture', 'mean perimeter', 'mean area',\n",
       "       'mean smoothness', 'mean compactness', 'mean concavity',\n",
       "       'mean concave points', 'mean symmetry', 'mean fractal dimension',\n",
       "       'radius error', 'texture error', 'perimeter error', 'area error',\n",
       "       'smoothness error', 'compactness error', 'concavity error',\n",
       "       'concave points error', 'symmetry error', 'fractal dimension error',\n",
       "       'worst radius', 'worst texture', 'worst perimeter', 'worst area',\n",
       "       'worst smoothness', 'worst compactness', 'worst concavity',\n",
       "       'worst concave points', 'worst symmetry', 'worst fractal dimension'],\n",
       "      dtype='object')"
      ]
     },
     "execution_count": 57,
     "metadata": {},
     "output_type": "execute_result"
    }
   ],
   "source": [
    "X_train.columns"
   ]
  },
  {
   "cell_type": "code",
   "execution_count": 59,
   "metadata": {},
   "outputs": [
    {
     "data": {
      "text/plain": [
       "worst perimeter            0.130788\n",
       "mean concave points        0.122833\n",
       "worst concave points       0.113225\n",
       "worst area                 0.097394\n",
       "worst radius               0.085441\n",
       "mean concavity             0.062848\n",
       "mean perimeter             0.046290\n",
       "worst concavity            0.039440\n",
       "mean radius                0.036474\n",
       "mean area                  0.031951\n",
       "worst texture              0.027337\n",
       "radius error               0.022302\n",
       "area error                 0.022274\n",
       "mean texture               0.019263\n",
       "perimeter error            0.017958\n",
       "worst compactness          0.015932\n",
       "mean compactness           0.015378\n",
       "worst symmetry             0.014414\n",
       "worst smoothness           0.013945\n",
       "worst fractal dimension    0.011629\n",
       "mean smoothness            0.007573\n",
       "mean symmetry              0.006504\n",
       "compactness error          0.005816\n",
       "concave points error       0.005561\n",
       "symmetry error             0.005542\n",
       "texture error              0.005509\n",
       "fractal dimension error    0.005045\n",
       "concavity error            0.004979\n",
       "smoothness error           0.004594\n",
       "mean fractal dimension     0.001763\n",
       "dtype: float64"
      ]
     },
     "execution_count": 59,
     "metadata": {},
     "output_type": "execute_result"
    }
   ],
   "source": [
    "feature_imp = pd.Series(random_clf.feature_importances_,index=X_train.columns).sort_values(ascending=False)\n",
    "feature_imp"
   ]
  },
  {
   "cell_type": "code",
   "execution_count": 60,
   "metadata": {},
   "outputs": [],
   "source": [
    "import matplotlib.pyplot as plt\n",
    "import seaborn as sns\n",
    "\n",
    "\n",
    "def visualiza_features_importantes(features_lista):\n",
    "    %matplotlib inline\n",
    "\n",
    "    plt.figure(figsize=(16,8))\n",
    "    sns.barplot(x=features_lista, y=features_lista.index)\n",
    "\n",
    "    plt.xlabel('Feature Importance Score')\n",
    "    plt.ylabel('Features')\n",
    "    plt.title(\"Visualizing Important Features\")\n",
    "    plt.show()"
   ]
  },
  {
   "cell_type": "code",
   "execution_count": 61,
   "metadata": {},
   "outputs": [
    {
     "data": {
      "image/png": "[encoded data removed]",
      "text/plain": [
       "<Figure size 1152x576 with 1 Axes>"
      ]
     },
     "metadata": {
      "needs_background": "light"
     },
     "output_type": "display_data"
    }
   ],
   "source": [
    "visualiza_features_importantes(feature_imp)"
   ]
  },
  {
   "cell_type": "code",
   "execution_count": 62,
   "metadata": {},
   "outputs": [
    {
     "name": "stdout",
     "output_type": "stream",
     "text": [
      "worst perimeter:\t0.13078763910807917\n",
      "mean concave points:\t0.1228328619070699\n",
      "worst concave points:\t0.11322483797794947\n",
      "worst area:\t0.0973939220303472\n",
      "worst radius:\t0.08544089656785152\n",
      "mean concavity:\t0.06284827825316251\n",
      "mean perimeter:\t0.04629000310768269\n",
      "worst concavity:\t0.03944014051245629\n",
      "mean radius:\t0.036474166911883744\n",
      "mean area:\t0.031951052599858795\n"
     ]
    }
   ],
   "source": [
    "features_selecionadas = []\n",
    "for feature,importancia in feature_imp.iteritems():\n",
    "    if importancia > 0.03:\n",
    "        print(\"{}:\\t{}\".format(feature, importancia))\n",
    "        features_selecionadas.append(feature)"
   ]
  },
  {
   "cell_type": "code",
   "execution_count": 65,
   "metadata": {},
   "outputs": [
    {
     "data": {
      "text/html": [
       "<div>\n",
       "<style scoped>\n",
       "    .dataframe tbody tr th:only-of-type {\n",
       "        vertical-align: middle;\n",
       "    }\n",
       "\n",
       "    .dataframe tbody tr th {\n",
       "        vertical-align: top;\n",
       "    }\n",
       "\n",
       "    .dataframe thead th {\n",
       "        text-align: right;\n",
       "    }\n",
       "</style>\n",
       "<table border=\"1\" class=\"dataframe\">\n",
       "  <thead>\n",
       "    <tr style=\"text-align: right;\">\n",
       "      <th></th>\n",
       "      <th>worst perimeter</th>\n",
       "      <th>mean concave points</th>\n",
       "      <th>worst concave points</th>\n",
       "      <th>worst area</th>\n",
       "      <th>worst radius</th>\n",
       "      <th>mean concavity</th>\n",
       "      <th>mean perimeter</th>\n",
       "      <th>worst concavity</th>\n",
       "      <th>mean radius</th>\n",
       "      <th>mean area</th>\n",
       "    </tr>\n",
       "  </thead>\n",
       "  <tbody>\n",
       "    <tr>\n",
       "      <th>0</th>\n",
       "      <td>184.60</td>\n",
       "      <td>0.14710</td>\n",
       "      <td>0.2654</td>\n",
       "      <td>2019.0</td>\n",
       "      <td>25.380</td>\n",
       "      <td>0.30010</td>\n",
       "      <td>122.80</td>\n",
       "      <td>0.7119</td>\n",
       "      <td>17.99</td>\n",
       "      <td>1001.0</td>\n",
       "    </tr>\n",
       "    <tr>\n",
       "      <th>1</th>\n",
       "      <td>158.80</td>\n",
       "      <td>0.07017</td>\n",
       "      <td>0.1860</td>\n",
       "      <td>1956.0</td>\n",
       "      <td>24.990</td>\n",
       "      <td>0.08690</td>\n",
       "      <td>132.90</td>\n",
       "      <td>0.2416</td>\n",
       "      <td>20.57</td>\n",
       "      <td>1326.0</td>\n",
       "    </tr>\n",
       "    <tr>\n",
       "      <th>2</th>\n",
       "      <td>152.50</td>\n",
       "      <td>0.12790</td>\n",
       "      <td>0.2430</td>\n",
       "      <td>1709.0</td>\n",
       "      <td>23.570</td>\n",
       "      <td>0.19740</td>\n",
       "      <td>130.00</td>\n",
       "      <td>0.4504</td>\n",
       "      <td>19.69</td>\n",
       "      <td>1203.0</td>\n",
       "    </tr>\n",
       "    <tr>\n",
       "      <th>3</th>\n",
       "      <td>98.87</td>\n",
       "      <td>0.10520</td>\n",
       "      <td>0.2575</td>\n",
       "      <td>567.7</td>\n",
       "      <td>14.910</td>\n",
       "      <td>0.24140</td>\n",
       "      <td>77.58</td>\n",
       "      <td>0.6869</td>\n",
       "      <td>11.42</td>\n",
       "      <td>386.1</td>\n",
       "    </tr>\n",
       "    <tr>\n",
       "      <th>4</th>\n",
       "      <td>152.20</td>\n",
       "      <td>0.10430</td>\n",
       "      <td>0.1625</td>\n",
       "      <td>1575.0</td>\n",
       "      <td>22.540</td>\n",
       "      <td>0.19800</td>\n",
       "      <td>135.10</td>\n",
       "      <td>0.4000</td>\n",
       "      <td>20.29</td>\n",
       "      <td>1297.0</td>\n",
       "    </tr>\n",
       "    <tr>\n",
       "      <th>...</th>\n",
       "      <td>...</td>\n",
       "      <td>...</td>\n",
       "      <td>...</td>\n",
       "      <td>...</td>\n",
       "      <td>...</td>\n",
       "      <td>...</td>\n",
       "      <td>...</td>\n",
       "      <td>...</td>\n",
       "      <td>...</td>\n",
       "      <td>...</td>\n",
       "    </tr>\n",
       "    <tr>\n",
       "      <th>564</th>\n",
       "      <td>166.10</td>\n",
       "      <td>0.13890</td>\n",
       "      <td>0.2216</td>\n",
       "      <td>2027.0</td>\n",
       "      <td>25.450</td>\n",
       "      <td>0.24390</td>\n",
       "      <td>142.00</td>\n",
       "      <td>0.4107</td>\n",
       "      <td>21.56</td>\n",
       "      <td>1479.0</td>\n",
       "    </tr>\n",
       "    <tr>\n",
       "      <th>565</th>\n",
       "      <td>155.00</td>\n",
       "      <td>0.09791</td>\n",
       "      <td>0.1628</td>\n",
       "      <td>1731.0</td>\n",
       "      <td>23.690</td>\n",
       "      <td>0.14400</td>\n",
       "      <td>131.20</td>\n",
       "      <td>0.3215</td>\n",
       "      <td>20.13</td>\n",
       "      <td>1261.0</td>\n",
       "    </tr>\n",
       "    <tr>\n",
       "      <th>566</th>\n",
       "      <td>126.70</td>\n",
       "      <td>0.05302</td>\n",
       "      <td>0.1418</td>\n",
       "      <td>1124.0</td>\n",
       "      <td>18.980</td>\n",
       "      <td>0.09251</td>\n",
       "      <td>108.30</td>\n",
       "      <td>0.3403</td>\n",
       "      <td>16.60</td>\n",
       "      <td>858.1</td>\n",
       "    </tr>\n",
       "    <tr>\n",
       "      <th>567</th>\n",
       "      <td>184.60</td>\n",
       "      <td>0.15200</td>\n",
       "      <td>0.2650</td>\n",
       "      <td>1821.0</td>\n",
       "      <td>25.740</td>\n",
       "      <td>0.35140</td>\n",
       "      <td>140.10</td>\n",
       "      <td>0.9387</td>\n",
       "      <td>20.60</td>\n",
       "      <td>1265.0</td>\n",
       "    </tr>\n",
       "    <tr>\n",
       "      <th>568</th>\n",
       "      <td>59.16</td>\n",
       "      <td>0.00000</td>\n",
       "      <td>0.0000</td>\n",
       "      <td>268.6</td>\n",
       "      <td>9.456</td>\n",
       "      <td>0.00000</td>\n",
       "      <td>47.92</td>\n",
       "      <td>0.0000</td>\n",
       "      <td>7.76</td>\n",
       "      <td>181.0</td>\n",
       "    </tr>\n",
       "  </tbody>\n",
       "</table>\n",
       "<p>569 rows × 10 columns</p>\n",
       "</div>"
      ],
      "text/plain": [
       "     worst perimeter  mean concave points  worst concave points  worst area  \\\n",
       "0             184.60              0.14710                0.2654      2019.0   \n",
       "1             158.80              0.07017                0.1860      1956.0   \n",
       "2             152.50              0.12790                0.2430      1709.0   \n",
       "3              98.87              0.10520                0.2575       567.7   \n",
       "4             152.20              0.10430                0.1625      1575.0   \n",
       "..               ...                  ...                   ...         ...   \n",
       "564           166.10              0.13890                0.2216      2027.0   \n",
       "565           155.00              0.09791                0.1628      1731.0   \n",
       "566           126.70              0.05302                0.1418      1124.0   \n",
       "567           184.60              0.15200                0.2650      1821.0   \n",
       "568            59.16              0.00000                0.0000       268.6   \n",
       "\n",
       "     worst radius  mean concavity  mean perimeter  worst concavity  \\\n",
       "0          25.380         0.30010          122.80           0.7119   \n",
       "1          24.990         0.08690          132.90           0.2416   \n",
       "2          23.570         0.19740          130.00           0.4504   \n",
       "3          14.910         0.24140           77.58           0.6869   \n",
       "4          22.540         0.19800          135.10           0.4000   \n",
       "..            ...             ...             ...              ...   \n",
       "564        25.450         0.24390          142.00           0.4107   \n",
       "565        23.690         0.14400          131.20           0.3215   \n",
       "566        18.980         0.09251          108.30           0.3403   \n",
       "567        25.740         0.35140          140.10           0.9387   \n",
       "568         9.456         0.00000           47.92           0.0000   \n",
       "\n",
       "     mean radius  mean area  \n",
       "0          17.99     1001.0  \n",
       "1          20.57     1326.0  \n",
       "2          19.69     1203.0  \n",
       "3          11.42      386.1  \n",
       "4          20.29     1297.0  \n",
       "..           ...        ...  \n",
       "564        21.56     1479.0  \n",
       "565        20.13     1261.0  \n",
       "566        16.60      858.1  \n",
       "567        20.60     1265.0  \n",
       "568         7.76      181.0  \n",
       "\n",
       "[569 rows x 10 columns]"
      ]
     },
     "execution_count": 65,
     "metadata": {},
     "output_type": "execute_result"
    }
   ],
   "source": [
    "data.data[features_selecionadas]"
   ]
  },
  {
   "cell_type": "code",
   "execution_count": 66,
   "metadata": {},
   "outputs": [
    {
     "data": {
      "text/plain": [
       "array([0, 0, 0, 0, 0, 0, 0, 0, 0, 0, 0, 0, 0, 0, 0, 0, 0, 0, 0, 1, 1, 1,\n",
       "       0, 0, 0, 0, 0, 0, 0, 0, 0, 0, 0, 0, 0, 0, 0, 1, 0, 0, 0, 0, 0, 0,\n",
       "       0, 0, 1, 0, 1, 1, 1, 1, 1, 0, 0, 1, 0, 0, 1, 1, 1, 1, 0, 1, 0, 0,\n",
       "       1, 1, 1, 1, 0, 1, 0, 0, 1, 0, 1, 0, 0, 1, 1, 1, 0, 0, 1, 0, 0, 0,\n",
       "       1, 1, 1, 0, 1, 1, 0, 0, 1, 1, 1, 0, 0, 1, 1, 1, 1, 0, 1, 1, 0, 1,\n",
       "       1, 1, 1, 1, 1, 1, 1, 0, 0, 0, 1, 0, 0, 1, 1, 1, 0, 0, 1, 0, 1, 0,\n",
       "       0, 1, 0, 0, 1, 1, 0, 1, 1, 0, 1, 1, 1, 1, 0, 1, 1, 1, 1, 1, 1, 1,\n",
       "       1, 1, 0, 1, 1, 1, 1, 0, 0, 1, 0, 1, 1, 0, 0, 1, 1, 0, 0, 1, 1, 1,\n",
       "       1, 0, 1, 1, 0, 0, 0, 1, 0, 1, 0, 1, 1, 1, 0, 1, 1, 0, 0, 1, 0, 0,\n",
       "       0, 0, 1, 0, 0, 0, 1, 0, 1, 0, 1, 1, 0, 1, 0, 0, 0, 0, 1, 1, 0, 0,\n",
       "       1, 1, 1, 0, 1, 1, 1, 1, 1, 0, 0, 1, 1, 0, 1, 1, 0, 0, 1, 0, 1, 1,\n",
       "       1, 1, 0, 1, 1, 1, 1, 1, 0, 1, 0, 0, 0, 0, 0, 0, 0, 0, 0, 0, 0, 0,\n",
       "       0, 0, 1, 1, 1, 1, 1, 1, 0, 1, 0, 1, 1, 0, 1, 1, 0, 1, 0, 0, 1, 1,\n",
       "       1, 1, 1, 1, 1, 1, 1, 1, 1, 1, 1, 0, 1, 1, 0, 1, 0, 1, 1, 1, 1, 1,\n",
       "       1, 1, 1, 1, 1, 1, 1, 1, 1, 0, 1, 1, 1, 0, 1, 0, 1, 1, 1, 1, 0, 0,\n",
       "       0, 1, 1, 1, 1, 0, 1, 0, 1, 0, 1, 1, 1, 0, 1, 1, 1, 1, 1, 1, 1, 0,\n",
       "       0, 0, 1, 1, 1, 1, 1, 1, 1, 1, 1, 1, 1, 0, 0, 1, 0, 0, 0, 1, 0, 0,\n",
       "       1, 1, 1, 1, 1, 0, 1, 1, 1, 1, 1, 0, 1, 1, 1, 0, 1, 1, 0, 0, 1, 1,\n",
       "       1, 1, 1, 1, 0, 1, 1, 1, 1, 1, 1, 1, 0, 1, 1, 1, 1, 1, 0, 1, 1, 0,\n",
       "       1, 1, 1, 1, 1, 1, 1, 1, 1, 1, 1, 1, 0, 1, 0, 0, 1, 0, 1, 1, 1, 1,\n",
       "       1, 0, 1, 1, 0, 1, 0, 1, 1, 0, 1, 0, 1, 1, 1, 1, 1, 1, 1, 1, 0, 0,\n",
       "       1, 1, 1, 1, 1, 1, 0, 1, 1, 1, 1, 1, 1, 1, 1, 1, 1, 0, 1, 1, 1, 1,\n",
       "       1, 1, 1, 0, 1, 0, 1, 1, 0, 1, 1, 1, 1, 1, 0, 0, 1, 0, 1, 0, 1, 1,\n",
       "       1, 1, 1, 0, 1, 1, 0, 1, 0, 1, 0, 0, 1, 1, 1, 0, 1, 1, 1, 1, 1, 1,\n",
       "       1, 1, 1, 1, 1, 0, 1, 0, 0, 1, 1, 1, 1, 1, 1, 1, 1, 1, 1, 1, 1, 1,\n",
       "       1, 1, 1, 1, 1, 1, 1, 1, 1, 1, 1, 1, 0, 0, 0, 0, 0, 0, 1])"
      ]
     },
     "execution_count": 66,
     "metadata": {},
     "output_type": "execute_result"
    }
   ],
   "source": [
    "data.target"
   ]
  },
  {
   "cell_type": "code",
   "execution_count": 67,
   "metadata": {},
   "outputs": [],
   "source": [
    "X_train, X_test, y_train, y_test = train_test_split(\n",
    "    data.data[features_selecionadas],\n",
    "    data.target,\n",
    "    test_size=0.3,\n",
    "    random_state=0\n",
    ")"
   ]
  },
  {
   "cell_type": "code",
   "execution_count": 68,
   "metadata": {},
   "outputs": [],
   "source": [
    "random_clf = RandomForestClassifier(criterion='entropy', max_depth= 20, min_samples_leaf= 1, min_samples_split= 2, n_estimators= 100)"
   ]
  },
  {
   "cell_type": "code",
   "execution_count": 69,
   "metadata": {},
   "outputs": [
    {
     "data": {
      "text/plain": [
       "RandomForestClassifier(bootstrap=True, ccp_alpha=0.0, class_weight=None,\n",
       "                       criterion='entropy', max_depth=20, max_features='auto',\n",
       "                       max_leaf_nodes=None, max_samples=None,\n",
       "                       min_impurity_decrease=0.0, min_impurity_split=None,\n",
       "                       min_samples_leaf=1, min_samples_split=2,\n",
       "                       min_weight_fraction_leaf=0.0, n_estimators=100,\n",
       "                       n_jobs=None, oob_score=False, random_state=None,\n",
       "                       verbose=0, warm_start=False)"
      ]
     },
     "execution_count": 69,
     "metadata": {},
     "output_type": "execute_result"
    }
   ],
   "source": [
    "random_clf.fit(X_train,y_train)"
   ]
  },
  {
   "cell_type": "code",
   "execution_count": 71,
   "metadata": {},
   "outputs": [
    {
     "name": "stdout",
     "output_type": "stream",
     "text": [
      "              precision    recall  f1-score   support\n",
      "\n",
      "           0       0.92      0.95      0.94        63\n",
      "           1       0.97      0.95      0.96       108\n",
      "\n",
      "    accuracy                           0.95       171\n",
      "   macro avg       0.95      0.95      0.95       171\n",
      "weighted avg       0.95      0.95      0.95       171\n",
      "\n"
     ]
    }
   ],
   "source": [
    "resultado = random_clf.predict(X_test)\n",
    "print(metrics.classification_report(y_test,resultado))"
   ]
  }
 ],
 "metadata": {
  "kernelspec": {
   "display_name": "Python 3",
   "language": "python",
   "name": "python3"
  },
  "language_info": {
   "codemirror_mode": {
    "name": "ipython",
    "version": 3
   },
   "file_extension": ".py",
   "mimetype": "text/x-python",
   "name": "python",
   "nbconvert_exporter": "python",
   "pygments_lexer": "ipython3",
   "version": "3.7.3"
  }
 },
 "nbformat": 4,
 "nbformat_minor": 2
}
