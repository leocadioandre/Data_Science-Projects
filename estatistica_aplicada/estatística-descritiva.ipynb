{
 "cells": [
  {
   "cell_type": "markdown",
   "metadata": {
    "colab_type": "text",
    "id": "mDMdS0t7J9X9"
   },
   "source": [
    "# Medidas de Posição e Tendência Central"
   ]
  },
  {
   "cell_type": "markdown",
   "metadata": {
    "colab_type": "text",
    "id": "QZ67sEcFcVh1"
   },
   "source": [
    "Importando as bibliotecas"
   ]
  },
  {
   "cell_type": "code",
   "execution_count": 1,
   "metadata": {
    "colab": {},
    "colab_type": "code",
    "id": "-R8H-nC4ZHvd"
   },
   "outputs": [],
   "source": [
    "import numpy as np\n",
    "import matplotlib.pyplot as plt\n",
    "from cycler import cycler"
   ]
  },
  {
   "cell_type": "code",
   "execution_count": 2,
   "metadata": {
    "colab": {},
    "colab_type": "code",
    "id": "ZE9QzUD2ZZpB"
   },
   "outputs": [],
   "source": [
    "from scipy.stats.mstats import gmean,hmean\n",
    "from scipy import stats"
   ]
  },
  {
   "cell_type": "markdown",
   "metadata": {
    "colab_type": "text",
    "id": "GiS4OoANKLu5"
   },
   "source": [
    "**Média Aritmética (MA) - É a soma de todos os elementos do conjunto, divididos pelo número de elementos que compõe o conjunto.**\n",
    "\n",
    "![alt text](https://wikimedia.org/api/rest_v1/media/math/render/svg/c938ca170f8c4a5d2dddecabc5ae1d5eb5f35a2b)"
   ]
  },
  {
   "cell_type": "code",
   "execution_count": 3,
   "metadata": {
    "colab": {},
    "colab_type": "code",
    "id": "pvKTuLnHZMFx"
   },
   "outputs": [],
   "source": [
    "dados = [1,2,5,3,4]"
   ]
  },
  {
   "cell_type": "code",
   "execution_count": 7,
   "metadata": {
    "colab": {},
    "colab_type": "code",
    "id": "glWMxJx0ZTG5"
   },
   "outputs": [
    {
     "data": {
      "text/plain": [
       "3.0"
      ]
     },
     "execution_count": 7,
     "metadata": {},
     "output_type": "execute_result"
    }
   ],
   "source": [
    "np.mean(dados)"
   ]
  },
  {
   "cell_type": "markdown",
   "metadata": {
    "colab_type": "text",
    "id": "nttS850jbM-r"
   },
   "source": [
    "**Média Geométrica (MG) - É a raíz n-ésima do produto de todos os elementos que compõe o conjunto.**\n",
    "\n",
    "![alt text](https://wikimedia.org/api/rest_v1/media/math/render/svg/82fb3d898a5de7ae016b07855c335ce570350410)"
   ]
  },
  {
   "cell_type": "code",
   "execution_count": 5,
   "metadata": {
    "colab": {},
    "colab_type": "code",
    "id": "RFuuguTHclir"
   },
   "outputs": [
    {
     "data": {
      "text/plain": [
       "2.6051710846973517"
      ]
     },
     "execution_count": 5,
     "metadata": {},
     "output_type": "execute_result"
    }
   ],
   "source": [
    "#biblioteca mstats\n",
    "\n",
    "gmean(dados)"
   ]
  },
  {
   "cell_type": "markdown",
   "metadata": {
    "colab_type": "text",
    "id": "eDTRVRAYbo3o"
   },
   "source": [
    "**Média Harmônica (MH) - É o número de elementos, divididos pela soma dos inversos dos elementos que compõem o conjunto.**\n",
    "\n",
    "![alt text](https://wikimedia.org/api/rest_v1/media/math/render/svg/5335415727099e38ba27a1775613020dc4b584de)"
   ]
  },
  {
   "cell_type": "code",
   "execution_count": 8,
   "metadata": {
    "colab": {},
    "colab_type": "code",
    "id": "Lazfd7f-cvJo"
   },
   "outputs": [
    {
     "data": {
      "text/plain": [
       "2.18978102189781"
      ]
     },
     "execution_count": 8,
     "metadata": {},
     "output_type": "execute_result"
    }
   ],
   "source": [
    "hmean(dados)"
   ]
  },
  {
   "cell_type": "markdown",
   "metadata": {
    "colab_type": "text",
    "id": "lddpRaNov0pA"
   },
   "source": [
    "## Quando usar cada uma das médias?"
   ]
  },
  {
   "cell_type": "markdown",
   "metadata": {
    "colab_type": "text",
    "id": "0P0vlEpViPk5"
   },
   "source": [
    "### Funções para plotar gráficos"
   ]
  },
  {
   "cell_type": "code",
   "execution_count": 9,
   "metadata": {
    "colab": {},
    "colab_type": "code",
    "id": "gkUgx5aTwFvh"
   },
   "outputs": [],
   "source": [
    "def plot_lines(dados, valor_central):\n",
    "    if valor_central in dados:\n",
    "        posicao_central = dados.index(valor_central)+1\n",
    "    else:\n",
    "        dados.append(valor_central)\n",
    "        dados.sort()\n",
    "        posicao_central = dados.index(valor_central)+1\n",
    "  \n",
    "    posicoes = np.arange(1,len(dados)+1,1)\n",
    "    plt.figure(figsize=(8,6))\n",
    "    plt.plot(posicoes,dados,'o-', color='red',ms=15)\n",
    "    plt.plot(posicao_central, valor_central, 'o-',color='blue',ms=15)\n",
    "    plt.show()"
   ]
  },
  {
   "cell_type": "code",
   "execution_count": 17,
   "metadata": {
    "colab": {},
    "colab_type": "code",
    "id": "eynTjAwxrvCq"
   },
   "outputs": [],
   "source": [
    "def plot_line_means(dados, mean, gmean,hmean):\n",
    "    posicoes_centrais=[]\n",
    "    y=[]\n",
    "    x = dados\n",
    "  \n",
    "    for m in [mean,gmean,hmean]:\n",
    "        x.append(m)\n",
    "  \n",
    "        x.sort()\n",
    "    for m in [mean,gmean,hmean]:\n",
    "        if m in x:\n",
    "            posicoes_centrais.append(x.index(m)+1)\n",
    "  \n",
    "    print(\"Dados: {}\".format(x))\n",
    "    print(\"Media aritmética: {}, Média Geométrica: {}, Média Harmonica: {}\".format(mean,gmean,hmean))\n",
    "  \n",
    "    y = np.arange(1,len(x)+1,1)\n",
    "  \n",
    "    plt.figure(figsize=(8,6))\n",
    "    plt.rc('axes', prop_cycle=(cycler('color', ['r', 'g', 'b'])))\n",
    "    plt.plot(y,x,'o-', color='black',ms=15)\n",
    "    medias = ['MA','MG','MH'] \n",
    "    i=0\n",
    "    for posicao_central,valor_central in zip(posicoes_centrais,[mean,gmean,hmean]):\n",
    "        plt.plot(posicao_central, valor_central, 'o-',ms=15)\n",
    "        plt.text(x=posicao_central+0.2, y=valor_central+0.2, s=medias[i], alpha=0.7, color='#334f8d')\n",
    "        i+=1\n",
    "\n",
    "    plt.show()"
   ]
  },
  {
   "cell_type": "code",
   "execution_count": 22,
   "metadata": {
    "colab": {},
    "colab_type": "code",
    "id": "rjpQ2OLsSgqe"
   },
   "outputs": [],
   "source": [
    "def plot_lines_horizontal(dados,valor_central):\n",
    "    plt.figure(figsize=(10,6))\n",
    "    y = 0\n",
    "    plt.hlines(y, min(dados), max(dados))\n",
    "    for n in dados:\n",
    "        if n == valor_central:\n",
    "            plt.plot(n,y, 'o', ms = 15, color='blue')\n",
    "            continue  \n",
    "        plt.plot(n,y, 'o', ms = 15, color = 'red')"
   ]
  },
  {
   "cell_type": "markdown",
   "metadata": {
    "colab_type": "text",
    "id": "v3SzrUJav73B"
   },
   "source": [
    "### Considere os cenários"
   ]
  },
  {
   "cell_type": "markdown",
   "metadata": {
    "colab_type": "text",
    "id": "1dV32Nmd1MGP"
   },
   "source": [
    "Exemplo de dados gerados a partir de uma **operação de adição**, a soma do valor 3 em cada elemento do vetor (relacionamento linear)"
   ]
  },
  {
   "cell_type": "code",
   "execution_count": 10,
   "metadata": {
    "colab": {},
    "colab_type": "code",
    "id": "4-IY90hFv_sR"
   },
   "outputs": [],
   "source": [
    "dados_linear = [1, 4, 7, 10, 13, 16, 19]"
   ]
  },
  {
   "cell_type": "markdown",
   "metadata": {
    "colab_type": "text",
    "id": "6Gy6dcjQ082B"
   },
   "source": [
    "Calculando a média aritmética"
   ]
  },
  {
   "cell_type": "code",
   "execution_count": 12,
   "metadata": {
    "colab": {},
    "colab_type": "code",
    "id": "8NeF5SCI06Fx"
   },
   "outputs": [
    {
     "data": {
      "text/plain": [
       "10"
      ]
     },
     "execution_count": 12,
     "metadata": {},
     "output_type": "execute_result"
    }
   ],
   "source": [
    "media = int(np.mean(dados_linear))\n",
    "media"
   ]
  },
  {
   "cell_type": "code",
   "execution_count": 13,
   "metadata": {
    "colab": {},
    "colab_type": "code",
    "id": "2d0VPC2B1yLv"
   },
   "outputs": [
    {
     "name": "stdout",
     "output_type": "stream",
     "text": [
      "Valor da média aritmética dos dados: 10\n"
     ]
    }
   ],
   "source": [
    "print(\"Valor da média aritmética dos dados: {}\".format(media))"
   ]
  },
  {
   "cell_type": "markdown",
   "metadata": {
    "colab_type": "text",
    "id": "l8y5mULb1A30"
   },
   "source": [
    "Plotando os dados e seu valor central"
   ]
  },
  {
   "cell_type": "code",
   "execution_count": 14,
   "metadata": {
    "colab": {},
    "colab_type": "code",
    "id": "P_RwW1Tn7YPC"
   },
   "outputs": [
    {
     "data": {
      "image/png": "[encoded data removed]",
      "text/plain": [
       "<Figure size 576x432 with 1 Axes>"
      ]
     },
     "metadata": {
      "needs_background": "light"
     },
     "output_type": "display_data"
    }
   ],
   "source": [
    "plot_lines(dados_linear,media)"
   ]
  },
  {
   "cell_type": "code",
   "execution_count": 23,
   "metadata": {
    "colab": {},
    "colab_type": "code",
    "id": "_h0mcgTig4Vh"
   },
   "outputs": [
    {
     "data": {
      "image/png": "[encoded data removed]",
      "text/plain": [
       "<Figure size 720x432 with 1 Axes>"
      ]
     },
     "metadata": {
      "needs_background": "light"
     },
     "output_type": "display_data"
    }
   ],
   "source": [
    "plot_lines_horizontal(dados_linear,media)\n",
    "\n",
    "#a função indica q caso a média estiver nos dados ficara azul"
   ]
  },
  {
   "cell_type": "markdown",
   "metadata": {
    "colab_type": "text",
    "id": "3GIj5J5q3HdP"
   },
   "source": [
    "Exemplo de dados gerados a partir de uma **operação de multiplicação**, a multiplicação de cada elemento pelo valor de 3 (relacionamento exponencial)"
   ]
  },
  {
   "cell_type": "code",
   "execution_count": 24,
   "metadata": {
    "colab": {},
    "colab_type": "code",
    "id": "sQIB1e3t9cWi"
   },
   "outputs": [],
   "source": [
    "dados_exponencial = [1, 3, 9, 27, 81, 243, 729]"
   ]
  },
  {
   "cell_type": "markdown",
   "metadata": {
    "colab_type": "text",
    "id": "zB_YzIi_3qAi"
   },
   "source": [
    "Calculando a média aritmética."
   ]
  },
  {
   "cell_type": "markdown",
   "metadata": {
    "colab_type": "text",
    "id": "pVDyPnKRAKi_"
   },
   "source": [
    "(1 + 3 + 9 + 27 + 81 + 243 + 729) ÷ 7 = **156.1**"
   ]
  },
  {
   "cell_type": "code",
   "execution_count": 25,
   "metadata": {
    "colab": {},
    "colab_type": "code",
    "id": "KK_0MedZ3oq5"
   },
   "outputs": [],
   "source": [
    "media = int(np.mean(dados_exponencial))"
   ]
  },
  {
   "cell_type": "code",
   "execution_count": 26,
   "metadata": {
    "colab": {},
    "colab_type": "code",
    "id": "oUQECliJRNuZ"
   },
   "outputs": [
    {
     "name": "stdout",
     "output_type": "stream",
     "text": [
      "Valor da média aritmética dos dados: 156\n"
     ]
    }
   ],
   "source": [
    "print(\"Valor da média aritmética dos dados: {}\".format(media))"
   ]
  },
  {
   "cell_type": "markdown",
   "metadata": {
    "colab_type": "text",
    "id": "yDdqGi4d32zw"
   },
   "source": [
    "Plotando os dados e seu valor central."
   ]
  },
  {
   "cell_type": "code",
   "execution_count": 27,
   "metadata": {
    "colab": {},
    "colab_type": "code",
    "id": "o0IKSoFs9xm7"
   },
   "outputs": [
    {
     "data": {
      "image/png": "[encoded data removed]",
      "text/plain": [
       "<Figure size 576x432 with 1 Axes>"
      ]
     },
     "metadata": {
      "needs_background": "light"
     },
     "output_type": "display_data"
    }
   ],
   "source": [
    "plot_lines(dados_exponencial,media)"
   ]
  },
  {
   "cell_type": "code",
   "execution_count": 28,
   "metadata": {
    "colab": {},
    "colab_type": "code",
    "id": "mIGMgM0_grXk"
   },
   "outputs": [
    {
     "data": {
      "image/png": "[encoded data removed]",
      "text/plain": [
       "<Figure size 720x432 with 1 Axes>"
      ]
     },
     "metadata": {
      "needs_background": "light"
     },
     "output_type": "display_data"
    }
   ],
   "source": [
    "plot_lines_horizontal(dados_exponencial,media)"
   ]
  },
  {
   "cell_type": "markdown",
   "metadata": {
    "colab_type": "text",
    "id": "J-zgMiqX45aR"
   },
   "source": [
    "Considerando agora a aplicação da média geométrica."
   ]
  },
  {
   "cell_type": "markdown",
   "metadata": {
    "colab_type": "text",
    "id": "TGP9Cq2u5AjZ"
   },
   "source": [
    "Especificando os mesmos dados com um relacionando exponencial."
   ]
  },
  {
   "cell_type": "code",
   "execution_count": 29,
   "metadata": {
    "colab": {},
    "colab_type": "code",
    "id": "06kWRxjv5Qfe"
   },
   "outputs": [],
   "source": [
    "dados_exponencial = [1, 3, 9, 27, 81, 243, 729]"
   ]
  },
  {
   "cell_type": "markdown",
   "metadata": {
    "colab_type": "text",
    "id": "_db-X-w05R2A"
   },
   "source": [
    "Calculando a média geométrica."
   ]
  },
  {
   "cell_type": "markdown",
   "metadata": {
    "colab_type": "text",
    "id": "Kg5t87iS_Q9H"
   },
   "source": [
    "(1 * 3 * 9 * 27 * 81 * 243 * 729) = 10,460,353,203\n",
    "\n",
    "Raiz sétima (7) de **10,460,353,203** = 27"
   ]
  },
  {
   "cell_type": "code",
   "execution_count": 30,
   "metadata": {
    "colab": {},
    "colab_type": "code",
    "id": "e8k0jsNB5hKI"
   },
   "outputs": [],
   "source": [
    "media_geo = int(gmean(dados_exponencial))"
   ]
  },
  {
   "cell_type": "code",
   "execution_count": 31,
   "metadata": {
    "colab": {},
    "colab_type": "code",
    "id": "Q0OQZfNE5yvg"
   },
   "outputs": [
    {
     "name": "stdout",
     "output_type": "stream",
     "text": [
      "Valor da média geométrica dos dados: 27\n"
     ]
    }
   ],
   "source": [
    "print(\"Valor da média geométrica dos dados: {}\".format(media_geo))"
   ]
  },
  {
   "cell_type": "markdown",
   "metadata": {
    "colab_type": "text",
    "id": "Ugpty5ul5-tQ"
   },
   "source": [
    "Plotando os dados e seu valor central."
   ]
  },
  {
   "cell_type": "code",
   "execution_count": 32,
   "metadata": {
    "colab": {},
    "colab_type": "code",
    "id": "Nq9pLeZU57iy"
   },
   "outputs": [
    {
     "data": {
      "image/png": "[encoded data removed]",
      "text/plain": [
       "<Figure size 576x432 with 1 Axes>"
      ]
     },
     "metadata": {
      "needs_background": "light"
     },
     "output_type": "display_data"
    }
   ],
   "source": [
    "plot_lines(dados_exponencial,media_geo)\n",
    "\n",
    "#a média geometrica se apresentou melhor que a aritimética, onde esta a 3 esta no numero do meio da amostra"
   ]
  },
  {
   "cell_type": "code",
   "execution_count": 33,
   "metadata": {
    "colab": {},
    "colab_type": "code",
    "id": "LkILBQWX6ETA"
   },
   "outputs": [
    {
     "data": {
      "image/png": "[encoded data removed]",
      "text/plain": [
       "<Figure size 720x432 with 1 Axes>"
      ]
     },
     "metadata": {
      "needs_background": "light"
     },
     "output_type": "display_data"
    }
   ],
   "source": [
    "plot_lines_horizontal(dados_exponencial,media_geo)"
   ]
  },
  {
   "cell_type": "markdown",
   "metadata": {
    "colab_type": "text",
    "id": "DvM1mXke8Ajo"
   },
   "source": [
    "### Considerações importantes\n",
    "\n",
    "*   A **média aritmética** produz um resultado interessante quando temos um **relacionamento aditivo** entre os números da amostra.\n",
    "*   Este relacionamento é chamado linear pois, ao exibir graficamente os valores tendem a seguir uma linha ascendente ou descendente.\n",
    "*   Já a **média geométrica** é mais apropriada quando temos uma amostra com um **relacionamento multiplicativo** ou exponencial.\n",
    "\n",
    "\n",
    "*   A diferença entre as médias é que enquanto a média aritmética faz a **soma** de todos os elementos e depois a **divisão**, a média geométrica atua com a **multiplicação** entre os elementos e depois reescala através da **raiz** os valores para a mesma unidade da amostra.\n",
    "\n",
    "\n",
    "\n",
    "\n",
    "\n",
    "\n"
   ]
  },
  {
   "cell_type": "markdown",
   "metadata": {
    "colab_type": "text",
    "id": "hOX4MOkiCiT4"
   },
   "source": [
    "# Comparando as médidas em um cenário real.\n",
    "### Verificando os valores de avaliações de dois cafés.\n",
    "### Hard Rock Café Gramado vs Hard Rock Café Curitiba."
   ]
  },
  {
   "cell_type": "markdown",
   "metadata": {
    "colab_type": "text",
    "id": "y84QuoR-Cfr2"
   },
   "source": [
    "![alt text](https://media-cdn.tripadvisor.com/media/photo-s/13/df/fc/f0/fachada-hard-rock-cafe.jpg)\n",
    "![alt text](https://media-cdn.tripadvisor.com/media/photo-s/1a/2e/c8/db/hard-rock-cafe-curitiba.jpg)"
   ]
  },
  {
   "cell_type": "markdown",
   "metadata": {
    "colab_type": "text",
    "id": "U4tXULdhEuW4"
   },
   "source": [
    "**Hard Rock Café Gramado**\n",
    "*   Avaliações no TripAdvisor: 3,5\n",
    "*   Índice de Satisfação dos Clientes: 89%\n",
    "\n",
    "**Hard Rock Café Curitiba**\n",
    "*   Avaliaçõs no TripAdvisor: 4,5\n",
    "*   Índice de Satisfação dos Clientes: 75%\n"
   ]
  },
  {
   "cell_type": "markdown",
   "metadata": {
    "colab_type": "text",
    "id": "E23TQ2y9HRl2"
   },
   "source": [
    "Aplicação de verificar o estabelecimento com a melhor avaliação em diferentes escalas."
   ]
  },
  {
   "cell_type": "markdown",
   "metadata": {
    "colab_type": "text",
    "id": "ZYVsCes_ITl3"
   },
   "source": [
    "Calculando a média aritmética"
   ]
  },
  {
   "cell_type": "code",
   "execution_count": 34,
   "metadata": {
    "colab": {},
    "colab_type": "code",
    "id": "x39nVkplEtkp"
   },
   "outputs": [],
   "source": [
    "#valores em escalas diferentes\n",
    "\n",
    "aval_gramado,aval_curitiba = 3.5, 4.5\n",
    "indice_gramado,indice_curitiba = 89, 75"
   ]
  },
  {
   "cell_type": "code",
   "execution_count": 35,
   "metadata": {
    "colab": {},
    "colab_type": "code",
    "id": "dk8bZaFcKjf6"
   },
   "outputs": [
    {
     "name": "stdout",
     "output_type": "stream",
     "text": [
      "Média para Gramado: 46.25\n",
      "Média para Curitiba: 39.75\n"
     ]
    }
   ],
   "source": [
    "print(\"Média para Gramado: {}\".format(np.mean([aval_gramado,indice_gramado])))\n",
    "print(\"Média para Curitiba: {}\".format(np.mean([aval_curitiba,indice_curitiba])))"
   ]
  },
  {
   "cell_type": "markdown",
   "metadata": {
    "colab_type": "text",
    "id": "Vgq0PtG-Pn38"
   },
   "source": [
    "Considerando a média aritmética o Hard Rock Café de Gramado é o estabelecimento melhor avaliado."
   ]
  },
  {
   "cell_type": "markdown",
   "metadata": {
    "colab_type": "text",
    "id": "GzYJKv_vQjCd"
   },
   "source": [
    "Agora vamos considerar a possibilidade de fazer uma reescala dos dados de avaliação do trip advisor."
   ]
  },
  {
   "cell_type": "code",
   "execution_count": 41,
   "metadata": {
    "colab": {},
    "colab_type": "code",
    "id": "5SttJRUvQ8qJ"
   },
   "outputs": [
    {
     "name": "stdout",
     "output_type": "stream",
     "text": [
      "Valores reescalados: 70.0,90.0\n"
     ]
    }
   ],
   "source": [
    "print(\"Valores reescalados: {},{}\".format(aval_gramado*20,aval_curitiba*20))#20 devido a escala ser de 0 a 5"
   ]
  },
  {
   "cell_type": "markdown",
   "metadata": {
    "colab_type": "text",
    "id": "7MdfLemHR6Rg"
   },
   "source": [
    "Calculando a média aritmética"
   ]
  },
  {
   "cell_type": "code",
   "execution_count": 42,
   "metadata": {
    "colab": {},
    "colab_type": "code",
    "id": "qVcDbx0ZR28o"
   },
   "outputs": [
    {
     "name": "stdout",
     "output_type": "stream",
     "text": [
      "Média para Gramado: 79.5\n",
      "Média para Curitiba: 82.5\n"
     ]
    }
   ],
   "source": [
    "print(\"Média para Gramado: {}\".format(np.mean([aval_gramado*20,indice_gramado])))\n",
    "print(\"Média para Curitiba: {}\".format(np.mean([aval_curitiba*20,indice_curitiba])))"
   ]
  },
  {
   "cell_type": "markdown",
   "metadata": {
    "colab_type": "text",
    "id": "VZKjTZmfe9ai"
   },
   "source": [
    "Considerando o mesmo cenário agora utilizando a média geométrica."
   ]
  },
  {
   "cell_type": "code",
   "execution_count": 43,
   "metadata": {
    "colab": {},
    "colab_type": "code",
    "id": "wUqRfna9fqaX"
   },
   "outputs": [
    {
     "name": "stdout",
     "output_type": "stream",
     "text": [
      "Média Geométrica para Gramado: 17.64936259472279\n",
      "Média Geométrica para Curitiba: 18.371173070873837\n"
     ]
    }
   ],
   "source": [
    "print(\"Média Geométrica para Gramado: {}\".format(gmean([aval_gramado,indice_gramado])))\n",
    "print(\"Média Geométrica para Curitiba: {}\".format(gmean([aval_curitiba,indice_curitiba])))"
   ]
  },
  {
   "cell_type": "markdown",
   "metadata": {
    "colab_type": "text",
    "id": "VA_3GtxfDh4W"
   },
   "source": [
    "### Considerações\n",
    "*   Os valores alterados para a mesma escala nos deram **resultados diferentes** mais próximos da realidade.\n",
    "*   Utilizando a média geométrica já nos entrega o resultado \"correto\" pois considera o **relacionamento multiplicativo** entre os dados da amostra.\n",
    "*   É importante notar que aplicando a média geométrica para os dados em **diferentes escalas** o retorno não está na mesma unidade da amostra.\n",
    "\n",
    "\n"
   ]
  },
  {
   "cell_type": "markdown",
   "metadata": {
    "colab_type": "text",
    "id": "3tFjwgjUo0HK"
   },
   "source": [
    "## Média harmônica."
   ]
  },
  {
   "cell_type": "markdown",
   "metadata": {
    "colab_type": "text",
    "id": "RlTZ7Bi9LQiB"
   },
   "source": [
    "![alt text](https://images.unsplash.com/photo-1469854523086-cc02fe5d8800?ixlib=rb-1.2.1&ixid=eyJhcHBfaWQiOjEyMDd9&auto=format&fit=crop&w=500&q=60)\n",
    "\n",
    "\n",
    "Percurso Total da Viagem 10km\n",
    "*   CAMINHO DE IDA = 30km/h\n",
    "*   CAMINHO DE VOLTA = 10km/h\n",
    "\n",
    "\n"
   ]
  },
  {
   "cell_type": "markdown",
   "metadata": {
    "colab_type": "text",
    "id": "rq1AgTOwL81C"
   },
   "source": [
    "**Qual a velocidade média da viagem?**"
   ]
  },
  {
   "cell_type": "markdown",
   "metadata": {
    "colab_type": "text",
    "id": "5DdHJOV-MAjw"
   },
   "source": [
    "Usando a média aritmética"
   ]
  },
  {
   "cell_type": "code",
   "execution_count": 36,
   "metadata": {
    "colab": {},
    "colab_type": "code",
    "id": "dQUp2bL7MCrP"
   },
   "outputs": [
    {
     "data": {
      "text/plain": [
       "20.0"
      ]
     },
     "execution_count": 36,
     "metadata": {},
     "output_type": "execute_result"
    }
   ],
   "source": [
    "np.mean([30,10])"
   ]
  },
  {
   "cell_type": "markdown",
   "metadata": {
    "colab_type": "text",
    "id": "Puroq9bhMHWa"
   },
   "source": [
    "**VIAGEM DE IDA - 5km à 30km/h**\n",
    "*   30 km por 60 minutos = 1 km a cada 2 minutos = 1/2 km por minuto.\n",
    "*   5km a 1/2 km por minuto = 10 minutos.\n"
   ]
  },
  {
   "cell_type": "markdown",
   "metadata": {
    "colab_type": "text",
    "id": "8ROIpoCUMvrY"
   },
   "source": [
    "**VIAGEM DE VOLTA - 5km à 10km/h**\n",
    "*   10 km por 60 minutos = 1 km a cada 6 minutos = 1/6 km por minuto.\n",
    "*   5 km a 1/6 km por minuto = 30 minutos."
   ]
  },
  {
   "cell_type": "markdown",
   "metadata": {
    "colab_type": "text",
    "id": "jn_J4LC1Nbgv"
   },
   "source": [
    "Tempo total da viagem = 40 minutos"
   ]
  },
  {
   "cell_type": "markdown",
   "metadata": {
    "colab_type": "text",
    "id": "Wp9UKdKUNeIr"
   },
   "source": [
    "Proporção da viagem de ida em relação ao tempo total da viagem."
   ]
  },
  {
   "cell_type": "code",
   "execution_count": 37,
   "metadata": {
    "colab": {},
    "colab_type": "code",
    "id": "udmHdBEONlts"
   },
   "outputs": [
    {
     "name": "stdout",
     "output_type": "stream",
     "text": [
      "Proporção de tempo da viagem de ida em relação ao tempo total da viagem: 25.0%\n"
     ]
    }
   ],
   "source": [
    "print(\"Proporção de tempo da viagem de ida em relação ao tempo total da viagem: {}%\".format((10/40)*100))"
   ]
  },
  {
   "cell_type": "code",
   "execution_count": 38,
   "metadata": {
    "colab": {},
    "colab_type": "code",
    "id": "wiMymk_kN4GQ"
   },
   "outputs": [
    {
     "name": "stdout",
     "output_type": "stream",
     "text": [
      "Proporção de tempo da viagem de volta em relação ao tempo total da viagem: 75.0%\n"
     ]
    }
   ],
   "source": [
    "print(\"Proporção de tempo da viagem de volta em relação ao tempo total da viagem: {}%\".format((30/40)*100))"
   ]
  },
  {
   "cell_type": "markdown",
   "metadata": {
    "colab_type": "text",
    "id": "DLEUHTG5OhfT"
   },
   "source": [
    "Calculando a Média Aritmética Ponderada."
   ]
  },
  {
   "cell_type": "code",
   "execution_count": 39,
   "metadata": {
    "colab": {},
    "colab_type": "code",
    "id": "nusGgidhOICo"
   },
   "outputs": [
    {
     "data": {
      "text/plain": [
       "15.0"
      ]
     },
     "execution_count": 39,
     "metadata": {},
     "output_type": "execute_result"
    }
   ],
   "source": [
    "np.average([30,10], weights=[.25,.75])"
   ]
  },
  {
   "cell_type": "code",
   "execution_count": 40,
   "metadata": {
    "colab": {},
    "colab_type": "code",
    "id": "FUmdGfGYOzKn"
   },
   "outputs": [
    {
     "data": {
      "text/plain": [
       "15.0"
      ]
     },
     "execution_count": 40,
     "metadata": {},
     "output_type": "execute_result"
    }
   ],
   "source": [
    "hmean([30,10])"
   ]
  },
  {
   "cell_type": "markdown",
   "metadata": {
    "colab_type": "text",
    "id": "Pv7QcAODWiQO"
   },
   "source": [
    "### As médias seguem um relacionamento ordinal: **média harmônica < média geométrica < a média aritmética**."
   ]
  },
  {
   "cell_type": "markdown",
   "metadata": {
    "colab_type": "text",
    "id": "C0YTVp4jXWff"
   },
   "source": [
    "Considerando os dados com o relacionamento aditivo."
   ]
  },
  {
   "cell_type": "code",
   "execution_count": 44,
   "metadata": {
    "colab": {},
    "colab_type": "code",
    "id": "e3NhRbvm5lDQ"
   },
   "outputs": [],
   "source": [
    "dados = [1, 4, 7, 10, 13, 16, 19]"
   ]
  },
  {
   "cell_type": "code",
   "execution_count": 45,
   "metadata": {
    "colab": {},
    "colab_type": "code",
    "id": "kvSWHH3cInuI"
   },
   "outputs": [],
   "source": [
    "media_aritmetica,media_geometrica,media_harmonica = round(np.mean(dados),2),round(gmean(dados),2),round(hmean(dados),2)"
   ]
  },
  {
   "cell_type": "code",
   "execution_count": 46,
   "metadata": {
    "colab": {},
    "colab_type": "code",
    "id": "4ZYD_FsQKCxR"
   },
   "outputs": [
    {
     "data": {
      "text/plain": [
       "(10.0, 7.3, 4.15)"
      ]
     },
     "execution_count": 46,
     "metadata": {},
     "output_type": "execute_result"
    }
   ],
   "source": [
    "media_aritmetica,media_geometrica,media_harmonica"
   ]
  },
  {
   "cell_type": "markdown",
   "metadata": {
    "colab_type": "text",
    "id": "JhVIFn9oXb4T"
   },
   "source": [
    "Visualizando graficamente."
   ]
  },
  {
   "cell_type": "code",
   "execution_count": 47,
   "metadata": {
    "colab": {},
    "colab_type": "code",
    "id": "lcDJoUTG5pmd"
   },
   "outputs": [
    {
     "name": "stdout",
     "output_type": "stream",
     "text": [
      "Dados: [1, 4, 4.15, 7, 7.3, 10, 10.0, 13, 16, 19]\n",
      "Media aritmética: 10.0, Média Geométrica: 7.3, Média Harmonica: 4.15\n"
     ]
    },
    {
     "data": {
      "image/png": "[encoded data removed]",
      "text/plain": [
       "<Figure size 576x432 with 1 Axes>"
      ]
     },
     "metadata": {
      "needs_background": "light"
     },
     "output_type": "display_data"
    }
   ],
   "source": [
    "plot_line_means(dados,media_aritmetica,media_geometrica,media_harmonica)"
   ]
  },
  {
   "cell_type": "markdown",
   "metadata": {
    "colab_type": "text",
    "id": "GJBRL-yhXe5V"
   },
   "source": [
    "Considerando os dados com o relacionamento multiplicativo."
   ]
  },
  {
   "cell_type": "code",
   "execution_count": 48,
   "metadata": {
    "colab": {},
    "colab_type": "code",
    "id": "K_SIYROiwXg0"
   },
   "outputs": [],
   "source": [
    "dados = [1, 3, 9, 27, 81, 243, 729]"
   ]
  },
  {
   "cell_type": "code",
   "execution_count": 49,
   "metadata": {
    "colab": {},
    "colab_type": "code",
    "id": "MEFonWSmQOZw"
   },
   "outputs": [],
   "source": [
    "media_aritmetica,media_geometrica,media_harmonica = round(np.mean(dados),2),round(gmean(dados),2),round(hmean(dados),2)"
   ]
  },
  {
   "cell_type": "code",
   "execution_count": 50,
   "metadata": {
    "colab": {},
    "colab_type": "code",
    "id": "qDlf65sSQO-d"
   },
   "outputs": [
    {
     "data": {
      "text/plain": [
       "(156.14, 27.0, 4.67)"
      ]
     },
     "execution_count": 50,
     "metadata": {},
     "output_type": "execute_result"
    }
   ],
   "source": [
    "media_aritmetica,media_geometrica,media_harmonica"
   ]
  },
  {
   "cell_type": "markdown",
   "metadata": {
    "colab_type": "text",
    "id": "5LDtiaNqXoMW"
   },
   "source": [
    "Visualizando graficamente."
   ]
  },
  {
   "cell_type": "code",
   "execution_count": 51,
   "metadata": {
    "colab": {},
    "colab_type": "code",
    "id": "_5T8CtKpQQ9T"
   },
   "outputs": [
    {
     "name": "stdout",
     "output_type": "stream",
     "text": [
      "Dados: [1, 3, 4.67, 9, 27, 27.0, 81, 156.14, 243, 729]\n",
      "Media aritmética: 156.14, Média Geométrica: 27.0, Média Harmonica: 4.67\n"
     ]
    },
    {
     "data": {
      "image/png": "[encoded data removed]",
      "text/plain": [
       "<Figure size 576x432 with 1 Axes>"
      ]
     },
     "metadata": {
      "needs_background": "light"
     },
     "output_type": "display_data"
    }
   ],
   "source": [
    "plot_line_means(dados,media_aritmetica,media_geometrica,media_harmonica)"
   ]
  },
  {
   "cell_type": "markdown",
   "metadata": {
    "colab_type": "text",
    "id": "cLUMxLrsKPhI"
   },
   "source": [
    "**Moda - Valores mais frequentes da distribuição**"
   ]
  },
  {
   "cell_type": "code",
   "execution_count": 52,
   "metadata": {
    "colab": {},
    "colab_type": "code",
    "id": "kYSd6b9OfVwY"
   },
   "outputs": [],
   "source": [
    "dados=[4,5,4,6,5,8,4]"
   ]
  },
  {
   "cell_type": "code",
   "execution_count": 53,
   "metadata": {
    "colab": {},
    "colab_type": "code",
    "id": "2oE4M8bXfzex"
   },
   "outputs": [
    {
     "data": {
      "text/plain": [
       "ModeResult(mode=array([4]), count=array([3]))"
      ]
     },
     "execution_count": 53,
     "metadata": {},
     "output_type": "execute_result"
    }
   ],
   "source": [
    "stats.mode(dados)"
   ]
  },
  {
   "cell_type": "code",
   "execution_count": 54,
   "metadata": {
    "colab": {},
    "colab_type": "code",
    "id": "Fo_jLni1XHcA"
   },
   "outputs": [],
   "source": [
    "dados_bimodal=[4,5,4,6,5,8,4,4,5,5]"
   ]
  },
  {
   "cell_type": "code",
   "execution_count": 55,
   "metadata": {
    "colab": {},
    "colab_type": "code",
    "id": "Hf-SVQKh7axy"
   },
   "outputs": [],
   "source": [
    "from collections import Counter"
   ]
  },
  {
   "cell_type": "code",
   "execution_count": 56,
   "metadata": {
    "colab": {},
    "colab_type": "code",
    "id": "7nuDt03sfv0c"
   },
   "outputs": [],
   "source": [
    "def calcula_moda(dados):\n",
    "    number_counts = Counter(dados)#verifica os registros e retorna os valores e suas frequências.\n",
    "    print(number_counts)\n",
    "    modes = [val for val,count in number_counts.items() if count == max(number_counts.values())]\n",
    "    return modes"
   ]
  },
  {
   "cell_type": "code",
   "execution_count": 57,
   "metadata": {
    "colab": {},
    "colab_type": "code",
    "id": "dBroOcLkXTDy"
   },
   "outputs": [
    {
     "name": "stdout",
     "output_type": "stream",
     "text": [
      "Counter({4: 4, 5: 4, 6: 1, 8: 1})\n"
     ]
    },
    {
     "data": {
      "text/plain": [
       "[4, 5]"
      ]
     },
     "execution_count": 57,
     "metadata": {},
     "output_type": "execute_result"
    }
   ],
   "source": [
    "calcula_moda(dados_bimodal)"
   ]
  },
  {
   "cell_type": "code",
   "execution_count": 61,
   "metadata": {
    "colab": {},
    "colab_type": "code",
    "id": "2xAmiAi7Xrzo"
   },
   "outputs": [],
   "source": [
    "dados_amodal=[1,2,3,4,5]"
   ]
  },
  {
   "cell_type": "code",
   "execution_count": 62,
   "metadata": {
    "colab": {},
    "colab_type": "code",
    "id": "rjV57RNJgqP_"
   },
   "outputs": [
    {
     "name": "stdout",
     "output_type": "stream",
     "text": [
      "Counter({1: 1, 2: 1, 3: 1, 4: 1, 5: 1})\n"
     ]
    },
    {
     "data": {
      "text/plain": [
       "[1, 2, 3, 4, 5]"
      ]
     },
     "execution_count": 62,
     "metadata": {},
     "output_type": "execute_result"
    }
   ],
   "source": [
    "calcula_moda(dados_amodal)"
   ]
  },
  {
   "cell_type": "markdown",
   "metadata": {
    "colab_type": "text",
    "id": "yLfFLbVEKP9J"
   },
   "source": [
    "**Mediana - É o valor da variável que divide os dados ordenados em duas partes de igual frequência.**"
   ]
  },
  {
   "cell_type": "code",
   "execution_count": 63,
   "metadata": {
    "colab": {},
    "colab_type": "code",
    "id": "ciTxDV5etNw6"
   },
   "outputs": [],
   "source": [
    "dados_mediana7 = [7,1,5,2,3,1,6]"
   ]
  },
  {
   "cell_type": "code",
   "execution_count": 64,
   "metadata": {
    "colab": {},
    "colab_type": "code",
    "id": "_DKfdkLRumFj"
   },
   "outputs": [
    {
     "data": {
      "text/plain": [
       "array([1, 1, 2, 3, 5, 6, 7])"
      ]
     },
     "execution_count": 64,
     "metadata": {},
     "output_type": "execute_result"
    }
   ],
   "source": [
    "np.sort(dados_mediana7) #ordena"
   ]
  },
  {
   "cell_type": "code",
   "execution_count": 65,
   "metadata": {
    "colab": {},
    "colab_type": "code",
    "id": "eDGhZOZntYf_"
   },
   "outputs": [
    {
     "data": {
      "text/plain": [
       "3.0"
      ]
     },
     "execution_count": 65,
     "metadata": {},
     "output_type": "execute_result"
    }
   ],
   "source": [
    "np.median(dados_mediana7)"
   ]
  },
  {
   "cell_type": "code",
   "execution_count": 66,
   "metadata": {
    "colab": {},
    "colab_type": "code",
    "id": "rWkL3hsiKY3q"
   },
   "outputs": [],
   "source": [
    "dados_mediana8 = [1,2,1,1,4,5,3,6]"
   ]
  },
  {
   "cell_type": "code",
   "execution_count": 67,
   "metadata": {
    "colab": {},
    "colab_type": "code",
    "id": "HDy0_g95uu6I"
   },
   "outputs": [
    {
     "data": {
      "text/plain": [
       "array([1, 1, 1, 2, 3, 4, 5, 6])"
      ]
     },
     "execution_count": 67,
     "metadata": {},
     "output_type": "execute_result"
    }
   ],
   "source": [
    "np.sort(dados_mediana8)"
   ]
  },
  {
   "cell_type": "code",
   "execution_count": 68,
   "metadata": {
    "colab": {},
    "colab_type": "code",
    "id": "JyEACdIpuFzI"
   },
   "outputs": [
    {
     "data": {
      "text/plain": [
       "2.5"
      ]
     },
     "execution_count": 68,
     "metadata": {},
     "output_type": "execute_result"
    }
   ],
   "source": [
    "np.median(dados_mediana8)"
   ]
  },
  {
   "cell_type": "markdown",
   "metadata": {
    "colab_type": "text",
    "id": "hsgSxTj7KQFg"
   },
   "source": [
    "# Medidas Separatrizes"
   ]
  },
  {
   "cell_type": "code",
   "execution_count": 69,
   "metadata": {
    "colab": {},
    "colab_type": "code",
    "executionInfo": {
     "elapsed": 1207,
     "status": "ok",
     "timestamp": 1596479402513,
     "user": {
      "displayName": "Felipe Santana",
      "photoUrl": "https://lh3.googleusercontent.com/a-/AOh14GgMc2wbpQbaVUnfYBetWGe9_J4RyeipR29kWtEliw=s64",
      "userId": "18224110012862864727"
     },
     "user_tz": 180
    },
    "id": "8TPGX7OgrYQX"
   },
   "outputs": [],
   "source": [
    "notas = [13,25,69,72,33,41,28,17,65]"
   ]
  },
  {
   "cell_type": "code",
   "execution_count": 70,
   "metadata": {
    "colab": {
     "base_uri": "https://localhost:8080/",
     "height": 35
    },
    "colab_type": "code",
    "executionInfo": {
     "elapsed": 1052,
     "status": "ok",
     "timestamp": 1596479420995,
     "user": {
      "displayName": "Felipe Santana",
      "photoUrl": "https://lh3.googleusercontent.com/a-/AOh14GgMc2wbpQbaVUnfYBetWGe9_J4RyeipR29kWtEliw=s64",
      "userId": "18224110012862864727"
     },
     "user_tz": 180
    },
    "id": "wdlvMgV3wCn5",
    "outputId": "a192c789-ffac-4db2-bda1-626ef1ec1c1e"
   },
   "outputs": [
    {
     "data": {
      "text/plain": [
       "array([13, 17, 25, 28, 33, 41, 65, 69, 72])"
      ]
     },
     "execution_count": 70,
     "metadata": {},
     "output_type": "execute_result"
    }
   ],
   "source": [
    "np.sort(notas)"
   ]
  },
  {
   "cell_type": "markdown",
   "metadata": {
    "colab_type": "text",
    "id": "eLQnsttezVO2"
   },
   "source": [
    "**Q1 - Primeiro Quartil**"
   ]
  },
  {
   "cell_type": "code",
   "execution_count": 71,
   "metadata": {
    "colab": {
     "base_uri": "https://localhost:8080/",
     "height": 35
    },
    "colab_type": "code",
    "executionInfo": {
     "elapsed": 1248,
     "status": "ok",
     "timestamp": 1596479458413,
     "user": {
      "displayName": "Felipe Santana",
      "photoUrl": "https://lh3.googleusercontent.com/a-/AOh14GgMc2wbpQbaVUnfYBetWGe9_J4RyeipR29kWtEliw=s64",
      "userId": "18224110012862864727"
     },
     "user_tz": 180
    },
    "id": "fAGdGABNwo7-",
    "outputId": "ec008651-06ea-4dd2-e1e8-1becbc5145c1"
   },
   "outputs": [
    {
     "data": {
      "text/plain": [
       "25.0"
      ]
     },
     "execution_count": 71,
     "metadata": {},
     "output_type": "execute_result"
    }
   ],
   "source": [
    "np.quantile(notas,.25)"
   ]
  },
  {
   "cell_type": "markdown",
   "metadata": {
    "colab_type": "text",
    "id": "0hMYdvm4zch-"
   },
   "source": [
    "**Q2 - Segundo Quartil**"
   ]
  },
  {
   "cell_type": "code",
   "execution_count": 72,
   "metadata": {
    "colab": {
     "base_uri": "https://localhost:8080/",
     "height": 35
    },
    "colab_type": "code",
    "executionInfo": {
     "elapsed": 1210,
     "status": "ok",
     "timestamp": 1596479486992,
     "user": {
      "displayName": "Felipe Santana",
      "photoUrl": "https://lh3.googleusercontent.com/a-/AOh14GgMc2wbpQbaVUnfYBetWGe9_J4RyeipR29kWtEliw=s64",
      "userId": "18224110012862864727"
     },
     "user_tz": 180
    },
    "id": "GxyOye9-xjYN",
    "outputId": "39d8e5ad-2416-4815-9f4e-3886ac405fcf"
   },
   "outputs": [
    {
     "data": {
      "text/plain": [
       "33.0"
      ]
     },
     "execution_count": 72,
     "metadata": {},
     "output_type": "execute_result"
    }
   ],
   "source": [
    "np.quantile(notas,.50)"
   ]
  },
  {
   "cell_type": "markdown",
   "metadata": {
    "colab_type": "text",
    "id": "ctNCMCDi1jCD"
   },
   "source": [
    "Comparando com o valor da Mediana"
   ]
  },
  {
   "cell_type": "code",
   "execution_count": 73,
   "metadata": {
    "colab": {
     "base_uri": "https://localhost:8080/",
     "height": 35
    },
    "colab_type": "code",
    "executionInfo": {
     "elapsed": 1638,
     "status": "ok",
     "timestamp": 1596479515969,
     "user": {
      "displayName": "Felipe Santana",
      "photoUrl": "https://lh3.googleusercontent.com/a-/AOh14GgMc2wbpQbaVUnfYBetWGe9_J4RyeipR29kWtEliw=s64",
      "userId": "18224110012862864727"
     },
     "user_tz": 180
    },
    "id": "NIi79oqa1mTG",
    "outputId": "0baa4cee-a683-43b9-de6f-1647634942b0"
   },
   "outputs": [
    {
     "data": {
      "text/plain": [
       "33.0"
      ]
     },
     "execution_count": 73,
     "metadata": {},
     "output_type": "execute_result"
    }
   ],
   "source": [
    "np.median(notas)"
   ]
  },
  {
   "cell_type": "markdown",
   "metadata": {
    "colab_type": "text",
    "id": "T0R8upGzzfZM"
   },
   "source": [
    "**Q3 - Terceiro Quartil**"
   ]
  },
  {
   "cell_type": "code",
   "execution_count": 74,
   "metadata": {
    "colab": {
     "base_uri": "https://localhost:8080/",
     "height": 35
    },
    "colab_type": "code",
    "executionInfo": {
     "elapsed": 877,
     "status": "ok",
     "timestamp": 1596479533785,
     "user": {
      "displayName": "Felipe Santana",
      "photoUrl": "https://lh3.googleusercontent.com/a-/AOh14GgMc2wbpQbaVUnfYBetWGe9_J4RyeipR29kWtEliw=s64",
      "userId": "18224110012862864727"
     },
     "user_tz": 180
    },
    "id": "LfRbaWQFxjKV",
    "outputId": "a0b31854-df6b-4644-c9ae-1e8a226f2c9f"
   },
   "outputs": [
    {
     "data": {
      "text/plain": [
       "65.0"
      ]
     },
     "execution_count": 74,
     "metadata": {},
     "output_type": "execute_result"
    }
   ],
   "source": [
    "np.quantile(notas,.75)"
   ]
  },
  {
   "cell_type": "markdown",
   "metadata": {
    "colab_type": "text",
    "id": "S1JYS8Wj70Mh"
   },
   "source": [
    "**P25 - Percentil 25 = Q1**"
   ]
  },
  {
   "cell_type": "code",
   "execution_count": 75,
   "metadata": {
    "colab": {
     "base_uri": "https://localhost:8080/",
     "height": 35
    },
    "colab_type": "code",
    "executionInfo": {
     "elapsed": 1342,
     "status": "ok",
     "timestamp": 1596479605867,
     "user": {
      "displayName": "Felipe Santana",
      "photoUrl": "https://lh3.googleusercontent.com/a-/AOh14GgMc2wbpQbaVUnfYBetWGe9_J4RyeipR29kWtEliw=s64",
      "userId": "18224110012862864727"
     },
     "user_tz": 180
    },
    "id": "K0YrgDin1EoD",
    "outputId": "d3ddcc0c-0c34-48ff-fa25-8b2acfe4138d"
   },
   "outputs": [
    {
     "data": {
      "text/plain": [
       "25.0"
      ]
     },
     "execution_count": 75,
     "metadata": {},
     "output_type": "execute_result"
    }
   ],
   "source": [
    "np.percentile(notas,25)"
   ]
  },
  {
   "cell_type": "markdown",
   "metadata": {
    "colab_type": "text",
    "id": "cQrKlLbb8Zwe"
   },
   "source": [
    "**P50 - Percentil 50 = Q2**\n"
   ]
  },
  {
   "cell_type": "code",
   "execution_count": 76,
   "metadata": {
    "colab": {
     "base_uri": "https://localhost:8080/",
     "height": 35
    },
    "colab_type": "code",
    "executionInfo": {
     "elapsed": 1130,
     "status": "ok",
     "timestamp": 1596479613548,
     "user": {
      "displayName": "Felipe Santana",
      "photoUrl": "https://lh3.googleusercontent.com/a-/AOh14GgMc2wbpQbaVUnfYBetWGe9_J4RyeipR29kWtEliw=s64",
      "userId": "18224110012862864727"
     },
     "user_tz": 180
    },
    "id": "-AxJlUmw8HYe",
    "outputId": "c1815f8e-45e8-4fc6-84fd-751b4c9f4da1"
   },
   "outputs": [
    {
     "data": {
      "text/plain": [
       "33.0"
      ]
     },
     "execution_count": 76,
     "metadata": {},
     "output_type": "execute_result"
    }
   ],
   "source": [
    "np.percentile(notas,50)"
   ]
  },
  {
   "cell_type": "markdown",
   "metadata": {
    "colab_type": "text",
    "id": "vBnkRaEh8KK2"
   },
   "source": [
    "**P75 - Percentil 75 = Q3**"
   ]
  },
  {
   "cell_type": "code",
   "execution_count": 77,
   "metadata": {
    "colab": {
     "base_uri": "https://localhost:8080/",
     "height": 35
    },
    "colab_type": "code",
    "executionInfo": {
     "elapsed": 975,
     "status": "ok",
     "timestamp": 1596479627832,
     "user": {
      "displayName": "Felipe Santana",
      "photoUrl": "https://lh3.googleusercontent.com/a-/AOh14GgMc2wbpQbaVUnfYBetWGe9_J4RyeipR29kWtEliw=s64",
      "userId": "18224110012862864727"
     },
     "user_tz": 180
    },
    "id": "Z_-CRb0P8LF_",
    "outputId": "db24dfe3-bac0-4371-e121-d268e7e957b8"
   },
   "outputs": [
    {
     "data": {
      "text/plain": [
       "65.0"
      ]
     },
     "execution_count": 77,
     "metadata": {},
     "output_type": "execute_result"
    }
   ],
   "source": [
    "np.percentile(notas,75)"
   ]
  },
  {
   "cell_type": "markdown",
   "metadata": {
    "colab_type": "text",
    "id": "0rfhERIXKQNw"
   },
   "source": [
    "## Medidas de Variação e Dispersão"
   ]
  },
  {
   "cell_type": "code",
   "execution_count": 78,
   "metadata": {
    "colab": {},
    "colab_type": "code",
    "executionInfo": {
     "elapsed": 1139,
     "status": "ok",
     "timestamp": 1596479930880,
     "user": {
      "displayName": "Felipe Santana",
      "photoUrl": "https://lh3.googleusercontent.com/a-/AOh14GgMc2wbpQbaVUnfYBetWGe9_J4RyeipR29kWtEliw=s64",
      "userId": "18224110012862864727"
     },
     "user_tz": 180
    },
    "id": "_eI5nwzR0Ph6"
   },
   "outputs": [],
   "source": [
    "dados_dispersao = [10,20,30,40,50,60,70,80,90,100]"
   ]
  },
  {
   "cell_type": "markdown",
   "metadata": {
    "colab_type": "text",
    "id": "SMpUvp880giq"
   },
   "source": [
    "**Média**"
   ]
  },
  {
   "cell_type": "code",
   "execution_count": 79,
   "metadata": {
    "colab": {
     "base_uri": "https://localhost:8080/",
     "height": 35
    },
    "colab_type": "code",
    "executionInfo": {
     "elapsed": 1063,
     "status": "ok",
     "timestamp": 1596479943495,
     "user": {
      "displayName": "Felipe Santana",
      "photoUrl": "https://lh3.googleusercontent.com/a-/AOh14GgMc2wbpQbaVUnfYBetWGe9_J4RyeipR29kWtEliw=s64",
      "userId": "18224110012862864727"
     },
     "user_tz": 180
    },
    "id": "ihucagrh0ihn",
    "outputId": "e38edb69-45d9-47d9-fa77-8aa04ca6dea8"
   },
   "outputs": [
    {
     "data": {
      "text/plain": [
       "55.0"
      ]
     },
     "execution_count": 79,
     "metadata": {},
     "output_type": "execute_result"
    }
   ],
   "source": [
    "np.mean(dados_dispersao)"
   ]
  },
  {
   "cell_type": "markdown",
   "metadata": {
    "colab_type": "text",
    "id": "B1M62ymNKhbw"
   },
   "source": [
    "**Variância**\n",
    "\n",
    "![alt text](https://wikimedia.org/api/rest_v1/media/math/render/svg/c2446a06b779245a22147449fc523f2b1b0013ef)"
   ]
  },
  {
   "cell_type": "code",
   "execution_count": 80,
   "metadata": {
    "colab": {
     "base_uri": "https://localhost:8080/",
     "height": 35
    },
    "colab_type": "code",
    "executionInfo": {
     "elapsed": 894,
     "status": "ok",
     "timestamp": 1596480016073,
     "user": {
      "displayName": "Felipe Santana",
      "photoUrl": "https://lh3.googleusercontent.com/a-/AOh14GgMc2wbpQbaVUnfYBetWGe9_J4RyeipR29kWtEliw=s64",
      "userId": "18224110012862864727"
     },
     "user_tz": 180
    },
    "id": "rFqROpyiKq5O",
    "outputId": "f7245a64-330d-48b7-bb82-d3fe907f714f"
   },
   "outputs": [
    {
     "data": {
      "text/plain": [
       "825.0"
      ]
     },
     "execution_count": 80,
     "metadata": {},
     "output_type": "execute_result"
    }
   ],
   "source": [
    "np.var(dados_dispersao)"
   ]
  },
  {
   "cell_type": "markdown",
   "metadata": {
    "colab_type": "text",
    "id": "4-oBtLcnKQVh"
   },
   "source": [
    "**Desvio Padrão**\n",
    "\n",
    "![alt text](https://wikimedia.org/api/rest_v1/media/math/render/svg/cc45b72e1fd6a3de3ec4977f42367f104f57583f)"
   ]
  },
  {
   "cell_type": "code",
   "execution_count": 81,
   "metadata": {
    "colab": {
     "base_uri": "https://localhost:8080/",
     "height": 35
    },
    "colab_type": "code",
    "executionInfo": {
     "elapsed": 1204,
     "status": "ok",
     "timestamp": 1596480063078,
     "user": {
      "displayName": "Felipe Santana",
      "photoUrl": "https://lh3.googleusercontent.com/a-/AOh14GgMc2wbpQbaVUnfYBetWGe9_J4RyeipR29kWtEliw=s64",
      "userId": "18224110012862864727"
     },
     "user_tz": 180
    },
    "id": "bv1jLqB2KgHo",
    "outputId": "4911ad33-ce63-4c7c-af0f-71923f219e82"
   },
   "outputs": [
    {
     "data": {
      "text/plain": [
       "28.722813232690143"
      ]
     },
     "execution_count": 81,
     "metadata": {},
     "output_type": "execute_result"
    }
   ],
   "source": [
    "np.std(dados_dispersao)"
   ]
  },
  {
   "cell_type": "markdown",
   "metadata": {
    "colab_type": "text",
    "id": "quE0vzU2KigB"
   },
   "source": [
    "**Coeficiente de Variação**"
   ]
  },
  {
   "cell_type": "code",
   "execution_count": 82,
   "metadata": {
    "colab": {
     "base_uri": "https://localhost:8080/",
     "height": 35
    },
    "colab_type": "code",
    "executionInfo": {
     "elapsed": 1443,
     "status": "ok",
     "timestamp": 1596480168711,
     "user": {
      "displayName": "Felipe Santana",
      "photoUrl": "https://lh3.googleusercontent.com/a-/AOh14GgMc2wbpQbaVUnfYBetWGe9_J4RyeipR29kWtEliw=s64",
      "userId": "18224110012862864727"
     },
     "user_tz": 180
    },
    "id": "-pulTCl-1IQf",
    "outputId": "1d1a141e-5d52-451f-8562-ab771af4be3c"
   },
   "outputs": [
    {
     "data": {
      "text/plain": [
       "0.5222329678670935"
      ]
     },
     "execution_count": 82,
     "metadata": {},
     "output_type": "execute_result"
    }
   ],
   "source": [
    "stats.variation(dados_dispersao)"
   ]
  },
  {
   "cell_type": "markdown",
   "metadata": {
    "colab_type": "text",
    "id": "ikOkDTuaZIvf"
   },
   "source": [
    "Importante: Um coeficiente de variação **menor que 25%** é um bom indicativo de homogeneidade dos dados, ou seja, os dados não variam tanto a partir da média."
   ]
  },
  {
   "cell_type": "code",
   "execution_count": 83,
   "metadata": {
    "colab": {},
    "colab_type": "code",
    "executionInfo": {
     "elapsed": 1302,
     "status": "ok",
     "timestamp": 1596480237779,
     "user": {
      "displayName": "Felipe Santana",
      "photoUrl": "https://lh3.googleusercontent.com/a-/AOh14GgMc2wbpQbaVUnfYBetWGe9_J4RyeipR29kWtEliw=s64",
      "userId": "18224110012862864727"
     },
     "user_tz": 180
    },
    "id": "Ln66W8PPKpXh"
   },
   "outputs": [],
   "source": [
    "media=np.mean(dados_dispersao)\n",
    "desvio_padrao = np.std(dados_dispersao)"
   ]
  },
  {
   "cell_type": "code",
   "execution_count": 84,
   "metadata": {
    "colab": {
     "base_uri": "https://localhost:8080/",
     "height": 35
    },
    "colab_type": "code",
    "executionInfo": {
     "elapsed": 1269,
     "status": "ok",
     "timestamp": 1596480242298,
     "user": {
      "displayName": "Felipe Santana",
      "photoUrl": "https://lh3.googleusercontent.com/a-/AOh14GgMc2wbpQbaVUnfYBetWGe9_J4RyeipR29kWtEliw=s64",
      "userId": "18224110012862864727"
     },
     "user_tz": 180
    },
    "id": "jZOMqLYc1d40",
    "outputId": "ad856300-3c16-41ee-e065-8ed1ab279a91"
   },
   "outputs": [
    {
     "data": {
      "text/plain": [
       "0.5222329678670935"
      ]
     },
     "execution_count": 84,
     "metadata": {},
     "output_type": "execute_result"
    }
   ],
   "source": [
    "desvio_padrao/media"
   ]
  },
  {
   "cell_type": "markdown",
   "metadata": {
    "colab_type": "text",
    "id": "6_ZtdOoG0XRV"
   },
   "source": [
    "# Exemplo usando o Pandas"
   ]
  },
  {
   "cell_type": "markdown",
   "metadata": {
    "colab_type": "text",
    "id": "aY_ma9QR9wQq"
   },
   "source": [
    "Importando as bibliotecas."
   ]
  },
  {
   "cell_type": "code",
   "execution_count": 85,
   "metadata": {
    "colab": {},
    "colab_type": "code",
    "executionInfo": {
     "elapsed": 1100,
     "status": "ok",
     "timestamp": 1596480268063,
     "user": {
      "displayName": "Felipe Santana",
      "photoUrl": "https://lh3.googleusercontent.com/a-/AOh14GgMc2wbpQbaVUnfYBetWGe9_J4RyeipR29kWtEliw=s64",
      "userId": "18224110012862864727"
     },
     "user_tz": 180
    },
    "id": "IM3LHKiy0Wcs"
   },
   "outputs": [],
   "source": [
    "import pandas as pd               \n",
    "import numpy as np\n",
    "import seaborn as sns\n",
    "import matplotlib.pyplot as plt"
   ]
  },
  {
   "cell_type": "markdown",
   "metadata": {
    "colab_type": "text",
    "id": "W5mg0_Qn9zGZ"
   },
   "source": [
    "Carregando a base de dados."
   ]
  },
  {
   "cell_type": "code",
   "execution_count": 86,
   "metadata": {
    "colab": {},
    "colab_type": "code",
    "executionInfo": {
     "elapsed": 931,
     "status": "ok",
     "timestamp": 1596480287343,
     "user": {
      "displayName": "Felipe Santana",
      "photoUrl": "https://lh3.googleusercontent.com/a-/AOh14GgMc2wbpQbaVUnfYBetWGe9_J4RyeipR29kWtEliw=s64",
      "userId": "18224110012862864727"
     },
     "user_tz": 180
    },
    "id": "TQZu8udy054-"
   },
   "outputs": [],
   "source": [
    "df = pd.read_csv(\"cars.csv\")"
   ]
  },
  {
   "cell_type": "markdown",
   "metadata": {
    "colab_type": "text",
    "id": "EHmo2YK291nD"
   },
   "source": [
    "Verificando os dados."
   ]
  },
  {
   "cell_type": "code",
   "execution_count": 88,
   "metadata": {
    "colab": {
     "base_uri": "https://localhost:8080/",
     "height": 267
    },
    "colab_type": "code",
    "executionInfo": {
     "elapsed": 1096,
     "status": "ok",
     "timestamp": 1596480293293,
     "user": {
      "displayName": "Felipe Santana",
      "photoUrl": "https://lh3.googleusercontent.com/a-/AOh14GgMc2wbpQbaVUnfYBetWGe9_J4RyeipR29kWtEliw=s64",
      "userId": "18224110012862864727"
     },
     "user_tz": 180
    },
    "id": "9U2gxtoo1NTf",
    "outputId": "e2e31f01-1743-430f-c98b-dae502a95616"
   },
   "outputs": [
    {
     "data": {
      "text/html": [
       "<div>\n",
       "<style scoped>\n",
       "    .dataframe tbody tr th:only-of-type {\n",
       "        vertical-align: middle;\n",
       "    }\n",
       "\n",
       "    .dataframe tbody tr th {\n",
       "        vertical-align: top;\n",
       "    }\n",
       "\n",
       "    .dataframe thead th {\n",
       "        text-align: right;\n",
       "    }\n",
       "</style>\n",
       "<table border=\"1\" class=\"dataframe\">\n",
       "  <thead>\n",
       "    <tr style=\"text-align: right;\">\n",
       "      <th></th>\n",
       "      <th>Make</th>\n",
       "      <th>Model</th>\n",
       "      <th>Type</th>\n",
       "      <th>Origin</th>\n",
       "      <th>DriveTrain</th>\n",
       "      <th>MSRP</th>\n",
       "      <th>Invoice</th>\n",
       "      <th>EngineSize</th>\n",
       "      <th>Cylinders</th>\n",
       "      <th>Horsepower</th>\n",
       "      <th>MPG_City</th>\n",
       "      <th>MPG_Highway</th>\n",
       "      <th>Weight</th>\n",
       "      <th>Wheelbase</th>\n",
       "      <th>Length</th>\n",
       "    </tr>\n",
       "  </thead>\n",
       "  <tbody>\n",
       "    <tr>\n",
       "      <th>0</th>\n",
       "      <td>Acura</td>\n",
       "      <td>MDX</td>\n",
       "      <td>SUV</td>\n",
       "      <td>Asia</td>\n",
       "      <td>All</td>\n",
       "      <td>$36,945</td>\n",
       "      <td>$33,337</td>\n",
       "      <td>3.5</td>\n",
       "      <td>6.0</td>\n",
       "      <td>265</td>\n",
       "      <td>17</td>\n",
       "      <td>23</td>\n",
       "      <td>4451</td>\n",
       "      <td>106</td>\n",
       "      <td>189</td>\n",
       "    </tr>\n",
       "    <tr>\n",
       "      <th>1</th>\n",
       "      <td>Acura</td>\n",
       "      <td>RSX Type S 2dr</td>\n",
       "      <td>Sedan</td>\n",
       "      <td>Asia</td>\n",
       "      <td>Front</td>\n",
       "      <td>$23,820</td>\n",
       "      <td>$21,761</td>\n",
       "      <td>2.0</td>\n",
       "      <td>4.0</td>\n",
       "      <td>200</td>\n",
       "      <td>24</td>\n",
       "      <td>31</td>\n",
       "      <td>2778</td>\n",
       "      <td>101</td>\n",
       "      <td>172</td>\n",
       "    </tr>\n",
       "    <tr>\n",
       "      <th>2</th>\n",
       "      <td>Acura</td>\n",
       "      <td>TSX 4dr</td>\n",
       "      <td>Sedan</td>\n",
       "      <td>Asia</td>\n",
       "      <td>Front</td>\n",
       "      <td>$26,990</td>\n",
       "      <td>$24,647</td>\n",
       "      <td>2.4</td>\n",
       "      <td>4.0</td>\n",
       "      <td>200</td>\n",
       "      <td>22</td>\n",
       "      <td>29</td>\n",
       "      <td>3230</td>\n",
       "      <td>105</td>\n",
       "      <td>183</td>\n",
       "    </tr>\n",
       "    <tr>\n",
       "      <th>3</th>\n",
       "      <td>Acura</td>\n",
       "      <td>TL 4dr</td>\n",
       "      <td>Sedan</td>\n",
       "      <td>Asia</td>\n",
       "      <td>Front</td>\n",
       "      <td>$33,195</td>\n",
       "      <td>$30,299</td>\n",
       "      <td>3.2</td>\n",
       "      <td>6.0</td>\n",
       "      <td>270</td>\n",
       "      <td>20</td>\n",
       "      <td>28</td>\n",
       "      <td>3575</td>\n",
       "      <td>108</td>\n",
       "      <td>186</td>\n",
       "    </tr>\n",
       "    <tr>\n",
       "      <th>4</th>\n",
       "      <td>Acura</td>\n",
       "      <td>3.5 RL 4dr</td>\n",
       "      <td>Sedan</td>\n",
       "      <td>Asia</td>\n",
       "      <td>Front</td>\n",
       "      <td>$43,755</td>\n",
       "      <td>$39,014</td>\n",
       "      <td>3.5</td>\n",
       "      <td>6.0</td>\n",
       "      <td>225</td>\n",
       "      <td>18</td>\n",
       "      <td>24</td>\n",
       "      <td>3880</td>\n",
       "      <td>115</td>\n",
       "      <td>197</td>\n",
       "    </tr>\n",
       "    <tr>\n",
       "      <th>5</th>\n",
       "      <td>Acura</td>\n",
       "      <td>3.5 RL w/Navigation 4dr</td>\n",
       "      <td>Sedan</td>\n",
       "      <td>Asia</td>\n",
       "      <td>Front</td>\n",
       "      <td>$46,100</td>\n",
       "      <td>$41,100</td>\n",
       "      <td>3.5</td>\n",
       "      <td>6.0</td>\n",
       "      <td>225</td>\n",
       "      <td>18</td>\n",
       "      <td>24</td>\n",
       "      <td>3893</td>\n",
       "      <td>115</td>\n",
       "      <td>197</td>\n",
       "    </tr>\n",
       "    <tr>\n",
       "      <th>6</th>\n",
       "      <td>Acura</td>\n",
       "      <td>NSX coupe 2dr manual S</td>\n",
       "      <td>Sports</td>\n",
       "      <td>Asia</td>\n",
       "      <td>Rear</td>\n",
       "      <td>$89,765</td>\n",
       "      <td>$79,978</td>\n",
       "      <td>3.2</td>\n",
       "      <td>6.0</td>\n",
       "      <td>290</td>\n",
       "      <td>17</td>\n",
       "      <td>24</td>\n",
       "      <td>3153</td>\n",
       "      <td>100</td>\n",
       "      <td>174</td>\n",
       "    </tr>\n",
       "    <tr>\n",
       "      <th>7</th>\n",
       "      <td>Audi</td>\n",
       "      <td>A4 1.8T 4dr</td>\n",
       "      <td>Sedan</td>\n",
       "      <td>Europe</td>\n",
       "      <td>Front</td>\n",
       "      <td>$25,940</td>\n",
       "      <td>$23,508</td>\n",
       "      <td>1.8</td>\n",
       "      <td>4.0</td>\n",
       "      <td>170</td>\n",
       "      <td>22</td>\n",
       "      <td>31</td>\n",
       "      <td>3252</td>\n",
       "      <td>104</td>\n",
       "      <td>179</td>\n",
       "    </tr>\n",
       "    <tr>\n",
       "      <th>8</th>\n",
       "      <td>Audi</td>\n",
       "      <td>A41.8T convertible 2dr</td>\n",
       "      <td>Sedan</td>\n",
       "      <td>Europe</td>\n",
       "      <td>Front</td>\n",
       "      <td>$35,940</td>\n",
       "      <td>$32,506</td>\n",
       "      <td>1.8</td>\n",
       "      <td>4.0</td>\n",
       "      <td>170</td>\n",
       "      <td>23</td>\n",
       "      <td>30</td>\n",
       "      <td>3638</td>\n",
       "      <td>105</td>\n",
       "      <td>180</td>\n",
       "    </tr>\n",
       "    <tr>\n",
       "      <th>9</th>\n",
       "      <td>Audi</td>\n",
       "      <td>A4 3.0 4dr</td>\n",
       "      <td>Sedan</td>\n",
       "      <td>Europe</td>\n",
       "      <td>Front</td>\n",
       "      <td>$31,840</td>\n",
       "      <td>$28,846</td>\n",
       "      <td>3.0</td>\n",
       "      <td>6.0</td>\n",
       "      <td>220</td>\n",
       "      <td>20</td>\n",
       "      <td>28</td>\n",
       "      <td>3462</td>\n",
       "      <td>104</td>\n",
       "      <td>179</td>\n",
       "    </tr>\n",
       "  </tbody>\n",
       "</table>\n",
       "</div>"
      ],
      "text/plain": [
       "    Make                    Model    Type  Origin DriveTrain     MSRP  \\\n",
       "0  Acura                      MDX     SUV    Asia        All  $36,945   \n",
       "1  Acura           RSX Type S 2dr   Sedan    Asia      Front  $23,820   \n",
       "2  Acura                  TSX 4dr   Sedan    Asia      Front  $26,990   \n",
       "3  Acura                   TL 4dr   Sedan    Asia      Front  $33,195   \n",
       "4  Acura               3.5 RL 4dr   Sedan    Asia      Front  $43,755   \n",
       "5  Acura  3.5 RL w/Navigation 4dr   Sedan    Asia      Front  $46,100   \n",
       "6  Acura   NSX coupe 2dr manual S  Sports    Asia       Rear  $89,765   \n",
       "7   Audi              A4 1.8T 4dr   Sedan  Europe      Front  $25,940   \n",
       "8   Audi   A41.8T convertible 2dr   Sedan  Europe      Front  $35,940   \n",
       "9   Audi               A4 3.0 4dr   Sedan  Europe      Front  $31,840   \n",
       "\n",
       "   Invoice  EngineSize  Cylinders  Horsepower  MPG_City  MPG_Highway  Weight  \\\n",
       "0  $33,337         3.5        6.0         265        17           23    4451   \n",
       "1  $21,761         2.0        4.0         200        24           31    2778   \n",
       "2  $24,647         2.4        4.0         200        22           29    3230   \n",
       "3  $30,299         3.2        6.0         270        20           28    3575   \n",
       "4  $39,014         3.5        6.0         225        18           24    3880   \n",
       "5  $41,100         3.5        6.0         225        18           24    3893   \n",
       "6  $79,978         3.2        6.0         290        17           24    3153   \n",
       "7  $23,508         1.8        4.0         170        22           31    3252   \n",
       "8  $32,506         1.8        4.0         170        23           30    3638   \n",
       "9  $28,846         3.0        6.0         220        20           28    3462   \n",
       "\n",
       "   Wheelbase  Length  \n",
       "0        106     189  \n",
       "1        101     172  \n",
       "2        105     183  \n",
       "3        108     186  \n",
       "4        115     197  \n",
       "5        115     197  \n",
       "6        100     174  \n",
       "7        104     179  \n",
       "8        105     180  \n",
       "9        104     179  "
      ]
     },
     "execution_count": 88,
     "metadata": {},
     "output_type": "execute_result"
    }
   ],
   "source": [
    "df.head(10)"
   ]
  },
  {
   "cell_type": "markdown",
   "metadata": {
    "colab_type": "text",
    "id": "msmP07bj99fw"
   },
   "source": [
    "Verificando as informações do conjunto de dados."
   ]
  },
  {
   "cell_type": "code",
   "execution_count": 89,
   "metadata": {
    "colab": {
     "base_uri": "https://localhost:8080/",
     "height": 397
    },
    "colab_type": "code",
    "executionInfo": {
     "elapsed": 1191,
     "status": "ok",
     "timestamp": 1596480318572,
     "user": {
      "displayName": "Felipe Santana",
      "photoUrl": "https://lh3.googleusercontent.com/a-/AOh14GgMc2wbpQbaVUnfYBetWGe9_J4RyeipR29kWtEliw=s64",
      "userId": "18224110012862864727"
     },
     "user_tz": 180
    },
    "id": "dSf8ykDt3WgQ",
    "outputId": "cb0413e5-eafd-45cf-cd37-1640385c55c2"
   },
   "outputs": [
    {
     "name": "stdout",
     "output_type": "stream",
     "text": [
      "<class 'pandas.core.frame.DataFrame'>\n",
      "RangeIndex: 428 entries, 0 to 427\n",
      "Data columns (total 15 columns):\n",
      " #   Column       Non-Null Count  Dtype  \n",
      "---  ------       --------------  -----  \n",
      " 0   Make         428 non-null    object \n",
      " 1   Model        428 non-null    object \n",
      " 2   Type         428 non-null    object \n",
      " 3   Origin       428 non-null    object \n",
      " 4   DriveTrain   428 non-null    object \n",
      " 5   MSRP         428 non-null    object \n",
      " 6   Invoice      428 non-null    object \n",
      " 7   EngineSize   428 non-null    float64\n",
      " 8   Cylinders    426 non-null    float64\n",
      " 9   Horsepower   428 non-null    int64  \n",
      " 10  MPG_City     428 non-null    int64  \n",
      " 11  MPG_Highway  428 non-null    int64  \n",
      " 12  Weight       428 non-null    int64  \n",
      " 13  Wheelbase    428 non-null    int64  \n",
      " 14  Length       428 non-null    int64  \n",
      "dtypes: float64(2), int64(6), object(7)\n",
      "memory usage: 50.3+ KB\n"
     ]
    }
   ],
   "source": [
    "df.info()"
   ]
  },
  {
   "cell_type": "markdown",
   "metadata": {
    "colab_type": "text",
    "id": "IkBocEye-CtR"
   },
   "source": [
    "Limpando os dados do atributo MSRP."
   ]
  },
  {
   "cell_type": "code",
   "execution_count": 90,
   "metadata": {
    "colab": {},
    "colab_type": "code",
    "executionInfo": {
     "elapsed": 1138,
     "status": "ok",
     "timestamp": 1596480376012,
     "user": {
      "displayName": "Felipe Santana",
      "photoUrl": "https://lh3.googleusercontent.com/a-/AOh14GgMc2wbpQbaVUnfYBetWGe9_J4RyeipR29kWtEliw=s64",
      "userId": "18224110012862864727"
     },
     "user_tz": 180
    },
    "id": "f9VYXpEO3W2X"
   },
   "outputs": [],
   "source": [
    "df['MSRP'] = [x.replace('$', '') for x in df['MSRP']] \n",
    "df['MSRP'] = [x.replace(',', '') for x in df['MSRP']]"
   ]
  },
  {
   "cell_type": "markdown",
   "metadata": {
    "colab_type": "text",
    "id": "YRiUjfU5_S2R"
   },
   "source": [
    "Verificando os dados após limpeza."
   ]
  },
  {
   "cell_type": "code",
   "execution_count": 91,
   "metadata": {
    "colab": {
     "base_uri": "https://localhost:8080/",
     "height": 121
    },
    "colab_type": "code",
    "executionInfo": {
     "elapsed": 894,
     "status": "ok",
     "timestamp": 1596480378461,
     "user": {
      "displayName": "Felipe Santana",
      "photoUrl": "https://lh3.googleusercontent.com/a-/AOh14GgMc2wbpQbaVUnfYBetWGe9_J4RyeipR29kWtEliw=s64",
      "userId": "18224110012862864727"
     },
     "user_tz": 180
    },
    "id": "8COuUjwe-Tj3",
    "outputId": "ae56352a-9906-490d-9359-3ce34fb1a4c5"
   },
   "outputs": [
    {
     "data": {
      "text/plain": [
       "0    36945\n",
       "1    23820\n",
       "2    26990\n",
       "3    33195\n",
       "4    43755\n",
       "Name: MSRP, dtype: object"
      ]
     },
     "execution_count": 91,
     "metadata": {},
     "output_type": "execute_result"
    }
   ],
   "source": [
    "df['MSRP'].head(5)"
   ]
  },
  {
   "cell_type": "markdown",
   "metadata": {
    "colab_type": "text",
    "id": "u6MPYZkI_XBm"
   },
   "source": [
    "Verificando as informações do conjunto de dados."
   ]
  },
  {
   "cell_type": "code",
   "execution_count": 92,
   "metadata": {
    "colab": {
     "base_uri": "https://localhost:8080/",
     "height": 397
    },
    "colab_type": "code",
    "executionInfo": {
     "elapsed": 940,
     "status": "ok",
     "timestamp": 1596480402139,
     "user": {
      "displayName": "Felipe Santana",
      "photoUrl": "https://lh3.googleusercontent.com/a-/AOh14GgMc2wbpQbaVUnfYBetWGe9_J4RyeipR29kWtEliw=s64",
      "userId": "18224110012862864727"
     },
     "user_tz": 180
    },
    "id": "67KkkIAd_J0V",
    "outputId": "c1e6d756-cf7f-4faf-acb0-8b1a2720c972"
   },
   "outputs": [
    {
     "name": "stdout",
     "output_type": "stream",
     "text": [
      "<class 'pandas.core.frame.DataFrame'>\n",
      "RangeIndex: 428 entries, 0 to 427\n",
      "Data columns (total 15 columns):\n",
      " #   Column       Non-Null Count  Dtype  \n",
      "---  ------       --------------  -----  \n",
      " 0   Make         428 non-null    object \n",
      " 1   Model        428 non-null    object \n",
      " 2   Type         428 non-null    object \n",
      " 3   Origin       428 non-null    object \n",
      " 4   DriveTrain   428 non-null    object \n",
      " 5   MSRP         428 non-null    object \n",
      " 6   Invoice      428 non-null    object \n",
      " 7   EngineSize   428 non-null    float64\n",
      " 8   Cylinders    426 non-null    float64\n",
      " 9   Horsepower   428 non-null    int64  \n",
      " 10  MPG_City     428 non-null    int64  \n",
      " 11  MPG_Highway  428 non-null    int64  \n",
      " 12  Weight       428 non-null    int64  \n",
      " 13  Wheelbase    428 non-null    int64  \n",
      " 14  Length       428 non-null    int64  \n",
      "dtypes: float64(2), int64(6), object(7)\n",
      "memory usage: 50.3+ KB\n"
     ]
    }
   ],
   "source": [
    "df.info()"
   ]
  },
  {
   "cell_type": "markdown",
   "metadata": {
    "colab_type": "text",
    "id": "fLXk51It-LFY"
   },
   "source": [
    "Transformando os dados para o formato numérico."
   ]
  },
  {
   "cell_type": "code",
   "execution_count": 93,
   "metadata": {
    "colab": {},
    "colab_type": "code",
    "executionInfo": {
     "elapsed": 1126,
     "status": "ok",
     "timestamp": 1596480434896,
     "user": {
      "displayName": "Felipe Santana",
      "photoUrl": "https://lh3.googleusercontent.com/a-/AOh14GgMc2wbpQbaVUnfYBetWGe9_J4RyeipR29kWtEliw=s64",
      "userId": "18224110012862864727"
     },
     "user_tz": 180
    },
    "id": "moGMIr59-Pu2"
   },
   "outputs": [],
   "source": [
    "df['MSRP']=pd.to_numeric(df['MSRP'],errors='coerce')"
   ]
  },
  {
   "cell_type": "code",
   "execution_count": 94,
   "metadata": {
    "colab": {
     "base_uri": "https://localhost:8080/",
     "height": 397
    },
    "colab_type": "code",
    "executionInfo": {
     "elapsed": 1317,
     "status": "ok",
     "timestamp": 1596480437473,
     "user": {
      "displayName": "Felipe Santana",
      "photoUrl": "https://lh3.googleusercontent.com/a-/AOh14GgMc2wbpQbaVUnfYBetWGe9_J4RyeipR29kWtEliw=s64",
      "userId": "18224110012862864727"
     },
     "user_tz": 180
    },
    "id": "yck0iJT0_jPN",
    "outputId": "0737a941-5665-4176-c510-f6b149a7b3ac"
   },
   "outputs": [
    {
     "name": "stdout",
     "output_type": "stream",
     "text": [
      "<class 'pandas.core.frame.DataFrame'>\n",
      "RangeIndex: 428 entries, 0 to 427\n",
      "Data columns (total 15 columns):\n",
      " #   Column       Non-Null Count  Dtype  \n",
      "---  ------       --------------  -----  \n",
      " 0   Make         428 non-null    object \n",
      " 1   Model        428 non-null    object \n",
      " 2   Type         428 non-null    object \n",
      " 3   Origin       428 non-null    object \n",
      " 4   DriveTrain   428 non-null    object \n",
      " 5   MSRP         428 non-null    int64  \n",
      " 6   Invoice      428 non-null    object \n",
      " 7   EngineSize   428 non-null    float64\n",
      " 8   Cylinders    426 non-null    float64\n",
      " 9   Horsepower   428 non-null    int64  \n",
      " 10  MPG_City     428 non-null    int64  \n",
      " 11  MPG_Highway  428 non-null    int64  \n",
      " 12  Weight       428 non-null    int64  \n",
      " 13  Wheelbase    428 non-null    int64  \n",
      " 14  Length       428 non-null    int64  \n",
      "dtypes: float64(2), int64(7), object(6)\n",
      "memory usage: 50.3+ KB\n"
     ]
    }
   ],
   "source": [
    "df.info()"
   ]
  },
  {
   "cell_type": "code",
   "execution_count": 95,
   "metadata": {
    "colab": {
     "base_uri": "https://localhost:8080/",
     "height": 288
    },
    "colab_type": "code",
    "executionInfo": {
     "elapsed": 1160,
     "status": "ok",
     "timestamp": 1596480451600,
     "user": {
      "displayName": "Felipe Santana",
      "photoUrl": "https://lh3.googleusercontent.com/a-/AOh14GgMc2wbpQbaVUnfYBetWGe9_J4RyeipR29kWtEliw=s64",
      "userId": "18224110012862864727"
     },
     "user_tz": 180
    },
    "id": "5ox0DXSg4FXa",
    "outputId": "898efe5e-6478-47bf-cac0-f490e559f0c1"
   },
   "outputs": [
    {
     "data": {
      "text/html": [
       "<div>\n",
       "<style scoped>\n",
       "    .dataframe tbody tr th:only-of-type {\n",
       "        vertical-align: middle;\n",
       "    }\n",
       "\n",
       "    .dataframe tbody tr th {\n",
       "        vertical-align: top;\n",
       "    }\n",
       "\n",
       "    .dataframe thead th {\n",
       "        text-align: right;\n",
       "    }\n",
       "</style>\n",
       "<table border=\"1\" class=\"dataframe\">\n",
       "  <thead>\n",
       "    <tr style=\"text-align: right;\">\n",
       "      <th></th>\n",
       "      <th>MSRP</th>\n",
       "      <th>EngineSize</th>\n",
       "      <th>Cylinders</th>\n",
       "      <th>Horsepower</th>\n",
       "      <th>MPG_City</th>\n",
       "      <th>MPG_Highway</th>\n",
       "      <th>Weight</th>\n",
       "      <th>Wheelbase</th>\n",
       "      <th>Length</th>\n",
       "    </tr>\n",
       "  </thead>\n",
       "  <tbody>\n",
       "    <tr>\n",
       "      <th>count</th>\n",
       "      <td>428.000000</td>\n",
       "      <td>428.000000</td>\n",
       "      <td>426.000000</td>\n",
       "      <td>428.000000</td>\n",
       "      <td>428.000000</td>\n",
       "      <td>428.000000</td>\n",
       "      <td>428.000000</td>\n",
       "      <td>428.000000</td>\n",
       "      <td>428.000000</td>\n",
       "    </tr>\n",
       "    <tr>\n",
       "      <th>mean</th>\n",
       "      <td>32774.855140</td>\n",
       "      <td>3.196729</td>\n",
       "      <td>5.807512</td>\n",
       "      <td>215.885514</td>\n",
       "      <td>20.060748</td>\n",
       "      <td>26.843458</td>\n",
       "      <td>3577.953271</td>\n",
       "      <td>108.154206</td>\n",
       "      <td>186.362150</td>\n",
       "    </tr>\n",
       "    <tr>\n",
       "      <th>std</th>\n",
       "      <td>19431.716674</td>\n",
       "      <td>1.108595</td>\n",
       "      <td>1.558443</td>\n",
       "      <td>71.836032</td>\n",
       "      <td>5.238218</td>\n",
       "      <td>5.741201</td>\n",
       "      <td>758.983215</td>\n",
       "      <td>8.311813</td>\n",
       "      <td>14.357991</td>\n",
       "    </tr>\n",
       "    <tr>\n",
       "      <th>min</th>\n",
       "      <td>10280.000000</td>\n",
       "      <td>1.300000</td>\n",
       "      <td>3.000000</td>\n",
       "      <td>73.000000</td>\n",
       "      <td>10.000000</td>\n",
       "      <td>12.000000</td>\n",
       "      <td>1850.000000</td>\n",
       "      <td>89.000000</td>\n",
       "      <td>143.000000</td>\n",
       "    </tr>\n",
       "    <tr>\n",
       "      <th>25%</th>\n",
       "      <td>20334.250000</td>\n",
       "      <td>2.375000</td>\n",
       "      <td>4.000000</td>\n",
       "      <td>165.000000</td>\n",
       "      <td>17.000000</td>\n",
       "      <td>24.000000</td>\n",
       "      <td>3104.000000</td>\n",
       "      <td>103.000000</td>\n",
       "      <td>178.000000</td>\n",
       "    </tr>\n",
       "    <tr>\n",
       "      <th>50%</th>\n",
       "      <td>27635.000000</td>\n",
       "      <td>3.000000</td>\n",
       "      <td>6.000000</td>\n",
       "      <td>210.000000</td>\n",
       "      <td>19.000000</td>\n",
       "      <td>26.000000</td>\n",
       "      <td>3474.500000</td>\n",
       "      <td>107.000000</td>\n",
       "      <td>187.000000</td>\n",
       "    </tr>\n",
       "    <tr>\n",
       "      <th>75%</th>\n",
       "      <td>39205.000000</td>\n",
       "      <td>3.900000</td>\n",
       "      <td>6.000000</td>\n",
       "      <td>255.000000</td>\n",
       "      <td>21.250000</td>\n",
       "      <td>29.000000</td>\n",
       "      <td>3977.750000</td>\n",
       "      <td>112.000000</td>\n",
       "      <td>194.000000</td>\n",
       "    </tr>\n",
       "    <tr>\n",
       "      <th>max</th>\n",
       "      <td>192465.000000</td>\n",
       "      <td>8.300000</td>\n",
       "      <td>12.000000</td>\n",
       "      <td>500.000000</td>\n",
       "      <td>60.000000</td>\n",
       "      <td>66.000000</td>\n",
       "      <td>7190.000000</td>\n",
       "      <td>144.000000</td>\n",
       "      <td>238.000000</td>\n",
       "    </tr>\n",
       "  </tbody>\n",
       "</table>\n",
       "</div>"
      ],
      "text/plain": [
       "                MSRP  EngineSize   Cylinders  Horsepower    MPG_City  \\\n",
       "count     428.000000  428.000000  426.000000  428.000000  428.000000   \n",
       "mean    32774.855140    3.196729    5.807512  215.885514   20.060748   \n",
       "std     19431.716674    1.108595    1.558443   71.836032    5.238218   \n",
       "min     10280.000000    1.300000    3.000000   73.000000   10.000000   \n",
       "25%     20334.250000    2.375000    4.000000  165.000000   17.000000   \n",
       "50%     27635.000000    3.000000    6.000000  210.000000   19.000000   \n",
       "75%     39205.000000    3.900000    6.000000  255.000000   21.250000   \n",
       "max    192465.000000    8.300000   12.000000  500.000000   60.000000   \n",
       "\n",
       "       MPG_Highway       Weight   Wheelbase      Length  \n",
       "count   428.000000   428.000000  428.000000  428.000000  \n",
       "mean     26.843458  3577.953271  108.154206  186.362150  \n",
       "std       5.741201   758.983215    8.311813   14.357991  \n",
       "min      12.000000  1850.000000   89.000000  143.000000  \n",
       "25%      24.000000  3104.000000  103.000000  178.000000  \n",
       "50%      26.000000  3474.500000  107.000000  187.000000  \n",
       "75%      29.000000  3977.750000  112.000000  194.000000  \n",
       "max      66.000000  7190.000000  144.000000  238.000000  "
      ]
     },
     "execution_count": 95,
     "metadata": {},
     "output_type": "execute_result"
    }
   ],
   "source": [
    "df.describe()"
   ]
  },
  {
   "cell_type": "markdown",
   "metadata": {
    "colab_type": "text",
    "id": "ImsZg0Zs49vT"
   },
   "source": [
    "Calculando a média aritmética."
   ]
  },
  {
   "cell_type": "code",
   "execution_count": 96,
   "metadata": {
    "colab": {
     "base_uri": "https://localhost:8080/",
     "height": 35
    },
    "colab_type": "code",
    "executionInfo": {
     "elapsed": 1063,
     "status": "ok",
     "timestamp": 1596480480475,
     "user": {
      "displayName": "Felipe Santana",
      "photoUrl": "https://lh3.googleusercontent.com/a-/AOh14GgMc2wbpQbaVUnfYBetWGe9_J4RyeipR29kWtEliw=s64",
      "userId": "18224110012862864727"
     },
     "user_tz": 180
    },
    "id": "3seXVSmG4thu",
    "outputId": "b7f74008-3a50-42f7-d26a-98036bee4b2d"
   },
   "outputs": [
    {
     "data": {
      "text/plain": [
       "32774.85514018692"
      ]
     },
     "execution_count": 96,
     "metadata": {},
     "output_type": "execute_result"
    }
   ],
   "source": [
    "df[\"MSRP\"].mean()"
   ]
  },
  {
   "cell_type": "code",
   "execution_count": 97,
   "metadata": {
    "colab": {},
    "colab_type": "code",
    "executionInfo": {
     "elapsed": 1088,
     "status": "ok",
     "timestamp": 1596480502601,
     "user": {
      "displayName": "Felipe Santana",
      "photoUrl": "https://lh3.googleusercontent.com/a-/AOh14GgMc2wbpQbaVUnfYBetWGe9_J4RyeipR29kWtEliw=s64",
      "userId": "18224110012862864727"
     },
     "user_tz": 180
    },
    "id": "jVTusAT_5BrI"
   },
   "outputs": [],
   "source": [
    "msrp = df[\"MSRP\"]"
   ]
  },
  {
   "cell_type": "code",
   "execution_count": 98,
   "metadata": {
    "colab": {
     "base_uri": "https://localhost:8080/",
     "height": 35
    },
    "colab_type": "code",
    "executionInfo": {
     "elapsed": 1070,
     "status": "ok",
     "timestamp": 1596480507044,
     "user": {
      "displayName": "Felipe Santana",
      "photoUrl": "https://lh3.googleusercontent.com/a-/AOh14GgMc2wbpQbaVUnfYBetWGe9_J4RyeipR29kWtEliw=s64",
      "userId": "18224110012862864727"
     },
     "user_tz": 180
    },
    "id": "fUq9bx4f5KpR",
    "outputId": "dea1279e-288e-4135-bf3e-3f0fc7138938"
   },
   "outputs": [
    {
     "data": {
      "text/plain": [
       "32774.85514018692"
      ]
     },
     "execution_count": 98,
     "metadata": {},
     "output_type": "execute_result"
    }
   ],
   "source": [
    "msrp.mean()"
   ]
  },
  {
   "cell_type": "markdown",
   "metadata": {
    "colab_type": "text",
    "id": "yr9wH1gs7CZ3"
   },
   "source": [
    "Média geométrica"
   ]
  },
  {
   "cell_type": "code",
   "execution_count": 99,
   "metadata": {
    "colab": {
     "base_uri": "https://localhost:8080/",
     "height": 35
    },
    "colab_type": "code",
    "executionInfo": {
     "elapsed": 998,
     "status": "ok",
     "timestamp": 1596480530013,
     "user": {
      "displayName": "Felipe Santana",
      "photoUrl": "https://lh3.googleusercontent.com/a-/AOh14GgMc2wbpQbaVUnfYBetWGe9_J4RyeipR29kWtEliw=s64",
      "userId": "18224110012862864727"
     },
     "user_tz": 180
    },
    "id": "H_Gcy9t46AZf",
    "outputId": "39829e5e-5892-447f-e8ef-113400118bd2"
   },
   "outputs": [
    {
     "data": {
      "text/plain": [
       "28841.635198804073"
      ]
     },
     "execution_count": 99,
     "metadata": {},
     "output_type": "execute_result"
    }
   ],
   "source": [
    "gmean(msrp)"
   ]
  },
  {
   "cell_type": "markdown",
   "metadata": {
    "colab_type": "text",
    "id": "RZ5F94By7Eol"
   },
   "source": [
    "Média Harmônica"
   ]
  },
  {
   "cell_type": "code",
   "execution_count": 100,
   "metadata": {
    "colab": {
     "base_uri": "https://localhost:8080/",
     "height": 35
    },
    "colab_type": "code",
    "executionInfo": {
     "elapsed": 1334,
     "status": "ok",
     "timestamp": 1596480538561,
     "user": {
      "displayName": "Felipe Santana",
      "photoUrl": "https://lh3.googleusercontent.com/a-/AOh14GgMc2wbpQbaVUnfYBetWGe9_J4RyeipR29kWtEliw=s64",
      "userId": "18224110012862864727"
     },
     "user_tz": 180
    },
    "id": "jb53birq6ycT",
    "outputId": "5b76d584-fddb-41e3-f76b-a726011e56e1"
   },
   "outputs": [
    {
     "data": {
      "text/plain": [
       "25837.78463669279"
      ]
     },
     "execution_count": 100,
     "metadata": {},
     "output_type": "execute_result"
    }
   ],
   "source": [
    "hmean(msrp)"
   ]
  },
  {
   "cell_type": "markdown",
   "metadata": {
    "colab_type": "text",
    "id": "VSKZh0yU7I5r"
   },
   "source": [
    "Mediana"
   ]
  },
  {
   "cell_type": "code",
   "execution_count": 101,
   "metadata": {
    "colab": {
     "base_uri": "https://localhost:8080/",
     "height": 35
    },
    "colab_type": "code",
    "executionInfo": {
     "elapsed": 863,
     "status": "ok",
     "timestamp": 1596480572073,
     "user": {
      "displayName": "Felipe Santana",
      "photoUrl": "https://lh3.googleusercontent.com/a-/AOh14GgMc2wbpQbaVUnfYBetWGe9_J4RyeipR29kWtEliw=s64",
      "userId": "18224110012862864727"
     },
     "user_tz": 180
    },
    "id": "bKjUXqop5Ohr",
    "outputId": "22b2cbf5-d091-480a-bd80-89496af5f507"
   },
   "outputs": [
    {
     "data": {
      "text/plain": [
       "27635.0"
      ]
     },
     "execution_count": 101,
     "metadata": {},
     "output_type": "execute_result"
    }
   ],
   "source": [
    "msrp.median()"
   ]
  },
  {
   "cell_type": "markdown",
   "metadata": {
    "colab_type": "text",
    "id": "mpcgkQFt7Kjx"
   },
   "source": [
    "Moda"
   ]
  },
  {
   "cell_type": "code",
   "execution_count": 103,
   "metadata": {},
   "outputs": [
    {
     "data": {
      "text/plain": [
       "ModeResult(mode=array([13270], dtype=int64), count=array([2]))"
      ]
     },
     "execution_count": 103,
     "metadata": {},
     "output_type": "execute_result"
    }
   ],
   "source": [
    "stats.mode(msrp)"
   ]
  },
  {
   "cell_type": "code",
   "execution_count": 102,
   "metadata": {
    "colab": {},
    "colab_type": "code",
    "id": "QXYVS8F15O1G"
   },
   "outputs": [
    {
     "data": {
      "text/plain": [
       "0     13270\n",
       "1     15389\n",
       "2     19635\n",
       "3     19860\n",
       "4     21055\n",
       "5     21595\n",
       "6     23495\n",
       "7     23895\n",
       "8     25700\n",
       "9     27490\n",
       "10    28495\n",
       "11    29995\n",
       "12    31545\n",
       "13    33995\n",
       "14    34495\n",
       "15    35940\n",
       "16    49995\n",
       "17    74995\n",
       "dtype: int64"
      ]
     },
     "execution_count": 102,
     "metadata": {},
     "output_type": "execute_result"
    }
   ],
   "source": [
    "msrp.mode()"
   ]
  },
  {
   "cell_type": "markdown",
   "metadata": {
    "colab_type": "text",
    "id": "xMkxCcZH7L1p"
   },
   "source": [
    "Variância"
   ]
  },
  {
   "cell_type": "code",
   "execution_count": 104,
   "metadata": {
    "colab": {
     "base_uri": "https://localhost:8080/",
     "height": 35
    },
    "colab_type": "code",
    "executionInfo": {
     "elapsed": 1043,
     "status": "ok",
     "timestamp": 1596480605802,
     "user": {
      "displayName": "Felipe Santana",
      "photoUrl": "https://lh3.googleusercontent.com/a-/AOh14GgMc2wbpQbaVUnfYBetWGe9_J4RyeipR29kWtEliw=s64",
      "userId": "18224110012862864727"
     },
     "user_tz": 180
    },
    "id": "NmkXCMna5Pll",
    "outputId": "e7b12aaa-b665-4ab1-8e49-e485e1f9add8"
   },
   "outputs": [
    {
     "data": {
      "text/plain": [
       "377591612.88763136"
      ]
     },
     "execution_count": 104,
     "metadata": {},
     "output_type": "execute_result"
    }
   ],
   "source": [
    "msrp.var()"
   ]
  },
  {
   "cell_type": "markdown",
   "metadata": {
    "colab_type": "text",
    "id": "HJrbuWPK7N56"
   },
   "source": [
    "Desvio padrão"
   ]
  },
  {
   "cell_type": "code",
   "execution_count": 105,
   "metadata": {
    "colab": {
     "base_uri": "https://localhost:8080/",
     "height": 35
    },
    "colab_type": "code",
    "executionInfo": {
     "elapsed": 927,
     "status": "ok",
     "timestamp": 1596480626166,
     "user": {
      "displayName": "Felipe Santana",
      "photoUrl": "https://lh3.googleusercontent.com/a-/AOh14GgMc2wbpQbaVUnfYBetWGe9_J4RyeipR29kWtEliw=s64",
      "userId": "18224110012862864727"
     },
     "user_tz": 180
    },
    "id": "DG3C-Hp95PRt",
    "outputId": "312ae2f4-f082-4433-c1a5-5ffa4a84c4fa"
   },
   "outputs": [
    {
     "data": {
      "text/plain": [
       "19431.716673717518"
      ]
     },
     "execution_count": 105,
     "metadata": {},
     "output_type": "execute_result"
    }
   ],
   "source": [
    "msrp.std()"
   ]
  },
  {
   "cell_type": "markdown",
   "metadata": {
    "colab_type": "text",
    "id": "JDt5DAiC7QwB"
   },
   "source": [
    "Valor máximo."
   ]
  },
  {
   "cell_type": "code",
   "execution_count": 106,
   "metadata": {
    "colab": {
     "base_uri": "https://localhost:8080/",
     "height": 35
    },
    "colab_type": "code",
    "executionInfo": {
     "elapsed": 1265,
     "status": "ok",
     "timestamp": 1596480634106,
     "user": {
      "displayName": "Felipe Santana",
      "photoUrl": "https://lh3.googleusercontent.com/a-/AOh14GgMc2wbpQbaVUnfYBetWGe9_J4RyeipR29kWtEliw=s64",
      "userId": "18224110012862864727"
     },
     "user_tz": 180
    },
    "id": "RM8QdsTK5QHo",
    "outputId": "181aeb26-5b63-4993-8cdb-fe33e5292aaf"
   },
   "outputs": [
    {
     "data": {
      "text/plain": [
       "192465"
      ]
     },
     "execution_count": 106,
     "metadata": {},
     "output_type": "execute_result"
    }
   ],
   "source": [
    "msrp.max()"
   ]
  },
  {
   "cell_type": "markdown",
   "metadata": {
    "colab_type": "text",
    "id": "f5-eXcMC7Tom"
   },
   "source": [
    "Valor mínimo"
   ]
  },
  {
   "cell_type": "code",
   "execution_count": 107,
   "metadata": {
    "colab": {
     "base_uri": "https://localhost:8080/",
     "height": 35
    },
    "colab_type": "code",
    "executionInfo": {
     "elapsed": 1150,
     "status": "ok",
     "timestamp": 1596480638163,
     "user": {
      "displayName": "Felipe Santana",
      "photoUrl": "https://lh3.googleusercontent.com/a-/AOh14GgMc2wbpQbaVUnfYBetWGe9_J4RyeipR29kWtEliw=s64",
      "userId": "18224110012862864727"
     },
     "user_tz": 180
    },
    "id": "HR7oitrC5Qvn",
    "outputId": "cf6dbe11-55d8-4075-ddb4-cf625a6aa161"
   },
   "outputs": [
    {
     "data": {
      "text/plain": [
       "10280"
      ]
     },
     "execution_count": 107,
     "metadata": {},
     "output_type": "execute_result"
    }
   ],
   "source": [
    "msrp.min()"
   ]
  },
  {
   "cell_type": "markdown",
   "metadata": {
    "colab_type": "text",
    "id": "Y-GnN7OQ_Ozh"
   },
   "source": [
    "# Medidas de Assimetria\n",
    "Nos possibilitam analisar uma distribuição em relação a sua moda, mediana e média."
   ]
  },
  {
   "cell_type": "code",
   "execution_count": 108,
   "metadata": {
    "colab": {},
    "colab_type": "code",
    "executionInfo": {
     "elapsed": 1166,
     "status": "ok",
     "timestamp": 1596483627154,
     "user": {
      "displayName": "Felipe Santana",
      "photoUrl": "https://lh3.googleusercontent.com/a-/AOh14GgMc2wbpQbaVUnfYBetWGe9_J4RyeipR29kWtEliw=s64",
      "userId": "18224110012862864727"
     },
     "user_tz": 180
    },
    "id": "kLhqAiHgKQXl"
   },
   "outputs": [],
   "source": [
    "import matplotlib.pyplot as plt\n",
    "import math\n",
    "import numpy as np\n",
    "import seaborn as sns\n",
    "import pandas as pd\n",
    "from scipy.stats import kurtosis, skew\n",
    "%matplotlib inline"
   ]
  },
  {
   "cell_type": "markdown",
   "metadata": {
    "colab_type": "text",
    "id": "qNCNECw3iTuL"
   },
   "source": [
    "Função para calcular estatísticas."
   ]
  },
  {
   "cell_type": "code",
   "execution_count": 110,
   "metadata": {
    "colab": {},
    "colab_type": "code",
    "executionInfo": {
     "elapsed": 945,
     "status": "ok",
     "timestamp": 1596483631500,
     "user": {
      "displayName": "Felipe Santana",
      "photoUrl": "https://lh3.googleusercontent.com/a-/AOh14GgMc2wbpQbaVUnfYBetWGe9_J4RyeipR29kWtEliw=s64",
      "userId": "18224110012862864727"
     },
     "user_tz": 180
    },
    "id": "K0XMPqwHDW-k"
   },
   "outputs": [],
   "source": [
    "def calcula_estatisticas(data):\n",
    "    mean = round(np.mean(data),2)\n",
    "    mode = round(stats.mode(data,)[0][0],2)\n",
    "    median = round(np.median(data),2)\n",
    "    var = round(np.var(data),2)\n",
    "    std = round(np.std(data),2)\n",
    "    coef_pearson = round(stats.skew(data),2)\n",
    "    coef_kurtosis = round(kurtosis(data),2)\n",
    "    msg = print(\"Media: {}\\nModa: {}\\nMediana: {}\\nVariância: {}\\nDesvio Padrão: {}\\nCoeficiente Person: {}\\nCoeficiente de Kurtosi: {}\".format(mean,median,mode,var,std,coef_pearson,coef_kurtosis))\n",
    "    return msg"
   ]
  },
  {
   "cell_type": "markdown",
   "metadata": {
    "colab_type": "text",
    "id": "Za5Hltx1l3pR"
   },
   "source": [
    "Considere a seguinte amostra."
   ]
  },
  {
   "cell_type": "code",
   "execution_count": 111,
   "metadata": {
    "colab": {},
    "colab_type": "code",
    "executionInfo": {
     "elapsed": 1322,
     "status": "ok",
     "timestamp": 1596483687416,
     "user": {
      "displayName": "Felipe Santana",
      "photoUrl": "https://lh3.googleusercontent.com/a-/AOh14GgMc2wbpQbaVUnfYBetWGe9_J4RyeipR29kWtEliw=s64",
      "userId": "18224110012862864727"
     },
     "user_tz": 180
    },
    "id": "NbLEtUIGbazs"
   },
   "outputs": [],
   "source": [
    "s0 = [4,5,6,5,5,6,6,5,4,5,5,5]"
   ]
  },
  {
   "cell_type": "code",
   "execution_count": 112,
   "metadata": {
    "colab": {
     "base_uri": "https://localhost:8080/",
     "height": 138
    },
    "colab_type": "code",
    "executionInfo": {
     "elapsed": 876,
     "status": "ok",
     "timestamp": 1596483687946,
     "user": {
      "displayName": "Felipe Santana",
      "photoUrl": "https://lh3.googleusercontent.com/a-/AOh14GgMc2wbpQbaVUnfYBetWGe9_J4RyeipR29kWtEliw=s64",
      "userId": "18224110012862864727"
     },
     "user_tz": 180
    },
    "id": "ULWk2vH8e0Wp",
    "outputId": "69856645-d875-4155-bbf7-58a3606bf8ff"
   },
   "outputs": [
    {
     "name": "stdout",
     "output_type": "stream",
     "text": [
      "Media: 5.08\n",
      "Moda: 5.0\n",
      "Mediana: 5\n",
      "Variância: 0.41\n",
      "Desvio Padrão: 0.64\n",
      "Coeficiente Person: -0.08\n",
      "Coeficiente de Kurtosi: -0.58\n"
     ]
    }
   ],
   "source": [
    "calcula_estatisticas(s0)"
   ]
  },
  {
   "cell_type": "markdown",
   "metadata": {
    "colab_type": "text",
    "id": "yyj7LY2Y3SCB"
   },
   "source": [
    "Distribuição Simétrica - Média = Moda = Mediana."
   ]
  },
  {
   "cell_type": "code",
   "execution_count": 113,
   "metadata": {
    "colab": {
     "base_uri": "https://localhost:8080/",
     "height": 267
    },
    "colab_type": "code",
    "executionInfo": {
     "elapsed": 1277,
     "status": "ok",
     "timestamp": 1596483807749,
     "user": {
      "displayName": "Felipe Santana",
      "photoUrl": "https://lh3.googleusercontent.com/a-/AOh14GgMc2wbpQbaVUnfYBetWGe9_J4RyeipR29kWtEliw=s64",
      "userId": "18224110012862864727"
     },
     "user_tz": 180
    },
    "id": "Fa1M1i4grycB",
    "outputId": "c971b333-2548-4c21-a039-9fe40bf9a18e"
   },
   "outputs": [
    {
     "data": {
      "image/png": "[encoded data removed]",
      "text/plain": [
       "<Figure size 864x288 with 1 Axes>"
      ]
     },
     "metadata": {
      "needs_background": "light"
     },
     "output_type": "display_data"
    }
   ],
   "source": [
    "fig = plt.figure(figsize=(12, 4))\n",
    "ax = sns.distplot(s0,rug=True,kde=True,hist=False)\n",
    "\n",
    "ax.annotate('Mode', xy=(5, 0.4), xytext=(4.7, 0.7),arrowprops={'arrowstyle': '-'})         \n",
    "ax.annotate('Median', xy=(5, 0.4), xytext=(5.3, 0.7),arrowprops={'arrowstyle': '-'})\n",
    "ax.annotate('Média', xy=(5, 0.4), xytext=(5.0, 1), arrowprops={'arrowstyle': '-'})\n",
    "plt.show()"
   ]
  },
  {
   "cell_type": "markdown",
   "metadata": {
    "colab_type": "text",
    "id": "vZR0Ev4eFouu"
   },
   "source": [
    "Coeficiente de Pearson - O valor é próximo de zero a distribuição é simétrica.\n",
    "\n",
    "Coeficiente de Curtose - O valor é menor que 3 o grau de achatamento da distribuição normal é platicúrtica (mais achatada no platô)"
   ]
  },
  {
   "cell_type": "markdown",
   "metadata": {
    "colab_type": "text",
    "id": "UKXix0t2V7C1"
   },
   "source": [
    "Considere a segunda amostra."
   ]
  },
  {
   "cell_type": "code",
   "execution_count": 114,
   "metadata": {
    "colab": {},
    "colab_type": "code",
    "executionInfo": {
     "elapsed": 1105,
     "status": "ok",
     "timestamp": 1596483942899,
     "user": {
      "displayName": "Felipe Santana",
      "photoUrl": "https://lh3.googleusercontent.com/a-/AOh14GgMc2wbpQbaVUnfYBetWGe9_J4RyeipR29kWtEliw=s64",
      "userId": "18224110012862864727"
     },
     "user_tz": 180
    },
    "id": "lb-A7Psve_sz"
   },
   "outputs": [],
   "source": [
    "s1 = [12,8.0, 4, 3, 2,1,1]"
   ]
  },
  {
   "cell_type": "code",
   "execution_count": 115,
   "metadata": {
    "colab": {
     "base_uri": "https://localhost:8080/",
     "height": 138
    },
    "colab_type": "code",
    "executionInfo": {
     "elapsed": 1316,
     "status": "ok",
     "timestamp": 1596483944484,
     "user": {
      "displayName": "Felipe Santana",
      "photoUrl": "https://lh3.googleusercontent.com/a-/AOh14GgMc2wbpQbaVUnfYBetWGe9_J4RyeipR29kWtEliw=s64",
      "userId": "18224110012862864727"
     },
     "user_tz": 180
    },
    "id": "_3GVdsIpfDrM",
    "outputId": "bd7d5ebe-2438-4952-e7a9-07a7a7c15f6b"
   },
   "outputs": [
    {
     "name": "stdout",
     "output_type": "stream",
     "text": [
      "Media: 4.43\n",
      "Moda: 3.0\n",
      "Mediana: 1.0\n",
      "Variância: 14.53\n",
      "Desvio Padrão: 3.81\n",
      "Coeficiente Person: 0.98\n",
      "Coeficiente de Kurtosi: -0.45\n"
     ]
    }
   ],
   "source": [
    "calcula_estatisticas(s1)"
   ]
  },
  {
   "cell_type": "markdown",
   "metadata": {
    "colab_type": "text",
    "id": "9GiXm6p73teq"
   },
   "source": [
    "Asimétrica Positiva / à direita - Média > Moda > Mediana"
   ]
  },
  {
   "cell_type": "code",
   "execution_count": 118,
   "metadata": {
    "colab": {
     "base_uri": "https://localhost:8080/",
     "height": 265
    },
    "colab_type": "code",
    "executionInfo": {
     "elapsed": 1567,
     "status": "ok",
     "timestamp": 1596484015406,
     "user": {
      "displayName": "Felipe Santana",
      "photoUrl": "https://lh3.googleusercontent.com/a-/AOh14GgMc2wbpQbaVUnfYBetWGe9_J4RyeipR29kWtEliw=s64",
      "userId": "18224110012862864727"
     },
     "user_tz": 180
    },
    "id": "_MFULXorva1t",
    "outputId": "7803f8c9-b9b3-4fcc-8763-1de436d0acd8"
   },
   "outputs": [
    {
     "data": {
      "image/png": "[encoded data removed]",
      "text/plain": [
       "<Figure size 864x288 with 1 Axes>"
      ]
     },
     "metadata": {
      "needs_background": "light"
     },
     "output_type": "display_data"
    }
   ],
   "source": [
    "fig = plt.figure(figsize=(12, 4))\n",
    "ax = sns.distplot(s1,rug=True,kde=True,hist=False)\n",
    "\n",
    "ax.annotate('Moda', xy=(1,0.01), xytext=(1, 0.02),arrowprops={'arrowstyle': '-'})         \n",
    "ax.annotate('Mediana', xy=(3, 0.01), xytext=(3, 0.03),arrowprops={'arrowstyle': '-'})\n",
    "ax.annotate('Média', xy=(4.4, 0.01), xytext=(4.5, 0.02),arrowprops={'arrowstyle': '-'})\n",
    "plt.show()"
   ]
  },
  {
   "cell_type": "markdown",
   "metadata": {
    "colab_type": "text",
    "id": "YgT3LUb0nu5S"
   },
   "source": [
    "Coeficiente de Pearson - O valor é próximo de 1 a distribuição é assimétrica positiva"
   ]
  },
  {
   "cell_type": "markdown",
   "metadata": {
    "colab_type": "text",
    "id": "yM13rLkhjj1W"
   },
   "source": [
    "Considere a terceira amostra"
   ]
  },
  {
   "cell_type": "code",
   "execution_count": 116,
   "metadata": {
    "colab": {},
    "colab_type": "code",
    "executionInfo": {
     "elapsed": 1033,
     "status": "ok",
     "timestamp": 1596484092300,
     "user": {
      "displayName": "Felipe Santana",
      "photoUrl": "https://lh3.googleusercontent.com/a-/AOh14GgMc2wbpQbaVUnfYBetWGe9_J4RyeipR29kWtEliw=s64",
      "userId": "18224110012862864727"
     },
     "user_tz": 180
    },
    "id": "2Z6WDSsEfQtB"
   },
   "outputs": [],
   "source": [
    "s2 = [-3,-1,4,2.5,4,3]"
   ]
  },
  {
   "cell_type": "code",
   "execution_count": 117,
   "metadata": {
    "colab": {
     "base_uri": "https://localhost:8080/",
     "height": 138
    },
    "colab_type": "code",
    "executionInfo": {
     "elapsed": 1135,
     "status": "ok",
     "timestamp": 1596484093596,
     "user": {
      "displayName": "Felipe Santana",
      "photoUrl": "https://lh3.googleusercontent.com/a-/AOh14GgMc2wbpQbaVUnfYBetWGe9_J4RyeipR29kWtEliw=s64",
      "userId": "18224110012862864727"
     },
     "user_tz": 180
    },
    "id": "o9BhWeTCfTab",
    "outputId": "2b2e2c21-f25d-4db6-813c-4e0018af686b"
   },
   "outputs": [
    {
     "name": "stdout",
     "output_type": "stream",
     "text": [
      "Media: 1.58\n",
      "Moda: 2.75\n",
      "Mediana: 4.0\n",
      "Variância: 7.03\n",
      "Desvio Padrão: 2.65\n",
      "Coeficiente Person: -0.73\n",
      "Coeficiente de Kurtosi: -1.12\n"
     ]
    }
   ],
   "source": [
    "calcula_estatisticas(s2)"
   ]
  },
  {
   "cell_type": "markdown",
   "metadata": {
    "colab_type": "text",
    "id": "cH_kVyzP36gf"
   },
   "source": [
    "Asimétrica negativa / à esquerda - Média < Moda < Mediana"
   ]
  },
  {
   "cell_type": "code",
   "execution_count": 119,
   "metadata": {
    "colab": {
     "base_uri": "https://localhost:8080/",
     "height": 265
    },
    "colab_type": "code",
    "executionInfo": {
     "elapsed": 1069,
     "status": "ok",
     "timestamp": 1596484129464,
     "user": {
      "displayName": "Felipe Santana",
      "photoUrl": "https://lh3.googleusercontent.com/a-/AOh14GgMc2wbpQbaVUnfYBetWGe9_J4RyeipR29kWtEliw=s64",
      "userId": "18224110012862864727"
     },
     "user_tz": 180
    },
    "id": "CMMlyXFt1Zsc",
    "outputId": "97bccb8c-5a3a-4271-b9c3-968693c029fc"
   },
   "outputs": [
    {
     "data": {
      "image/png": "[encoded data removed]",
      "text/plain": [
       "<Figure size 864x288 with 1 Axes>"
      ]
     },
     "metadata": {
      "needs_background": "light"
     },
     "output_type": "display_data"
    }
   ],
   "source": [
    "fig = plt.figure(figsize=(12, 4))\n",
    "ax = sns.distplot(s2,rug=True,kde=True,hist=False)\n",
    "\n",
    "ax.annotate('Moda', xy=(4,0.01), xytext=(5, 0.05),arrowprops={'arrowstyle': '-'})         \n",
    "ax.annotate('Mediana', xy=(2.75, 0.01), xytext=(3, 0.03),arrowprops={'arrowstyle': '-'})\n",
    "ax.annotate('Média', xy=(1.5, 0.01), xytext=(0.5, 0.05),arrowprops={'arrowstyle': '-'})\n",
    "plt.show()"
   ]
  },
  {
   "cell_type": "markdown",
   "metadata": {
    "colab_type": "text",
    "id": "UKyKH5yLUClJ"
   },
   "source": [
    "Coeficiente de Pearson - O valor é próximo de -1 a distribuição é assimétrica negativa."
   ]
  },
  {
   "cell_type": "markdown",
   "metadata": {
    "colab_type": "text",
    "id": "oF8uzpKnb3Rp"
   },
   "source": [
    "### Gerando dados aleatórios"
   ]
  },
  {
   "cell_type": "markdown",
   "metadata": {
    "colab_type": "text",
    "id": "J6NW6-MxcAu-"
   },
   "source": [
    "Amostra seguindo uma distribuição normal"
   ]
  },
  {
   "cell_type": "code",
   "execution_count": 129,
   "metadata": {
    "colab": {},
    "colab_type": "code",
    "executionInfo": {
     "elapsed": 1354,
     "status": "ok",
     "timestamp": 1596484239672,
     "user": {
      "displayName": "Felipe Santana",
      "photoUrl": "https://lh3.googleusercontent.com/a-/AOh14GgMc2wbpQbaVUnfYBetWGe9_J4RyeipR29kWtEliw=s64",
      "userId": "18224110012862864727"
     },
     "user_tz": 180
    },
    "id": "6BfqAwCWb8yV"
   },
   "outputs": [],
   "source": [
    "sample_normal = np.random.normal(1,0.5,500)"
   ]
  },
  {
   "cell_type": "code",
   "execution_count": 130,
   "metadata": {
    "colab": {
     "base_uri": "https://localhost:8080/",
     "height": 52
    },
    "colab_type": "code",
    "executionInfo": {
     "elapsed": 1116,
     "status": "ok",
     "timestamp": 1596484242893,
     "user": {
      "displayName": "Felipe Santana",
      "photoUrl": "https://lh3.googleusercontent.com/a-/AOh14GgMc2wbpQbaVUnfYBetWGe9_J4RyeipR29kWtEliw=s64",
      "userId": "18224110012862864727"
     },
     "user_tz": 180
    },
    "id": "zchoS29UcbyG",
    "outputId": "8eb6eb07-62ec-4588-aca0-e5fcabfd4a12"
   },
   "outputs": [
    {
     "data": {
      "text/plain": [
       "array([1.42041559, 1.10666235, 1.80413022, 2.26533396, 1.37936385,\n",
       "       0.42437002, 1.25532285, 2.08094141, 0.38578745, 1.81219484])"
      ]
     },
     "execution_count": 130,
     "metadata": {},
     "output_type": "execute_result"
    }
   ],
   "source": [
    "sample_normal[:10]"
   ]
  },
  {
   "cell_type": "code",
   "execution_count": 131,
   "metadata": {
    "colab": {
     "base_uri": "https://localhost:8080/",
     "height": 138
    },
    "colab_type": "code",
    "executionInfo": {
     "elapsed": 1032,
     "status": "ok",
     "timestamp": 1596484259093,
     "user": {
      "displayName": "Felipe Santana",
      "photoUrl": "https://lh3.googleusercontent.com/a-/AOh14GgMc2wbpQbaVUnfYBetWGe9_J4RyeipR29kWtEliw=s64",
      "userId": "18224110012862864727"
     },
     "user_tz": 180
    },
    "id": "_CYgTuMLccQG",
    "outputId": "34b8689a-b9df-4751-b62a-69e5f7ea4aa6"
   },
   "outputs": [
    {
     "name": "stdout",
     "output_type": "stream",
     "text": [
      "Media: 1.02\n",
      "Moda: 0.98\n",
      "Mediana: -0.48\n",
      "Variância: 0.24\n",
      "Desvio Padrão: 0.49\n",
      "Coeficiente Person: 0.09\n",
      "Coeficiente de Kurtosi: 0.05\n"
     ]
    }
   ],
   "source": [
    "calcula_estatisticas(sample_normal)"
   ]
  },
  {
   "cell_type": "markdown",
   "metadata": {
    "colab_type": "text",
    "id": "0Q6_3QoVquiP"
   },
   "source": [
    "Visualizando a distribuição"
   ]
  },
  {
   "cell_type": "code",
   "execution_count": 128,
   "metadata": {
    "colab": {
     "base_uri": "https://localhost:8080/",
     "height": 282
    },
    "colab_type": "code",
    "executionInfo": {
     "elapsed": 1348,
     "status": "ok",
     "timestamp": 1596484292730,
     "user": {
      "displayName": "Felipe Santana",
      "photoUrl": "https://lh3.googleusercontent.com/a-/AOh14GgMc2wbpQbaVUnfYBetWGe9_J4RyeipR29kWtEliw=s64",
      "userId": "18224110012862864727"
     },
     "user_tz": 180
    },
    "id": "JrsQJ1Zecvbi",
    "outputId": "a7282018-2fa3-4742-cf39-11bd3a2b6761"
   },
   "outputs": [
    {
     "data": {
      "text/plain": [
       "<matplotlib.axes._subplots.AxesSubplot at 0x1e9b319c898>"
      ]
     },
     "execution_count": 128,
     "metadata": {},
     "output_type": "execute_result"
    },
    {
     "data": {
      "image/png": "[encoded data removed]",
      "text/plain": [
       "<Figure size 864x288 with 1 Axes>"
      ]
     },
     "metadata": {
      "needs_background": "light"
     },
     "output_type": "display_data"
    }
   ],
   "source": [
    "fig = plt.figure(figsize=(12, 4))\n",
    "sns.distplot(sample_normal)"
   ]
  },
  {
   "cell_type": "markdown",
   "metadata": {
    "colab_type": "text",
    "id": "FV7S-RxqkKZV"
   },
   "source": [
    "Distribuição simétrica, com o coeficiente de pearson próximo a zero."
   ]
  },
  {
   "cell_type": "markdown",
   "metadata": {
    "colab_type": "text",
    "id": "mAxxYa8gkbX7"
   },
   "source": [
    "Considere o seguinte exemplo"
   ]
  },
  {
   "cell_type": "code",
   "execution_count": 132,
   "metadata": {
    "colab": {},
    "colab_type": "code",
    "executionInfo": {
     "elapsed": 2559,
     "status": "ok",
     "timestamp": 1596484398930,
     "user": {
      "displayName": "Felipe Santana",
      "photoUrl": "https://lh3.googleusercontent.com/a-/AOh14GgMc2wbpQbaVUnfYBetWGe9_J4RyeipR29kWtEliw=s64",
      "userId": "18224110012862864727"
     },
     "user_tz": 180
    },
    "id": "uW3QO11DdQav"
   },
   "outputs": [],
   "source": [
    "exp = np.arange(2,len(sample_normal),2)"
   ]
  },
  {
   "cell_type": "markdown",
   "metadata": {
    "colab_type": "text",
    "id": "asXn1lqKp8y1"
   },
   "source": [
    "Verificando os expoentes"
   ]
  },
  {
   "cell_type": "code",
   "execution_count": 133,
   "metadata": {
    "colab": {
     "base_uri": "https://localhost:8080/",
     "height": 35
    },
    "colab_type": "code",
    "executionInfo": {
     "elapsed": 1280,
     "status": "ok",
     "timestamp": 1596484403705,
     "user": {
      "displayName": "Felipe Santana",
      "photoUrl": "https://lh3.googleusercontent.com/a-/AOh14GgMc2wbpQbaVUnfYBetWGe9_J4RyeipR29kWtEliw=s64",
      "userId": "18224110012862864727"
     },
     "user_tz": 180
    },
    "id": "46Qu1pdHqAB6",
    "outputId": "8f4c7921-79df-4bab-e2f0-567f0a3f275a"
   },
   "outputs": [
    {
     "data": {
      "text/plain": [
       "array([ 2,  4,  6,  8, 10, 12, 14, 16, 18, 20])"
      ]
     },
     "execution_count": 133,
     "metadata": {},
     "output_type": "execute_result"
    }
   ],
   "source": [
    "exp[:10]"
   ]
  },
  {
   "cell_type": "markdown",
   "metadata": {
    "colab_type": "text",
    "id": "fMJhS8TXqUWh"
   },
   "source": [
    "Gerando uma distribuição assimétrica positiva"
   ]
  },
  {
   "cell_type": "code",
   "execution_count": 134,
   "metadata": {
    "colab": {},
    "colab_type": "code",
    "executionInfo": {
     "elapsed": 1146,
     "status": "ok",
     "timestamp": 1596484489779,
     "user": {
      "displayName": "Felipe Santana",
      "photoUrl": "https://lh3.googleusercontent.com/a-/AOh14GgMc2wbpQbaVUnfYBetWGe9_J4RyeipR29kWtEliw=s64",
      "userId": "18224110012862864727"
     },
     "user_tz": 180
    },
    "id": "sbVpQLxFqY0D"
   },
   "outputs": [],
   "source": [
    "sample_assimetrica_positiva = []\n",
    "for s,e in zip(sample_normal,exp):\n",
    "    sample_assimetrica_positiva.append(s*e)"
   ]
  },
  {
   "cell_type": "code",
   "execution_count": 135,
   "metadata": {
    "colab": {
     "base_uri": "https://localhost:8080/",
     "height": 138
    },
    "colab_type": "code",
    "executionInfo": {
     "elapsed": 1132,
     "status": "ok",
     "timestamp": 1596484493071,
     "user": {
      "displayName": "Felipe Santana",
      "photoUrl": "https://lh3.googleusercontent.com/a-/AOh14GgMc2wbpQbaVUnfYBetWGe9_J4RyeipR29kWtEliw=s64",
      "userId": "18224110012862864727"
     },
     "user_tz": 180
    },
    "id": "I0LFL3ZidTvS",
    "outputId": "3b4ec2c4-ba44-428b-fb57-707431920442"
   },
   "outputs": [
    {
     "name": "stdout",
     "output_type": "stream",
     "text": [
      "Media: 249.69\n",
      "Moda: 206.65\n",
      "Mediana: -214.94\n",
      "Variância: 43360.11\n",
      "Desvio Padrão: 208.23\n",
      "Coeficiente Person: 0.91\n",
      "Coeficiente de Kurtosi: 0.32\n"
     ]
    }
   ],
   "source": [
    "calcula_estatisticas(sample_assimetrica_positiva)"
   ]
  },
  {
   "cell_type": "markdown",
   "metadata": {
    "colab_type": "text",
    "id": "oH0wf72Iq8zE"
   },
   "source": [
    "Visualizando a distribuição"
   ]
  },
  {
   "cell_type": "code",
   "execution_count": 136,
   "metadata": {
    "colab": {
     "base_uri": "https://localhost:8080/",
     "height": 282
    },
    "colab_type": "code",
    "executionInfo": {
     "elapsed": 991,
     "status": "ok",
     "timestamp": 1596484525815,
     "user": {
      "displayName": "Felipe Santana",
      "photoUrl": "https://lh3.googleusercontent.com/a-/AOh14GgMc2wbpQbaVUnfYBetWGe9_J4RyeipR29kWtEliw=s64",
      "userId": "18224110012862864727"
     },
     "user_tz": 180
    },
    "id": "mxr5jPv0dg8F",
    "outputId": "0af7c626-a0ba-40d7-89e6-d0a734c6d9e9"
   },
   "outputs": [
    {
     "data": {
      "text/plain": [
       "<matplotlib.axes._subplots.AxesSubplot at 0x1e9b32667b8>"
      ]
     },
     "execution_count": 136,
     "metadata": {},
     "output_type": "execute_result"
    },
    {
     "data": {
      "image/png": "[encoded data removed]",
      "text/plain": [
       "<Figure size 432x288 with 1 Axes>"
      ]
     },
     "metadata": {
      "needs_background": "light"
     },
     "output_type": "display_data"
    }
   ],
   "source": [
    "sns.distplot(sample_assimetrica_positiva)"
   ]
  },
  {
   "cell_type": "markdown",
   "metadata": {
    "colab_type": "text",
    "id": "_xvT6EIErDOz"
   },
   "source": [
    "Gerando uma distribuição assimétrica negativa."
   ]
  },
  {
   "cell_type": "code",
   "execution_count": 137,
   "metadata": {
    "colab": {},
    "colab_type": "code",
    "executionInfo": {
     "elapsed": 1493,
     "status": "ok",
     "timestamp": 1596484607953,
     "user": {
      "displayName": "Felipe Santana",
      "photoUrl": "https://lh3.googleusercontent.com/a-/AOh14GgMc2wbpQbaVUnfYBetWGe9_J4RyeipR29kWtEliw=s64",
      "userId": "18224110012862864727"
     },
     "user_tz": 180
    },
    "id": "myDjnY8ldt41"
   },
   "outputs": [],
   "source": [
    "exp = (np.arange(2,len(sample_normal),2))*-1"
   ]
  },
  {
   "cell_type": "markdown",
   "metadata": {
    "colab_type": "text",
    "id": "biub1ntFrONb"
   },
   "source": [
    "Verificando os expoêntes"
   ]
  },
  {
   "cell_type": "code",
   "execution_count": 138,
   "metadata": {
    "colab": {
     "base_uri": "https://localhost:8080/",
     "height": 35
    },
    "colab_type": "code",
    "executionInfo": {
     "elapsed": 1804,
     "status": "ok",
     "timestamp": 1596484609986,
     "user": {
      "displayName": "Felipe Santana",
      "photoUrl": "https://lh3.googleusercontent.com/a-/AOh14GgMc2wbpQbaVUnfYBetWGe9_J4RyeipR29kWtEliw=s64",
      "userId": "18224110012862864727"
     },
     "user_tz": 180
    },
    "id": "yDf_W-EfsbRx",
    "outputId": "22b7edcc-7eac-4eda-e800-412b798e0919"
   },
   "outputs": [
    {
     "data": {
      "text/plain": [
       "array([ -2,  -4,  -6,  -8, -10, -12, -14, -16, -18, -20])"
      ]
     },
     "execution_count": 138,
     "metadata": {},
     "output_type": "execute_result"
    }
   ],
   "source": [
    "exp[:10]"
   ]
  },
  {
   "cell_type": "code",
   "execution_count": 139,
   "metadata": {
    "colab": {},
    "colab_type": "code",
    "executionInfo": {
     "elapsed": 1159,
     "status": "ok",
     "timestamp": 1596484617648,
     "user": {
      "displayName": "Felipe Santana",
      "photoUrl": "https://lh3.googleusercontent.com/a-/AOh14GgMc2wbpQbaVUnfYBetWGe9_J4RyeipR29kWtEliw=s64",
      "userId": "18224110012862864727"
     },
     "user_tz": 180
    },
    "id": "c4wOPyxXrTmC"
   },
   "outputs": [],
   "source": [
    "sample_assimetrica_negativa = []\n",
    "for s,e in zip(sample_normal,exp):\n",
    "    sample_assimetrica_negativa.append(s*e)"
   ]
  },
  {
   "cell_type": "code",
   "execution_count": 140,
   "metadata": {
    "colab": {
     "base_uri": "https://localhost:8080/",
     "height": 138
    },
    "colab_type": "code",
    "executionInfo": {
     "elapsed": 1149,
     "status": "ok",
     "timestamp": 1596484622807,
     "user": {
      "displayName": "Felipe Santana",
      "photoUrl": "https://lh3.googleusercontent.com/a-/AOh14GgMc2wbpQbaVUnfYBetWGe9_J4RyeipR29kWtEliw=s64",
      "userId": "18224110012862864727"
     },
     "user_tz": 180
    },
    "id": "HViRSD3cdzMu",
    "outputId": "aff1b8c5-9154-4bea-86dd-63246ea73d4e"
   },
   "outputs": [
    {
     "name": "stdout",
     "output_type": "stream",
     "text": [
      "Media: -249.69\n",
      "Moda: -206.65\n",
      "Mediana: -906.81\n",
      "Variância: 43360.11\n",
      "Desvio Padrão: 208.23\n",
      "Coeficiente Person: -0.91\n",
      "Coeficiente de Kurtosi: 0.32\n"
     ]
    }
   ],
   "source": [
    "calcula_estatisticas(sample_assimetrica_negativa)"
   ]
  },
  {
   "cell_type": "markdown",
   "metadata": {
    "colab_type": "text",
    "id": "hHgdoCI4tAku"
   },
   "source": [
    "Visualizando a distribuição"
   ]
  },
  {
   "cell_type": "code",
   "execution_count": 141,
   "metadata": {
    "colab": {
     "base_uri": "https://localhost:8080/",
     "height": 282
    },
    "colab_type": "code",
    "executionInfo": {
     "elapsed": 1250,
     "status": "ok",
     "timestamp": 1596484634700,
     "user": {
      "displayName": "Felipe Santana",
      "photoUrl": "https://lh3.googleusercontent.com/a-/AOh14GgMc2wbpQbaVUnfYBetWGe9_J4RyeipR29kWtEliw=s64",
      "userId": "18224110012862864727"
     },
     "user_tz": 180
    },
    "id": "1uG0y8oRd-OH",
    "outputId": "5ba9d1e4-e34c-4f68-c76f-f6a00f41ea6b"
   },
   "outputs": [
    {
     "data": {
      "text/plain": [
       "<matplotlib.axes._subplots.AxesSubplot at 0x1e9b3303a58>"
      ]
     },
     "execution_count": 141,
     "metadata": {},
     "output_type": "execute_result"
    },
    {
     "data": {
      "image/png": "[encoded data removed]",
      "text/plain": [
       "<Figure size 432x288 with 1 Axes>"
      ]
     },
     "metadata": {
      "needs_background": "light"
     },
     "output_type": "display_data"
    }
   ],
   "source": [
    "sns.distplot(sample_assimetrica_negativa)"
   ]
  },
  {
   "cell_type": "markdown",
   "metadata": {
    "colab_type": "text",
    "id": "ebLUdedG7BfB"
   },
   "source": [
    "Verificando graficamente as distribuições dos atributos do Dataframe"
   ]
  },
  {
   "cell_type": "code",
   "execution_count": 142,
   "metadata": {
    "colab": {
     "base_uri": "https://localhost:8080/",
     "height": 725
    },
    "colab_type": "code",
    "executionInfo": {
     "elapsed": 3668,
     "status": "ok",
     "timestamp": 1596484761522,
     "user": {
      "displayName": "Felipe Santana",
      "photoUrl": "https://lh3.googleusercontent.com/a-/AOh14GgMc2wbpQbaVUnfYBetWGe9_J4RyeipR29kWtEliw=s64",
      "userId": "18224110012862864727"
     },
     "user_tz": 180
    },
    "id": "kxPwresA9ZbP",
    "outputId": "20927a93-558a-4f47-8ab0-67198937b318"
   },
   "outputs": [
    {
     "data": {
      "image/png": "[encoded data removed]",
      "text/plain": [
       "<Figure size 1152x864 with 9 Axes>"
      ]
     },
     "metadata": {
      "needs_background": "light"
     },
     "output_type": "display_data"
    }
   ],
   "source": [
    "import matplotlib.pyplot as plt\n",
    "\n",
    "fig, axes = plt.subplots(nrows=3, ncols=3,figsize=(16, 12))\n",
    "for i, column in enumerate(df.select_dtypes(include=np.number).columns.tolist()):#pegando todos as atributos numericos de df e gerando uma lista\n",
    "    sns.distplot(df[column],ax=axes[i//3,i%3])"
   ]
  },
  {
   "cell_type": "markdown",
   "metadata": {
    "colab_type": "text",
    "id": "0LUU8dMwzp7Q"
   },
   "source": [
    "Verificando a distribuição de probabilidade e a diferença entre a média e a mediana."
   ]
  },
  {
   "cell_type": "code",
   "execution_count": 143,
   "metadata": {
    "colab": {
     "base_uri": "https://localhost:8080/",
     "height": 173
    },
    "colab_type": "code",
    "executionInfo": {
     "elapsed": 1255,
     "status": "ok",
     "timestamp": 1596484901159,
     "user": {
      "displayName": "Felipe Santana",
      "photoUrl": "https://lh3.googleusercontent.com/a-/AOh14GgMc2wbpQbaVUnfYBetWGe9_J4RyeipR29kWtEliw=s64",
      "userId": "18224110012862864727"
     },
     "user_tz": 180
    },
    "id": "CIFmuOANerLw",
    "outputId": "bfc5ab7c-4fde-4137-9ea8-9c7303aa5828"
   },
   "outputs": [
    {
     "name": "stdout",
     "output_type": "stream",
     "text": [
      "Atributo: MSRP, Coeficiente de Variação: 59.29 %, Media: 32774.86, Mediana: 27635.0\n",
      "Atributo: EngineSize, Coeficiente de Variação: 34.64 %, Media: 3.2, Mediana: 3.0\n",
      "Atributo: Cylinders, Coeficiente de Variação: 26.82 %, Media: 5.81, Mediana: 6.0\n",
      "Atributo: Horsepower, Coeficiente de Variação: 33.27 %, Media: 215.89, Mediana: 210.0\n",
      "Atributo: MPG_City, Coeficiente de Variação: 26.11 %, Media: 20.06, Mediana: 19.0\n",
      "Atributo: MPG_Highway, Coeficiente de Variação: 21.39 %, Media: 26.84, Mediana: 26.0\n",
      "Atributo: Weight, Coeficiente de Variação: 21.21 %, Media: 3577.95, Mediana: 3474.5\n",
      "Atributo: Wheelbase, Coeficiente de Variação: 7.69 %, Media: 108.15, Mediana: 107.0\n",
      "Atributo: Length, Coeficiente de Variação: 7.7 %, Media: 186.36, Mediana: 187.0\n"
     ]
    }
   ],
   "source": [
    "for i, column in enumerate(df.select_dtypes(include=np.number).columns.tolist()):\n",
    "    media = round(df[column].mean(),2)\n",
    "    std = df[column].std()\n",
    "    cvar = round(std/media*100,2)\n",
    "    median = df[column].median()\n",
    "    print(\"Atributo: {}, Coeficiente de Variação: {} %, Media: {}, Mediana: {}\".format(column,cvar,media,median))"
   ]
  }
 ],
 "metadata": {
  "colab": {
   "authorship_tag": "ABX9TyO/g9u/vOrfXXAZDkPPjTtg",
   "collapsed_sections": [
    "0P0vlEpViPk5"
   ],
   "name": "estatística-descritiva-02.ipynb",
   "provenance": []
  },
  "kernelspec": {
   "display_name": "Python 3",
   "language": "python",
   "name": "python3"
  },
  "language_info": {
   "codemirror_mode": {
    "name": "ipython",
    "version": 3
   },
   "file_extension": ".py",
   "mimetype": "text/x-python",
   "name": "python",
   "nbconvert_exporter": "python",
   "pygments_lexer": "ipython3",
   "version": "3.7.3"
  }
 },
 "nbformat": 4,
 "nbformat_minor": 1
}
