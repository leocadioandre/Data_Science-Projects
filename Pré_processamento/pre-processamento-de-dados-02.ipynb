{
 "cells": [
  {
   "cell_type": "markdown",
   "metadata": {},
   "source": [
    "## Pre-processamento de Dados ##"
   ]
  },
  {
   "cell_type": "markdown",
   "metadata": {},
   "source": [
    "### Técnicas de processamento de Dados - Discretização"
   ]
  },
  {
   "cell_type": "markdown",
   "metadata": {},
   "source": [
    "##### importando a biblioteca pandas"
   ]
  },
  {
   "cell_type": "code",
   "execution_count": 1,
   "metadata": {},
   "outputs": [],
   "source": [
    "import pandas as pd"
   ]
  },
  {
   "cell_type": "markdown",
   "metadata": {},
   "source": [
    "##### cojunto de dados de exemplo"
   ]
  },
  {
   "cell_type": "code",
   "execution_count": 2,
   "metadata": {},
   "outputs": [],
   "source": [
    "altura = [1.50,1.57,1.62,1.70,1.85,1.90]"
   ]
  },
  {
   "cell_type": "markdown",
   "metadata": {},
   "source": [
    "##### aplicando a discretização em 3 bins de tamanho igual e com os labels P, M e G"
   ]
  },
  {
   "cell_type": "code",
   "execution_count": 3,
   "metadata": {},
   "outputs": [],
   "source": [
    "altura = pd.qcut(altura,3,labels=['P','M','G'])#bins:objetos unicos."
   ]
  },
  {
   "cell_type": "code",
   "execution_count": 4,
   "metadata": {},
   "outputs": [
    {
     "name": "stdout",
     "output_type": "stream",
     "text": [
      "[P, P, M, M, G, G]\n",
      "Categories (3, object): [P < M < G]\n"
     ]
    }
   ],
   "source": [
    "print(altura)"
   ]
  },
  {
   "cell_type": "markdown",
   "metadata": {},
   "source": [
    "##### verificando a quantidade de objetos em cada bin"
   ]
  },
  {
   "cell_type": "code",
   "execution_count": 5,
   "metadata": {},
   "outputs": [
    {
     "data": {
      "text/plain": [
       "P    2\n",
       "M    2\n",
       "G    2\n",
       "dtype: int64"
      ]
     },
     "execution_count": 5,
     "metadata": {},
     "output_type": "execute_result"
    }
   ],
   "source": [
    "altura.value_counts()"
   ]
  },
  {
   "cell_type": "markdown",
   "metadata": {},
   "source": [
    "##### lendo a base de dados"
   ]
  },
  {
   "cell_type": "code",
   "execution_count": 6,
   "metadata": {},
   "outputs": [],
   "source": [
    "dataset = pd.read_csv('kc_house_data.csv')\n"
   ]
  },
  {
   "cell_type": "markdown",
   "metadata": {},
   "source": [
    "##### contando o número de pisos"
   ]
  },
  {
   "cell_type": "code",
   "execution_count": 7,
   "metadata": {},
   "outputs": [
    {
     "data": {
      "text/plain": [
       "1.0    10679\n",
       "2.0     8241\n",
       "1.5     1910\n",
       "3.0      613\n",
       "2.5      161\n",
       "3.5        8\n",
       "Name: floors, dtype: int64"
      ]
     },
     "execution_count": 7,
     "metadata": {},
     "output_type": "execute_result"
    }
   ],
   "source": [
    "dataset['floors'].value_counts()"
   ]
  },
  {
   "cell_type": "markdown",
   "metadata": {},
   "source": [
    "##### discretizando os valores do atributo floors e armazenando o resultado no atributo floors_labels"
   ]
  },
  {
   "cell_type": "code",
   "execution_count": 8,
   "metadata": {},
   "outputs": [],
   "source": [
    "dataset['floors_labels'] = pd.cut(\n",
    "    dataset['floors'],\n",
    "    5,\n",
    "    labels=['Muito-Pequeno','Pequeno','Medio','Grande','Muito-Grande']\n",
    ")"
   ]
  },
  {
   "cell_type": "markdown",
   "metadata": {},
   "source": [
    "##### verificando o novo atributo"
   ]
  },
  {
   "cell_type": "code",
   "execution_count": 9,
   "metadata": {},
   "outputs": [
    {
     "data": {
      "text/html": [
       "<div>\n",
       "<style scoped>\n",
       "    .dataframe tbody tr th:only-of-type {\n",
       "        vertical-align: middle;\n",
       "    }\n",
       "\n",
       "    .dataframe tbody tr th {\n",
       "        vertical-align: top;\n",
       "    }\n",
       "\n",
       "    .dataframe thead th {\n",
       "        text-align: right;\n",
       "    }\n",
       "</style>\n",
       "<table border=\"1\" class=\"dataframe\">\n",
       "  <thead>\n",
       "    <tr style=\"text-align: right;\">\n",
       "      <th></th>\n",
       "      <th>id</th>\n",
       "      <th>date</th>\n",
       "      <th>price</th>\n",
       "      <th>bedrooms</th>\n",
       "      <th>bathrooms</th>\n",
       "      <th>sqft_living</th>\n",
       "      <th>sqft_lot</th>\n",
       "      <th>floors</th>\n",
       "      <th>waterfront</th>\n",
       "      <th>view</th>\n",
       "      <th>...</th>\n",
       "      <th>sqft_above</th>\n",
       "      <th>sqft_basement</th>\n",
       "      <th>yr_built</th>\n",
       "      <th>yr_renovated</th>\n",
       "      <th>zipcode</th>\n",
       "      <th>lat</th>\n",
       "      <th>long</th>\n",
       "      <th>sqft_living15</th>\n",
       "      <th>sqft_lot15</th>\n",
       "      <th>floors_labels</th>\n",
       "    </tr>\n",
       "  </thead>\n",
       "  <tbody>\n",
       "    <tr>\n",
       "      <th>0</th>\n",
       "      <td>7129300520</td>\n",
       "      <td>20141013T000000</td>\n",
       "      <td>221900.0</td>\n",
       "      <td>3.0</td>\n",
       "      <td>1.00</td>\n",
       "      <td>1180</td>\n",
       "      <td>5650</td>\n",
       "      <td>1.0</td>\n",
       "      <td>0</td>\n",
       "      <td>0</td>\n",
       "      <td>...</td>\n",
       "      <td>1180</td>\n",
       "      <td>0</td>\n",
       "      <td>1955</td>\n",
       "      <td>0</td>\n",
       "      <td>98178</td>\n",
       "      <td>47.5112</td>\n",
       "      <td>-122.257</td>\n",
       "      <td>1340</td>\n",
       "      <td>5650</td>\n",
       "      <td>Muito-Pequeno</td>\n",
       "    </tr>\n",
       "    <tr>\n",
       "      <th>1</th>\n",
       "      <td>6414100192</td>\n",
       "      <td>20141209T000000</td>\n",
       "      <td>538000.0</td>\n",
       "      <td>3.0</td>\n",
       "      <td>2.25</td>\n",
       "      <td>2570</td>\n",
       "      <td>7242</td>\n",
       "      <td>2.0</td>\n",
       "      <td>0</td>\n",
       "      <td>0</td>\n",
       "      <td>...</td>\n",
       "      <td>2170</td>\n",
       "      <td>400</td>\n",
       "      <td>1951</td>\n",
       "      <td>1991</td>\n",
       "      <td>98125</td>\n",
       "      <td>47.7210</td>\n",
       "      <td>-122.319</td>\n",
       "      <td>1690</td>\n",
       "      <td>7639</td>\n",
       "      <td>Pequeno</td>\n",
       "    </tr>\n",
       "    <tr>\n",
       "      <th>2</th>\n",
       "      <td>5631500400</td>\n",
       "      <td>20150225T000000</td>\n",
       "      <td>180000.0</td>\n",
       "      <td>2.0</td>\n",
       "      <td>1.00</td>\n",
       "      <td>770</td>\n",
       "      <td>10000</td>\n",
       "      <td>1.0</td>\n",
       "      <td>0</td>\n",
       "      <td>0</td>\n",
       "      <td>...</td>\n",
       "      <td>770</td>\n",
       "      <td>0</td>\n",
       "      <td>1933</td>\n",
       "      <td>0</td>\n",
       "      <td>98028</td>\n",
       "      <td>47.7379</td>\n",
       "      <td>-122.233</td>\n",
       "      <td>2720</td>\n",
       "      <td>8062</td>\n",
       "      <td>Muito-Pequeno</td>\n",
       "    </tr>\n",
       "    <tr>\n",
       "      <th>3</th>\n",
       "      <td>2487200875</td>\n",
       "      <td>20141209T000000</td>\n",
       "      <td>604000.0</td>\n",
       "      <td>4.0</td>\n",
       "      <td>3.00</td>\n",
       "      <td>1960</td>\n",
       "      <td>5000</td>\n",
       "      <td>1.0</td>\n",
       "      <td>0</td>\n",
       "      <td>0</td>\n",
       "      <td>...</td>\n",
       "      <td>1050</td>\n",
       "      <td>910</td>\n",
       "      <td>1965</td>\n",
       "      <td>0</td>\n",
       "      <td>98136</td>\n",
       "      <td>47.5208</td>\n",
       "      <td>-122.393</td>\n",
       "      <td>1360</td>\n",
       "      <td>5000</td>\n",
       "      <td>Muito-Pequeno</td>\n",
       "    </tr>\n",
       "    <tr>\n",
       "      <th>4</th>\n",
       "      <td>1954400510</td>\n",
       "      <td>20150218T000000</td>\n",
       "      <td>510000.0</td>\n",
       "      <td>3.0</td>\n",
       "      <td>2.00</td>\n",
       "      <td>1680</td>\n",
       "      <td>8080</td>\n",
       "      <td>1.0</td>\n",
       "      <td>0</td>\n",
       "      <td>0</td>\n",
       "      <td>...</td>\n",
       "      <td>1680</td>\n",
       "      <td>0</td>\n",
       "      <td>1987</td>\n",
       "      <td>0</td>\n",
       "      <td>98074</td>\n",
       "      <td>47.6168</td>\n",
       "      <td>-122.045</td>\n",
       "      <td>1800</td>\n",
       "      <td>7503</td>\n",
       "      <td>Muito-Pequeno</td>\n",
       "    </tr>\n",
       "    <tr>\n",
       "      <th>5</th>\n",
       "      <td>7237550310</td>\n",
       "      <td>20140512T000000</td>\n",
       "      <td>1225000.0</td>\n",
       "      <td>4.0</td>\n",
       "      <td>4.50</td>\n",
       "      <td>5420</td>\n",
       "      <td>101930</td>\n",
       "      <td>1.0</td>\n",
       "      <td>0</td>\n",
       "      <td>0</td>\n",
       "      <td>...</td>\n",
       "      <td>3890</td>\n",
       "      <td>1530</td>\n",
       "      <td>2001</td>\n",
       "      <td>0</td>\n",
       "      <td>98053</td>\n",
       "      <td>47.6561</td>\n",
       "      <td>-122.005</td>\n",
       "      <td>4760</td>\n",
       "      <td>101930</td>\n",
       "      <td>Muito-Pequeno</td>\n",
       "    </tr>\n",
       "    <tr>\n",
       "      <th>6</th>\n",
       "      <td>1321400060</td>\n",
       "      <td>20140627T000000</td>\n",
       "      <td>257500.0</td>\n",
       "      <td>3.0</td>\n",
       "      <td>2.25</td>\n",
       "      <td>1715</td>\n",
       "      <td>6819</td>\n",
       "      <td>2.0</td>\n",
       "      <td>0</td>\n",
       "      <td>0</td>\n",
       "      <td>...</td>\n",
       "      <td>1715</td>\n",
       "      <td>0</td>\n",
       "      <td>1995</td>\n",
       "      <td>0</td>\n",
       "      <td>98003</td>\n",
       "      <td>47.3097</td>\n",
       "      <td>-122.327</td>\n",
       "      <td>2238</td>\n",
       "      <td>6819</td>\n",
       "      <td>Pequeno</td>\n",
       "    </tr>\n",
       "    <tr>\n",
       "      <th>7</th>\n",
       "      <td>2008000270</td>\n",
       "      <td>20150115T000000</td>\n",
       "      <td>291850.0</td>\n",
       "      <td>3.0</td>\n",
       "      <td>1.50</td>\n",
       "      <td>1060</td>\n",
       "      <td>9711</td>\n",
       "      <td>1.0</td>\n",
       "      <td>0</td>\n",
       "      <td>0</td>\n",
       "      <td>...</td>\n",
       "      <td>1060</td>\n",
       "      <td>0</td>\n",
       "      <td>1963</td>\n",
       "      <td>0</td>\n",
       "      <td>98198</td>\n",
       "      <td>47.4095</td>\n",
       "      <td>-122.315</td>\n",
       "      <td>1650</td>\n",
       "      <td>9711</td>\n",
       "      <td>Muito-Pequeno</td>\n",
       "    </tr>\n",
       "    <tr>\n",
       "      <th>8</th>\n",
       "      <td>2414600126</td>\n",
       "      <td>20150415T000000</td>\n",
       "      <td>229500.0</td>\n",
       "      <td>3.0</td>\n",
       "      <td>1.00</td>\n",
       "      <td>1780</td>\n",
       "      <td>7470</td>\n",
       "      <td>1.0</td>\n",
       "      <td>0</td>\n",
       "      <td>0</td>\n",
       "      <td>...</td>\n",
       "      <td>1050</td>\n",
       "      <td>730</td>\n",
       "      <td>1960</td>\n",
       "      <td>0</td>\n",
       "      <td>98146</td>\n",
       "      <td>47.5123</td>\n",
       "      <td>-122.337</td>\n",
       "      <td>1780</td>\n",
       "      <td>8113</td>\n",
       "      <td>Muito-Pequeno</td>\n",
       "    </tr>\n",
       "    <tr>\n",
       "      <th>9</th>\n",
       "      <td>3793500160</td>\n",
       "      <td>20150312T000000</td>\n",
       "      <td>323000.0</td>\n",
       "      <td>3.0</td>\n",
       "      <td>2.50</td>\n",
       "      <td>1890</td>\n",
       "      <td>6560</td>\n",
       "      <td>2.0</td>\n",
       "      <td>0</td>\n",
       "      <td>0</td>\n",
       "      <td>...</td>\n",
       "      <td>1890</td>\n",
       "      <td>0</td>\n",
       "      <td>2003</td>\n",
       "      <td>0</td>\n",
       "      <td>98038</td>\n",
       "      <td>47.3684</td>\n",
       "      <td>-122.031</td>\n",
       "      <td>2390</td>\n",
       "      <td>7570</td>\n",
       "      <td>Pequeno</td>\n",
       "    </tr>\n",
       "  </tbody>\n",
       "</table>\n",
       "<p>10 rows × 22 columns</p>\n",
       "</div>"
      ],
      "text/plain": [
       "           id             date      price  bedrooms  bathrooms  sqft_living  \\\n",
       "0  7129300520  20141013T000000   221900.0       3.0       1.00         1180   \n",
       "1  6414100192  20141209T000000   538000.0       3.0       2.25         2570   \n",
       "2  5631500400  20150225T000000   180000.0       2.0       1.00          770   \n",
       "3  2487200875  20141209T000000   604000.0       4.0       3.00         1960   \n",
       "4  1954400510  20150218T000000   510000.0       3.0       2.00         1680   \n",
       "5  7237550310  20140512T000000  1225000.0       4.0       4.50         5420   \n",
       "6  1321400060  20140627T000000   257500.0       3.0       2.25         1715   \n",
       "7  2008000270  20150115T000000   291850.0       3.0       1.50         1060   \n",
       "8  2414600126  20150415T000000   229500.0       3.0       1.00         1780   \n",
       "9  3793500160  20150312T000000   323000.0       3.0       2.50         1890   \n",
       "\n",
       "   sqft_lot  floors  waterfront  view  ...  sqft_above  sqft_basement  \\\n",
       "0      5650     1.0           0     0  ...        1180              0   \n",
       "1      7242     2.0           0     0  ...        2170            400   \n",
       "2     10000     1.0           0     0  ...         770              0   \n",
       "3      5000     1.0           0     0  ...        1050            910   \n",
       "4      8080     1.0           0     0  ...        1680              0   \n",
       "5    101930     1.0           0     0  ...        3890           1530   \n",
       "6      6819     2.0           0     0  ...        1715              0   \n",
       "7      9711     1.0           0     0  ...        1060              0   \n",
       "8      7470     1.0           0     0  ...        1050            730   \n",
       "9      6560     2.0           0     0  ...        1890              0   \n",
       "\n",
       "   yr_built  yr_renovated  zipcode      lat     long  sqft_living15  \\\n",
       "0      1955             0    98178  47.5112 -122.257           1340   \n",
       "1      1951          1991    98125  47.7210 -122.319           1690   \n",
       "2      1933             0    98028  47.7379 -122.233           2720   \n",
       "3      1965             0    98136  47.5208 -122.393           1360   \n",
       "4      1987             0    98074  47.6168 -122.045           1800   \n",
       "5      2001             0    98053  47.6561 -122.005           4760   \n",
       "6      1995             0    98003  47.3097 -122.327           2238   \n",
       "7      1963             0    98198  47.4095 -122.315           1650   \n",
       "8      1960             0    98146  47.5123 -122.337           1780   \n",
       "9      2003             0    98038  47.3684 -122.031           2390   \n",
       "\n",
       "   sqft_lot15  floors_labels  \n",
       "0        5650  Muito-Pequeno  \n",
       "1        7639        Pequeno  \n",
       "2        8062  Muito-Pequeno  \n",
       "3        5000  Muito-Pequeno  \n",
       "4        7503  Muito-Pequeno  \n",
       "5      101930  Muito-Pequeno  \n",
       "6        6819        Pequeno  \n",
       "7        9711  Muito-Pequeno  \n",
       "8        8113  Muito-Pequeno  \n",
       "9        7570        Pequeno  \n",
       "\n",
       "[10 rows x 22 columns]"
      ]
     },
     "execution_count": 9,
     "metadata": {},
     "output_type": "execute_result"
    }
   ],
   "source": [
    "dataset.head(10)"
   ]
  },
  {
   "cell_type": "markdown",
   "metadata": {},
   "source": [
    "##### verificando os valores únicos do atributo"
   ]
  },
  {
   "cell_type": "code",
   "execution_count": 10,
   "metadata": {},
   "outputs": [
    {
     "data": {
      "text/plain": [
       "[Muito-Pequeno, Pequeno, NaN, Grande, Medio, Muito-Grande]\n",
       "Categories (5, object): [Muito-Pequeno < Pequeno < Medio < Grande < Muito-Grande]"
      ]
     },
     "execution_count": 10,
     "metadata": {},
     "output_type": "execute_result"
    }
   ],
   "source": [
    "dataset['floors_labels'].unique()"
   ]
  },
  {
   "cell_type": "markdown",
   "metadata": {},
   "source": [
    "##### contagem de valores em cada bin ou categoria"
   ]
  },
  {
   "cell_type": "code",
   "execution_count": 11,
   "metadata": {},
   "outputs": [
    {
     "data": {
      "text/plain": [
       "Muito-Pequeno    12589\n",
       "Pequeno           8241\n",
       "Grande             613\n",
       "Medio              161\n",
       "Muito-Grande         8\n",
       "Name: floors_labels, dtype: int64"
      ]
     },
     "execution_count": 11,
     "metadata": {},
     "output_type": "execute_result"
    }
   ],
   "source": [
    "dataset['floors_labels'].value_counts()"
   ]
  },
  {
   "cell_type": "markdown",
   "metadata": {},
   "source": [
    "### Técnicas de processamento de Dados - Normalização de dados"
   ]
  },
  {
   "cell_type": "markdown",
   "metadata": {},
   "source": [
    "##### norma L2 é definida como a raiz quadrada do somatório de todos os elementos do vetor ao quadrado."
   ]
  },
  {
   "cell_type": "markdown",
   "metadata": {},
   "source": [
    "![l2-norma](l2-norma.png)"
   ]
  },
  {
   "cell_type": "markdown",
   "metadata": {},
   "source": [
    "##### vejamos um simples exemplo do calculo da norma l2."
   ]
  },
  {
   "cell_type": "markdown",
   "metadata": {},
   "source": [
    "![l2-norma-exemplo](l2-norma-exemplo.png)"
   ]
  },
  {
   "cell_type": "markdown",
   "metadata": {},
   "source": [
    "##### importando as bibliotecas necessárias."
   ]
  },
  {
   "cell_type": "markdown",
   "metadata": {},
   "source": [
    "Tecnica deve ser utilizanda para a implementassão de algoritmos que tem como pre-requisito a utilização de dados com a distribução normal."
   ]
  },
  {
   "cell_type": "code",
   "execution_count": 14,
   "metadata": {},
   "outputs": [],
   "source": [
    "import warnings\n",
    "warnings.filterwarnings('ignore')#Ignorar ao avisos.\n",
    "from sklearn.preprocessing import Normalizer\n",
    "import numpy as np\n",
    "import seaborn as sns\n",
    "import matplotlib.pyplot as plt"
   ]
  },
  {
   "cell_type": "markdown",
   "metadata": {},
   "source": [
    "##### alguns dados de exemplo"
   ]
  },
  {
   "cell_type": "code",
   "execution_count": 15,
   "metadata": {},
   "outputs": [
    {
     "name": "stdout",
     "output_type": "stream",
     "text": [
      "[[-1, 2], [0.5, 6], [0, 10], [1, 18]]\n"
     ]
    }
   ],
   "source": [
    "data = [\n",
    "    [-1, 2],\n",
    "    [0.5, 6],\n",
    "    [0, 10],\n",
    "    [1, 18]\n",
    "]\n",
    "print (data)"
   ]
  },
  {
   "cell_type": "markdown",
   "metadata": {},
   "source": [
    "#### valor da média"
   ]
  },
  {
   "cell_type": "code",
   "execution_count": 16,
   "metadata": {},
   "outputs": [
    {
     "name": "stdout",
     "output_type": "stream",
     "text": [
      "4.5625\n"
     ]
    }
   ],
   "source": [
    "print (np.mean(data))"
   ]
  },
  {
   "cell_type": "markdown",
   "metadata": {},
   "source": [
    "#### visualizando a distribuição dos dados"
   ]
  },
  {
   "cell_type": "code",
   "execution_count": 17,
   "metadata": {
    "scrolled": false
   },
   "outputs": [
    {
     "data": {
      "image/png": "[encoded data removed]",
      "text/plain": [
       "<Figure size 432x288 with 1 Axes>"
      ]
     },
     "metadata": {
      "needs_background": "light"
     },
     "output_type": "display_data"
    }
   ],
   "source": [
    "sns.distplot(np.array(data).reshape(-1))#reshape, tranforma o dados para apenas uma dimensão.\n",
    "plt.show()"
   ]
  },
  {
   "cell_type": "markdown",
   "metadata": {},
   "source": [
    "##### instanciando o objeto Normalize"
   ]
  },
  {
   "cell_type": "code",
   "execution_count": 18,
   "metadata": {},
   "outputs": [],
   "source": [
    "normalizer = Normalizer().fit(data) #objeto q esta implementada a forma l2."
   ]
  },
  {
   "cell_type": "markdown",
   "metadata": {},
   "source": [
    "##### aplicando a normalização nos dados de exemplo utilizando a norma l2"
   ]
  },
  {
   "cell_type": "code",
   "execution_count": 19,
   "metadata": {},
   "outputs": [
    {
     "name": "stdout",
     "output_type": "stream",
     "text": [
      "[[-0.4472136   0.89442719]\n",
      " [ 0.08304548  0.99654576]\n",
      " [ 0.          1.        ]\n",
      " [ 0.05547002  0.99846035]]\n"
     ]
    }
   ],
   "source": [
    "data2 = normalizer.transform(data)\n",
    "print(data2)"
   ]
  },
  {
   "cell_type": "markdown",
   "metadata": {},
   "source": [
    "#### Alterando a forma dos dados para apenas uma dimensão"
   ]
  },
  {
   "cell_type": "code",
   "execution_count": 21,
   "metadata": {},
   "outputs": [
    {
     "name": "stdout",
     "output_type": "stream",
     "text": [
      "[-0.4472136   0.89442719  0.08304548  0.99654576  0.          1.\n",
      "  0.05547002  0.99846035]\n"
     ]
    }
   ],
   "source": [
    "data2 = data2.reshape(-1)\n",
    "print(data2)"
   ]
  },
  {
   "cell_type": "markdown",
   "metadata": {},
   "source": [
    "#### valor da média"
   ]
  },
  {
   "cell_type": "code",
   "execution_count": 22,
   "metadata": {
    "scrolled": true
   },
   "outputs": [
    {
     "name": "stdout",
     "output_type": "stream",
     "text": [
      "0.4475919008033141\n"
     ]
    }
   ],
   "source": [
    "print(np.mean(data2))"
   ]
  },
  {
   "cell_type": "code",
   "execution_count": 23,
   "metadata": {},
   "outputs": [
    {
     "data": {
      "image/png": "[encoded data removed]",
      "text/plain": [
       "<Figure size 432x288 with 1 Axes>"
      ]
     },
     "metadata": {
      "needs_background": "light"
     },
     "output_type": "display_data"
    }
   ],
   "source": [
    "sns.distplot(data2)\n",
    "plt.show()"
   ]
  },
  {
   "cell_type": "markdown",
   "metadata": {},
   "source": [
    "### Técnicas de pre-processamento de Dados - Standartization (Padronização)"
   ]
  },
  {
   "cell_type": "markdown",
   "metadata": {},
   "source": [
    "Utilizada para classificadores que utilizam principalmente métodos de instância, onde assumem que não possue valor discrepantes entre as features. Como features com valor de cm e outras em m."
   ]
  },
  {
   "cell_type": "code",
   "execution_count": 30,
   "metadata": {
    "scrolled": true
   },
   "outputs": [
    {
     "name": "stdout",
     "output_type": "stream",
     "text": [
      "[-0.03695633  1.29603273  0.46094613 -0.08697915 -2.63988056 -0.54684187\n",
      " -0.19186394 -1.08637853  0.59948357 -0.25695714 -1.30413105  0.74175476\n",
      "  0.59301843  0.86021533 -0.5527221  -0.23860349 -1.22217204  0.79264565\n",
      " -0.9259261   1.0165007   1.23760007 -0.22793377 -0.94557128  0.67414792\n",
      "  0.58384223 -2.30742824  0.32320974 -1.37934063 -0.14917992 -0.65997877\n",
      " -0.35208418  0.15101697  1.25410132 -0.14097647  0.05830631 -1.56615838\n",
      "  0.00345818  0.18043112  1.07434268 -0.76407622 -0.35967846 -0.53224409\n",
      "  1.23961349  0.62340859  0.43704235  1.40673649  1.28817421 -2.38662206\n",
      "  1.55178952  0.38585427]\n"
     ]
    }
   ],
   "source": [
    "data = np.random.normal(size = 50)\n",
    "print(data)"
   ]
  },
  {
   "cell_type": "markdown",
   "metadata": {},
   "source": [
    "#### Alterando a forma dos dados para apenas uma dimensão"
   ]
  },
  {
   "cell_type": "code",
   "execution_count": 34,
   "metadata": {
    "scrolled": true
   },
   "outputs": [
    {
     "name": "stdout",
     "output_type": "stream",
     "text": [
      "[[-0.03695633]\n",
      " [ 1.29603273]\n",
      " [ 0.46094613]\n",
      " [-0.08697915]\n",
      " [-2.63988056]\n",
      " [-0.54684187]\n",
      " [-0.19186394]\n",
      " [-1.08637853]\n",
      " [ 0.59948357]\n",
      " [-0.25695714]\n",
      " [-1.30413105]\n",
      " [ 0.74175476]\n",
      " [ 0.59301843]\n",
      " [ 0.86021533]\n",
      " [-0.5527221 ]\n",
      " [-0.23860349]\n",
      " [-1.22217204]\n",
      " [ 0.79264565]\n",
      " [-0.9259261 ]\n",
      " [ 1.0165007 ]\n",
      " [ 1.23760007]\n",
      " [-0.22793377]\n",
      " [-0.94557128]\n",
      " [ 0.67414792]\n",
      " [ 0.58384223]\n",
      " [-2.30742824]\n",
      " [ 0.32320974]\n",
      " [-1.37934063]\n",
      " [-0.14917992]\n",
      " [-0.65997877]\n",
      " [-0.35208418]\n",
      " [ 0.15101697]\n",
      " [ 1.25410132]\n",
      " [-0.14097647]\n",
      " [ 0.05830631]\n",
      " [-1.56615838]\n",
      " [ 0.00345818]\n",
      " [ 0.18043112]\n",
      " [ 1.07434268]\n",
      " [-0.76407622]\n",
      " [-0.35967846]\n",
      " [-0.53224409]\n",
      " [ 1.23961349]\n",
      " [ 0.62340859]\n",
      " [ 0.43704235]\n",
      " [ 1.40673649]\n",
      " [ 1.28817421]\n",
      " [-2.38662206]\n",
      " [ 1.55178952]\n",
      " [ 0.38585427]]\n"
     ]
    }
   ],
   "source": [
    "data = data.reshape(-1,1)\n",
    "print(data)"
   ]
  },
  {
   "cell_type": "code",
   "execution_count": 35,
   "metadata": {},
   "outputs": [
    {
     "data": {
      "image/png": "[encoded data removed]",
      "text/plain": [
       "<Figure size 432x288 with 1 Axes>"
      ]
     },
     "metadata": {
      "needs_background": "light"
     },
     "output_type": "display_data"
    }
   ],
   "source": [
    "sns.distplot(data)\n",
    "plt.show()"
   ]
  },
  {
   "cell_type": "markdown",
   "metadata": {},
   "source": [
    "##### importando as bibliotecas necessárias."
   ]
  },
  {
   "cell_type": "code",
   "execution_count": 32,
   "metadata": {},
   "outputs": [],
   "source": [
    "from sklearn.preprocessing import MinMaxScaler"
   ]
  },
  {
   "cell_type": "markdown",
   "metadata": {},
   "source": [
    "##### instânciando o objeto scaler"
   ]
  },
  {
   "cell_type": "code",
   "execution_count": 36,
   "metadata": {},
   "outputs": [],
   "source": [
    "scaler = MinMaxScaler().fit(data)"
   ]
  },
  {
   "cell_type": "markdown",
   "metadata": {},
   "source": [
    "##### transformando os dados com o objeto scaler"
   ]
  },
  {
   "cell_type": "code",
   "execution_count": 37,
   "metadata": {
    "scrolled": true
   },
   "outputs": [
    {
     "name": "stdout",
     "output_type": "stream",
     "text": [
      "[[0.62097546]\n",
      " [0.93898452]\n",
      " [0.73975924]\n",
      " [0.60904159]\n",
      " [0.        ]\n",
      " [0.49933288]\n",
      " [0.5840194 ]\n",
      " [0.37061649]\n",
      " [0.7728099 ]\n",
      " [0.56849022]\n",
      " [0.31866762]\n",
      " [0.80675131]\n",
      " [0.77126752]\n",
      " [0.83501226]\n",
      " [0.49793004]\n",
      " [0.57286881]\n",
      " [0.33822045]\n",
      " [0.81889227]\n",
      " [0.40889536]\n",
      " [0.87229701]\n",
      " [0.92504433]\n",
      " [0.57541427]\n",
      " [0.40420864]\n",
      " [0.79062245]\n",
      " [0.76907837]\n",
      " [0.07931262]\n",
      " [0.7068997 ]\n",
      " [0.30072499]\n",
      " [0.59420245]\n",
      " [0.47234199]\n",
      " [0.54579591]\n",
      " [0.66581994]\n",
      " [0.92898101]\n",
      " [0.59615954]\n",
      " [0.64370211]\n",
      " [0.25615618]\n",
      " [0.63061708]\n",
      " [0.67283723]\n",
      " [0.88609628]\n",
      " [0.44750763]\n",
      " [0.54398416]\n",
      " [0.50281545]\n",
      " [0.92552467]\n",
      " [0.77851765]\n",
      " [0.73405656]\n",
      " [0.96539493]\n",
      " [0.93710972]\n",
      " [0.06041947]\n",
      " [1.        ]\n",
      " [0.7218447 ]]\n"
     ]
    }
   ],
   "source": [
    "data_scaled = scaler.transform(data)\n",
    "print(data_scaled)#max:1 - min:0"
   ]
  },
  {
   "cell_type": "markdown",
   "metadata": {},
   "source": [
    "#### Alterando a forma dos dados para apenas uma dimensão"
   ]
  },
  {
   "cell_type": "code",
   "execution_count": 38,
   "metadata": {},
   "outputs": [],
   "source": [
    "data_scaled = data_scaled.reshape(-1,1)"
   ]
  },
  {
   "cell_type": "code",
   "execution_count": 39,
   "metadata": {},
   "outputs": [
    {
     "data": {
      "image/png": "[encoded data removed]",
      "text/plain": [
       "<Figure size 432x288 with 1 Axes>"
      ]
     },
     "metadata": {
      "needs_background": "light"
     },
     "output_type": "display_data"
    }
   ],
   "source": [
    "sns.distplot(data_scaled)\n",
    "plt.show()"
   ]
  },
  {
   "cell_type": "markdown",
   "metadata": {},
   "source": [
    "# StandardScaler - Técnica de Pré-Processamento"
   ]
  },
  {
   "cell_type": "markdown",
   "metadata": {},
   "source": [
    "* Padroniza a escala dos dados sem interferir na sua forma\n",
    "\n",
    "* Mantém a escala dos dados mais fiel que a Técnica MinMaxScale"
   ]
  },
  {
   "cell_type": "code",
   "execution_count": 40,
   "metadata": {},
   "outputs": [
    {
     "name": "stdout",
     "output_type": "stream",
     "text": [
      "[-4.10953845e-01 -1.87447197e-01  9.67610828e-02  7.17408409e-02\n",
      "  1.26151266e-01  4.48927823e-01 -1.14155768e+00 -9.37604373e-01\n",
      "  1.04316076e+00 -2.32314274e-01  8.19468929e-01 -1.16473952e+00\n",
      "  1.97102057e+00 -2.48070037e-01 -6.49214484e-01  2.62228920e-01\n",
      " -1.33174715e-01 -1.36664061e+00 -1.40062763e-03 -3.02806402e-01\n",
      " -3.71908309e-01  1.74334481e-01  3.24887358e-01 -1.91416476e+00\n",
      " -6.78643707e-01 -1.13505134e+00  1.38545827e+00 -1.36973334e-01\n",
      "  3.44607059e-01 -6.80486944e-01  1.96527706e-01  1.18076617e+00\n",
      " -7.07365394e-01  1.79654859e+00 -1.70776762e+00  1.23582488e+00\n",
      "  4.59219408e-02 -8.30711694e-01 -4.97045432e-01  4.60496586e-01\n",
      "  1.86971073e+00 -1.45256462e+00  3.27370587e-01 -4.31148451e-01\n",
      "  4.68976374e-01 -5.77122841e-01  2.60778153e-01  1.51840576e+00\n",
      " -3.85135724e-01 -8.67110959e-01]\n"
     ]
    }
   ],
   "source": [
    "data = np.random.normal(size = 50)\n",
    "print(data)"
   ]
  },
  {
   "cell_type": "markdown",
   "metadata": {},
   "source": [
    "#### Alterando a forma dos dados para apenas uma dimensão"
   ]
  },
  {
   "cell_type": "code",
   "execution_count": 41,
   "metadata": {},
   "outputs": [],
   "source": [
    "data = data.reshape(-1,1)"
   ]
  },
  {
   "cell_type": "code",
   "execution_count": 42,
   "metadata": {},
   "outputs": [
    {
     "data": {
      "image/png": "[encoded data removed]",
      "text/plain": [
       "<Figure size 432x288 with 1 Axes>"
      ]
     },
     "metadata": {
      "needs_background": "light"
     },
     "output_type": "display_data"
    }
   ],
   "source": [
    "sns.distplot(data)\n",
    "plt.show()"
   ]
  },
  {
   "cell_type": "markdown",
   "metadata": {},
   "source": [
    "##### importando as bibliotecas necessárias."
   ]
  },
  {
   "cell_type": "code",
   "execution_count": 43,
   "metadata": {},
   "outputs": [],
   "source": [
    "from sklearn.preprocessing import StandardScaler"
   ]
  },
  {
   "cell_type": "markdown",
   "metadata": {},
   "source": [
    "##### instânciando o objeto scaler"
   ]
  },
  {
   "cell_type": "code",
   "execution_count": 44,
   "metadata": {},
   "outputs": [],
   "source": [
    "scaler = StandardScaler().fit(data)"
   ]
  },
  {
   "cell_type": "markdown",
   "metadata": {},
   "source": [
    "##### transformando os dados com o objeto scaler"
   ]
  },
  {
   "cell_type": "code",
   "execution_count": 45,
   "metadata": {
    "scrolled": true
   },
   "outputs": [
    {
     "name": "stdout",
     "output_type": "stream",
     "text": [
      "[[-0.39500785]\n",
      " [-0.14740941]\n",
      " [ 0.1674337 ]\n",
      " [ 0.13971652]\n",
      " [ 0.19999185]\n",
      " [ 0.55756051]\n",
      " [-1.20436351]\n",
      " [-0.97842606]\n",
      " [ 1.21584584]\n",
      " [-0.19711271]\n",
      " [ 0.96804226]\n",
      " [-1.23004412]\n",
      " [ 2.2437197 ]\n",
      " [-0.21456679]\n",
      " [-0.65895061]\n",
      " [ 0.35073732]\n",
      " [-0.08728689]\n",
      " [-1.45370814]\n",
      " [ 0.05869113]\n",
      " [-0.27520319]\n",
      " [-0.35175359]\n",
      " [ 0.25336874]\n",
      " [ 0.42014971]\n",
      " [-2.06024994]\n",
      " [-0.69155201]\n",
      " [-1.19715584]\n",
      " [ 1.59503962]\n",
      " [-0.09149496]\n",
      " [ 0.441995  ]\n",
      " [-0.69359393]\n",
      " [ 0.27795417]\n",
      " [ 1.36828374]\n",
      " [-0.72336961]\n",
      " [ 2.05044138]\n",
      " [-1.83160525]\n",
      " [ 1.42927723]\n",
      " [ 0.1111146 ]\n",
      " [-0.86001142]\n",
      " [-0.49037925]\n",
      " [ 0.57037627]\n",
      " [ 2.13148967]\n",
      " [-1.5488939 ]\n",
      " [ 0.42290061]\n",
      " [-0.41737923]\n",
      " [ 0.57977009]\n",
      " [-0.57908821]\n",
      " [ 0.34913018]\n",
      " [ 1.74231752]\n",
      " [-0.36640679]\n",
      " [-0.90033416]]\n"
     ]
    }
   ],
   "source": [
    "data_scaled = scaler.transform(data)\n",
    "print(data_scaled)"
   ]
  },
  {
   "cell_type": "markdown",
   "metadata": {},
   "source": [
    "#### Alterando a forma dos dados para apenas uma dimensão"
   ]
  },
  {
   "cell_type": "code",
   "execution_count": 46,
   "metadata": {},
   "outputs": [],
   "source": [
    "data_scaled = data_scaled.reshape(-1,1)"
   ]
  },
  {
   "cell_type": "code",
   "execution_count": 47,
   "metadata": {},
   "outputs": [
    {
     "data": {
      "image/png": "[encoded data removed]",
      "text/plain": [
       "<Figure size 432x288 with 1 Axes>"
      ]
     },
     "metadata": {
      "needs_background": "light"
     },
     "output_type": "display_data"
    }
   ],
   "source": [
    "sns.distplot(data_scaled)\n",
    "plt.show()"
   ]
  }
 ],
 "metadata": {
  "kernelspec": {
   "display_name": "Python 3",
   "language": "python",
   "name": "python3"
  },
  "language_info": {
   "codemirror_mode": {
    "name": "ipython",
    "version": 3
   },
   "file_extension": ".py",
   "mimetype": "text/x-python",
   "name": "python",
   "nbconvert_exporter": "python",
   "pygments_lexer": "ipython3",
   "version": "3.7.3"
  }
 },
 "nbformat": 4,
 "nbformat_minor": 2
}
