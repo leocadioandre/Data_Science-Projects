{
 "cells": [
  {
   "cell_type": "markdown",
   "metadata": {
    "colab_type": "text",
    "id": "k16C5s4g0Xby"
   },
   "source": [
    "# Machine Learning - Arvore de Decisão"
   ]
  },
  {
   "cell_type": "code",
   "execution_count": 1,
   "metadata": {
    "_cell_guid": "9e92f1a3-3e81-4ec6-a567-890827b0555c",
    "_uuid": "e5338e8c3fa6dc8f410d8b868aa78cb54621780b",
    "colab": {},
    "colab_type": "code",
    "id": "liShBTH80Xb0"
   },
   "outputs": [],
   "source": [
    "import pandas as pd\n",
    "from sklearn.model_selection import train_test_split\n",
    "from sklearn import tree"
   ]
  },
  {
   "cell_type": "markdown",
   "metadata": {
    "colab_type": "text",
    "id": "xJDBc7bR0Xb4"
   },
   "source": [
    "#### Carregando a base de dados bank-numeric"
   ]
  },
  {
   "cell_type": "code",
   "execution_count": 2,
   "metadata": {
    "_cell_guid": "52a87df3-04c2-4515-994a-9a3d0b85d3c3",
    "_uuid": "9700cff3c818070f8f202bc964e2a5ffc8c72aa5",
    "colab": {
     "base_uri": "https://localhost:8080/",
     "height": 241
    },
    "colab_type": "code",
    "id": "UHKAWlXG0Xb4",
    "outputId": "3bff425a-85af-4ff5-b389-879ed9def3d5",
    "scrolled": false
   },
   "outputs": [
    {
     "data": {
      "text/html": [
       "<div>\n",
       "<style scoped>\n",
       "    .dataframe tbody tr th:only-of-type {\n",
       "        vertical-align: middle;\n",
       "    }\n",
       "\n",
       "    .dataframe tbody tr th {\n",
       "        vertical-align: top;\n",
       "    }\n",
       "\n",
       "    .dataframe thead th {\n",
       "        text-align: right;\n",
       "    }\n",
       "</style>\n",
       "<table border=\"1\" class=\"dataframe\">\n",
       "  <thead>\n",
       "    <tr style=\"text-align: right;\">\n",
       "      <th></th>\n",
       "      <th>age</th>\n",
       "      <th>balance</th>\n",
       "      <th>duration</th>\n",
       "      <th>campaign</th>\n",
       "      <th>previous</th>\n",
       "      <th>default_cat</th>\n",
       "      <th>housing_cat</th>\n",
       "      <th>loan_cat</th>\n",
       "      <th>recent_pdays</th>\n",
       "      <th>deposit_cat</th>\n",
       "      <th>...</th>\n",
       "      <th>marital_divorced</th>\n",
       "      <th>marital_married</th>\n",
       "      <th>marital_single</th>\n",
       "      <th>education_primary</th>\n",
       "      <th>education_secondary</th>\n",
       "      <th>education_tertiary</th>\n",
       "      <th>education_unknown</th>\n",
       "      <th>poutcome_failure</th>\n",
       "      <th>poutcome_success</th>\n",
       "      <th>poutcome_unknown</th>\n",
       "    </tr>\n",
       "  </thead>\n",
       "  <tbody>\n",
       "    <tr>\n",
       "      <th>0</th>\n",
       "      <td>59</td>\n",
       "      <td>2343</td>\n",
       "      <td>1042</td>\n",
       "      <td>1</td>\n",
       "      <td>0</td>\n",
       "      <td>0</td>\n",
       "      <td>1</td>\n",
       "      <td>0</td>\n",
       "      <td>0.0001</td>\n",
       "      <td>1</td>\n",
       "      <td>...</td>\n",
       "      <td>0</td>\n",
       "      <td>1</td>\n",
       "      <td>0</td>\n",
       "      <td>0</td>\n",
       "      <td>1</td>\n",
       "      <td>0</td>\n",
       "      <td>0</td>\n",
       "      <td>0</td>\n",
       "      <td>0</td>\n",
       "      <td>1</td>\n",
       "    </tr>\n",
       "    <tr>\n",
       "      <th>1</th>\n",
       "      <td>56</td>\n",
       "      <td>45</td>\n",
       "      <td>1467</td>\n",
       "      <td>1</td>\n",
       "      <td>0</td>\n",
       "      <td>0</td>\n",
       "      <td>0</td>\n",
       "      <td>0</td>\n",
       "      <td>0.0001</td>\n",
       "      <td>1</td>\n",
       "      <td>...</td>\n",
       "      <td>0</td>\n",
       "      <td>1</td>\n",
       "      <td>0</td>\n",
       "      <td>0</td>\n",
       "      <td>1</td>\n",
       "      <td>0</td>\n",
       "      <td>0</td>\n",
       "      <td>0</td>\n",
       "      <td>0</td>\n",
       "      <td>1</td>\n",
       "    </tr>\n",
       "    <tr>\n",
       "      <th>2</th>\n",
       "      <td>41</td>\n",
       "      <td>1270</td>\n",
       "      <td>1389</td>\n",
       "      <td>1</td>\n",
       "      <td>0</td>\n",
       "      <td>0</td>\n",
       "      <td>1</td>\n",
       "      <td>0</td>\n",
       "      <td>0.0001</td>\n",
       "      <td>1</td>\n",
       "      <td>...</td>\n",
       "      <td>0</td>\n",
       "      <td>1</td>\n",
       "      <td>0</td>\n",
       "      <td>0</td>\n",
       "      <td>1</td>\n",
       "      <td>0</td>\n",
       "      <td>0</td>\n",
       "      <td>0</td>\n",
       "      <td>0</td>\n",
       "      <td>1</td>\n",
       "    </tr>\n",
       "    <tr>\n",
       "      <th>3</th>\n",
       "      <td>55</td>\n",
       "      <td>2476</td>\n",
       "      <td>579</td>\n",
       "      <td>1</td>\n",
       "      <td>0</td>\n",
       "      <td>0</td>\n",
       "      <td>1</td>\n",
       "      <td>0</td>\n",
       "      <td>0.0001</td>\n",
       "      <td>1</td>\n",
       "      <td>...</td>\n",
       "      <td>0</td>\n",
       "      <td>1</td>\n",
       "      <td>0</td>\n",
       "      <td>0</td>\n",
       "      <td>1</td>\n",
       "      <td>0</td>\n",
       "      <td>0</td>\n",
       "      <td>0</td>\n",
       "      <td>0</td>\n",
       "      <td>1</td>\n",
       "    </tr>\n",
       "    <tr>\n",
       "      <th>4</th>\n",
       "      <td>54</td>\n",
       "      <td>184</td>\n",
       "      <td>673</td>\n",
       "      <td>2</td>\n",
       "      <td>0</td>\n",
       "      <td>0</td>\n",
       "      <td>0</td>\n",
       "      <td>0</td>\n",
       "      <td>0.0001</td>\n",
       "      <td>1</td>\n",
       "      <td>...</td>\n",
       "      <td>0</td>\n",
       "      <td>1</td>\n",
       "      <td>0</td>\n",
       "      <td>0</td>\n",
       "      <td>0</td>\n",
       "      <td>1</td>\n",
       "      <td>0</td>\n",
       "      <td>0</td>\n",
       "      <td>0</td>\n",
       "      <td>1</td>\n",
       "    </tr>\n",
       "  </tbody>\n",
       "</table>\n",
       "<p>5 rows × 27 columns</p>\n",
       "</div>"
      ],
      "text/plain": [
       "   age  balance  duration  campaign  previous  default_cat  housing_cat  \\\n",
       "0   59     2343      1042         1         0            0            1   \n",
       "1   56       45      1467         1         0            0            0   \n",
       "2   41     1270      1389         1         0            0            1   \n",
       "3   55     2476       579         1         0            0            1   \n",
       "4   54      184       673         2         0            0            0   \n",
       "\n",
       "   loan_cat  recent_pdays  deposit_cat  ...  marital_divorced  \\\n",
       "0         0        0.0001            1  ...                 0   \n",
       "1         0        0.0001            1  ...                 0   \n",
       "2         0        0.0001            1  ...                 0   \n",
       "3         0        0.0001            1  ...                 0   \n",
       "4         0        0.0001            1  ...                 0   \n",
       "\n",
       "   marital_married  marital_single  education_primary  education_secondary  \\\n",
       "0                1               0                  0                    1   \n",
       "1                1               0                  0                    1   \n",
       "2                1               0                  0                    1   \n",
       "3                1               0                  0                    1   \n",
       "4                1               0                  0                    0   \n",
       "\n",
       "   education_tertiary  education_unknown  poutcome_failure  poutcome_success  \\\n",
       "0                   0                  0                 0                 0   \n",
       "1                   0                  0                 0                 0   \n",
       "2                   0                  0                 0                 0   \n",
       "3                   0                  0                 0                 0   \n",
       "4                   1                  0                 0                 0   \n",
       "\n",
       "   poutcome_unknown  \n",
       "0                 1  \n",
       "1                 1  \n",
       "2                 1  \n",
       "3                 1  \n",
       "4                 1  \n",
       "\n",
       "[5 rows x 27 columns]"
      ]
     },
     "execution_count": 2,
     "metadata": {},
     "output_type": "execute_result"
    }
   ],
   "source": [
    "bank = pd.read_csv('datasets/bank-numeric.csv')\n",
    "bank.head()"
   ]
  },
  {
   "cell_type": "code",
   "execution_count": 4,
   "metadata": {},
   "outputs": [
    {
     "name": "stdout",
     "output_type": "stream",
     "text": [
      "<class 'pandas.core.frame.DataFrame'>\n",
      "RangeIndex: 11162 entries, 0 to 11161\n",
      "Data columns (total 27 columns):\n",
      " #   Column               Non-Null Count  Dtype  \n",
      "---  ------               --------------  -----  \n",
      " 0   age                  11162 non-null  int64  \n",
      " 1   balance              11162 non-null  int64  \n",
      " 2   duration             11162 non-null  int64  \n",
      " 3   campaign             11162 non-null  int64  \n",
      " 4   previous             11162 non-null  int64  \n",
      " 5   default_cat          11162 non-null  int64  \n",
      " 6   housing_cat          11162 non-null  int64  \n",
      " 7   loan_cat             11162 non-null  int64  \n",
      " 8   recent_pdays         11162 non-null  float64\n",
      " 9   deposit_cat          11162 non-null  int64  \n",
      " 10  job_blue-collar      11162 non-null  int64  \n",
      " 11  job_entrepreneur     11162 non-null  int64  \n",
      " 12  job_other            11162 non-null  int64  \n",
      " 13  job_pink-collar      11162 non-null  int64  \n",
      " 14  job_self-employed    11162 non-null  int64  \n",
      " 15  job_technician       11162 non-null  int64  \n",
      " 16  job_white-collar     11162 non-null  int64  \n",
      " 17  marital_divorced     11162 non-null  int64  \n",
      " 18  marital_married      11162 non-null  int64  \n",
      " 19  marital_single       11162 non-null  int64  \n",
      " 20  education_primary    11162 non-null  int64  \n",
      " 21  education_secondary  11162 non-null  int64  \n",
      " 22  education_tertiary   11162 non-null  int64  \n",
      " 23  education_unknown    11162 non-null  int64  \n",
      " 24  poutcome_failure     11162 non-null  int64  \n",
      " 25  poutcome_success     11162 non-null  int64  \n",
      " 26  poutcome_unknown     11162 non-null  int64  \n",
      "dtypes: float64(1), int64(26)\n",
      "memory usage: 2.3 MB\n"
     ]
    }
   ],
   "source": [
    "bank.info()"
   ]
  },
  {
   "cell_type": "markdown",
   "metadata": {
    "colab_type": "text",
    "id": "IBIInlgB0Xb8"
   },
   "source": [
    "#### Separando as features das classes"
   ]
  },
  {
   "cell_type": "code",
   "execution_count": 3,
   "metadata": {
    "colab": {},
    "colab_type": "code",
    "id": "BO_rgBFp0Xb9"
   },
   "outputs": [],
   "source": [
    "bank_data = bank.drop('deposit_cat', 1)\n",
    "bank_target = bank.deposit_cat"
   ]
  },
  {
   "cell_type": "markdown",
   "metadata": {
    "colab_type": "text",
    "id": "5bgW6mbX0Xb_"
   },
   "source": [
    "#### Dividindo os dados em treino e teste"
   ]
  },
  {
   "cell_type": "code",
   "execution_count": 4,
   "metadata": {
    "colab": {},
    "colab_type": "code",
    "id": "edOHpS8x0XcA"
   },
   "outputs": [],
   "source": [
    "X_train, X_test, y_train, y_test = train_test_split(bank_data,bank_target,test_size=0.3)"
   ]
  },
  {
   "cell_type": "markdown",
   "metadata": {
    "colab_type": "text",
    "id": "QIEvp2tj0XcC"
   },
   "source": [
    "#### Função para treinar o modelo de arvore de decisão com o parametro max_depth\n",
    "\n",
    "O parametro controla a profundidade da arvore, portanto o seu tamanho. Uma arvore grande é mais complexa do que as menores.\n"
   ]
  },
  {
   "cell_type": "code",
   "execution_count": 5,
   "metadata": {
    "colab": {
     "base_uri": "https://localhost:8080/",
     "height": 34
    },
    "colab_type": "code",
    "id": "-XjjpWxA0XcC",
    "outputId": "a2bc3599-8616-4ed7-df69-1b4c87cb98f2"
   },
   "outputs": [
    {
     "data": {
      "text/plain": [
       "(0.7939331882759504, 0.787996416840848)"
      ]
     },
     "execution_count": 5,
     "metadata": {},
     "output_type": "execute_result"
    }
   ],
   "source": [
    "def compara_modelos(maxdepth):\n",
    "    if maxdepth == 0:\n",
    "        dt = tree.DecisionTreeClassifier(random_state=1)\n",
    "    else:   \n",
    "        dt = tree.DecisionTreeClassifier(random_state=1, max_depth=maxdepth)\n",
    "    dt.fit(X_train, y_train)\n",
    "    train_score = dt.score(X_train, y_train)\n",
    "    test_score = dt.score(X_test, y_test)\n",
    "    return train_score,test_score\n",
    "\n",
    "compara_modelos(5)#profundidade maxima igual a 2."
   ]
  },
  {
   "cell_type": "code",
   "execution_count": 6,
   "metadata": {
    "colab": {
     "base_uri": "https://localhost:8080/",
     "height": 153
    },
    "colab_type": "code",
    "id": "RVc42xzh0XcE",
    "outputId": "fd03e525-4d4c-4af9-b442-ee78b110f43f"
   },
   "outputs": [
    {
     "name": "stdout",
     "output_type": "stream",
     "text": [
      "depth      Training score       Testing score       \n",
      "-----      --------------       -------------       \n",
      "2         (0.7496480225265583, 0.7438041206330248) \n",
      "3         (0.7638551132727506, 0.7587339504329651) \n",
      "4         (0.7853577371048253, 0.7748581666169005) \n",
      "10         (0.8629207730705235, 0.7811286951328755) \n",
      "15         (0.9393318827595034, 0.751269035532995) \n",
      "Full         (1.0, 0.722006569125112) \n"
     ]
    }
   ],
   "source": [
    "print('{:10} {:20} {:20}'.format('depth', 'Training score','Testing score'))\n",
    "print('{:10} {:20} {:20}'.format('-----', '--------------','-------------'))\n",
    "print('{:1}         {} '.format(2,str(compara_modelos(2))))\n",
    "print('{:1}         {} '.format(3,str(compara_modelos(3))))\n",
    "print('{:1}         {} '.format(4,str(compara_modelos(4))))\n",
    "print('{:1}         {} '.format(10,str(compara_modelos(10))))\n",
    "print('{:1}         {} '.format(15,str(compara_modelos(15))))\n",
    "print('{:1}         {} '.format('Full',str(compara_modelos(0))))"
   ]
  },
  {
   "cell_type": "markdown",
   "metadata": {
    "colab_type": "text",
    "id": "6pD8CSiz0XcG"
   },
   "source": [
    "#### Verificando as features mais importantes para o modelo de arvore de decisão treinado"
   ]
  },
  {
   "cell_type": "markdown",
   "metadata": {
    "colab_type": "text",
    "id": "jCTsa1ZN0XcH"
   },
   "source": [
    "##### Treinando o modelo utilizando o valor de max_depth igual a 4"
   ]
  },
  {
   "cell_type": "code",
   "execution_count": 7,
   "metadata": {
    "colab": {
     "base_uri": "https://localhost:8080/",
     "height": 119
    },
    "colab_type": "code",
    "id": "JtGvQC9c0XcI",
    "outputId": "0755acae-88f6-4d99-9e5c-bc18730840a2"
   },
   "outputs": [
    {
     "data": {
      "text/plain": [
       "DecisionTreeClassifier(ccp_alpha=0.0, class_weight=None, criterion='gini',\n",
       "                       max_depth=4, max_features=None, max_leaf_nodes=None,\n",
       "                       min_impurity_decrease=0.0, min_impurity_split=None,\n",
       "                       min_samples_leaf=1, min_samples_split=2,\n",
       "                       min_weight_fraction_leaf=0.0, presort='deprecated',\n",
       "                       random_state=None, splitter='best')"
      ]
     },
     "execution_count": 7,
     "metadata": {},
     "output_type": "execute_result"
    }
   ],
   "source": [
    "dt = tree.DecisionTreeClassifier(max_depth=4)\n",
    "dt.fit(X_train, y_train)"
   ]
  },
  {
   "cell_type": "markdown",
   "metadata": {
    "colab_type": "text",
    "id": "Nie4XMNu0XcK"
   },
   "source": [
    "##### Listando as features e sua importância para o modelo"
   ]
  },
  {
   "cell_type": "code",
   "execution_count": 11,
   "metadata": {},
   "outputs": [
    {
     "data": {
      "text/plain": [
       "Index(['age', 'balance', 'duration', 'campaign', 'previous', 'default_cat',\n",
       "       'housing_cat', 'loan_cat', 'recent_pdays', 'deposit_cat',\n",
       "       'job_blue-collar', 'job_entrepreneur', 'job_other', 'job_pink-collar',\n",
       "       'job_self-employed', 'job_technician', 'job_white-collar',\n",
       "       'marital_divorced', 'marital_married', 'marital_single',\n",
       "       'education_primary', 'education_secondary', 'education_tertiary',\n",
       "       'education_unknown', 'poutcome_failure', 'poutcome_success',\n",
       "       'poutcome_unknown'],\n",
       "      dtype='object')"
      ]
     },
     "execution_count": 11,
     "metadata": {},
     "output_type": "execute_result"
    }
   ],
   "source": [
    "bank.columns"
   ]
  },
  {
   "cell_type": "code",
   "execution_count": 28,
   "metadata": {
    "_cell_guid": "a40199c8-690b-4361-bdcc-f7dd76946250",
    "_uuid": "6cd0de90f9a563e11e42683f81d82b5c91c6d93c",
    "colab": {
     "base_uri": "https://localhost:8080/",
     "height": 459
    },
    "colab_type": "code",
    "id": "uKRIx4lo0XcK",
    "outputId": "b0d6f018-1761-4e1e-cf3d-86bb83c8fb07"
   },
   "outputs": [
    {
     "name": "stdout",
     "output_type": "stream",
     "text": [
      "0.0................. 0.0\n",
      "0.0010325438679464653 0.0010325438679464653\n",
      "0.645041896223182... 0.645041896223182\n",
      "0.0................. 0.0\n",
      "0.0020509159323967335 0.0020509159323967335\n",
      "0.0................. 0.0\n",
      "0.09507704486476527. 0.09507704486476527\n",
      "0.0................. 0.0\n",
      "0.08338760819193822. 0.08338760819193822\n",
      "0.0................. 0.0\n",
      "0.0................. 0.0\n",
      "0.0................. 0.0\n",
      "0.0................. 0.0\n",
      "0.0................. 0.0\n",
      "0.0................. 0.0\n",
      "0.0................. 0.0\n",
      "0.0................. 0.0\n",
      "0.0................. 0.0\n",
      "0.0................. 0.0\n",
      "0.0................. 0.0\n",
      "0.0................. 0.0\n",
      "0.0................. 0.0\n",
      "0.0................. 0.0\n",
      "0.0................. 0.0\n",
      "0.17340999091977133. 0.17340999091977133\n",
      "0.0................. 0.0\n"
     ]
    }
   ],
   "source": [
    "fi = dt.feature_importances_\n",
    "\n",
    "l = len(bank.columns)\n",
    "for i in range(0,len(bank.columns)-1):\n",
    "    print('{:.<20} {:3}'.format(features[i],fi[i]))"
   ]
  }
 ],
 "metadata": {
  "colab": {
   "name": "data-science-zero-cap06-arvore-decisao-02.ipynb",
   "provenance": [],
   "toc_visible": true,
   "version": "0.3.2"
  },
  "kernelspec": {
   "display_name": "Python 3",
   "language": "python",
   "name": "python3"
  },
  "language_info": {
   "codemirror_mode": {
    "name": "ipython",
    "version": 3
   },
   "file_extension": ".py",
   "mimetype": "text/x-python",
   "name": "python",
   "nbconvert_exporter": "python",
   "pygments_lexer": "ipython3",
   "version": "3.7.3"
  }
 },
 "nbformat": 4,
 "nbformat_minor": 1
}
