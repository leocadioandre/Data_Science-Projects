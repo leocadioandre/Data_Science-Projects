{
 "cells": [
  {
   "cell_type": "markdown",
   "metadata": {},
   "source": [
    "# Naive Bayes"
   ]
  },
  {
   "cell_type": "markdown",
   "metadata": {},
   "source": [
    "## Análise de Sentimentos"
   ]
  },
  {
   "cell_type": "code",
   "execution_count": 1,
   "metadata": {},
   "outputs": [],
   "source": [
    "import nltk\n",
    "import re\n",
    "import pandas as pd\n",
    "from sklearn.feature_extraction.text import CountVectorizer\n",
    "from sklearn.naive_bayes import MultinomialNB\n",
    "from sklearn import metrics\n",
    "from sklearn.model_selection import cross_val_predict"
   ]
  },
  {
   "cell_type": "markdown",
   "metadata": {},
   "source": [
    "**Ler arquivo de dados e conta a quantidade de linhas**"
   ]
  },
  {
   "cell_type": "code",
   "execution_count": 2,
   "metadata": {},
   "outputs": [],
   "source": [
    "dataset = pd.read_csv('Tweets_Mg.csv',encoding='utf-8')"
   ]
  },
  {
   "cell_type": "code",
   "execution_count": 3,
   "metadata": {},
   "outputs": [
    {
     "name": "stdout",
     "output_type": "stream",
     "text": [
      "<class 'pandas.core.frame.DataFrame'>\n",
      "RangeIndex: 8199 entries, 0 to 8198\n",
      "Data columns (total 26 columns):\n",
      " #   Column                     Non-Null Count  Dtype  \n",
      "---  ------                     --------------  -----  \n",
      " 0   Unnamed: 0                 8199 non-null   int64  \n",
      " 1   Created At                 8199 non-null   object \n",
      " 2   Text                       8199 non-null   object \n",
      " 3   Geo Coordinates.latitude   104 non-null    float64\n",
      " 4   Geo Coordinates.longitude  104 non-null    float64\n",
      " 5   User Location              5489 non-null   object \n",
      " 6   Username                   8199 non-null   object \n",
      " 7   User Screen Name           8199 non-null   object \n",
      " 8   Retweet Count              8199 non-null   int64  \n",
      " 9   Classificacao              8199 non-null   object \n",
      " 10  Observação                 1 non-null      object \n",
      " 11  Unnamed: 10                0 non-null      float64\n",
      " 12  Unnamed: 11                0 non-null      float64\n",
      " 13  Unnamed: 12                0 non-null      float64\n",
      " 14  Unnamed: 13                0 non-null      float64\n",
      " 15  Unnamed: 14                0 non-null      float64\n",
      " 16  Unnamed: 15                0 non-null      float64\n",
      " 17  Unnamed: 16                0 non-null      float64\n",
      " 18  Unnamed: 17                0 non-null      float64\n",
      " 19  Unnamed: 18                0 non-null      float64\n",
      " 20  Unnamed: 19                0 non-null      float64\n",
      " 21  Unnamed: 20                0 non-null      float64\n",
      " 22  Unnamed: 21                0 non-null      float64\n",
      " 23  Unnamed: 22                0 non-null      float64\n",
      " 24  Unnamed: 23                0 non-null      float64\n",
      " 25  Unnamed: 24                0 non-null      float64\n",
      "dtypes: float64(17), int64(2), object(7)\n",
      "memory usage: 1.6+ MB\n"
     ]
    }
   ],
   "source": [
    "dataset.info()"
   ]
  },
  {
   "cell_type": "code",
   "execution_count": 4,
   "metadata": {},
   "outputs": [],
   "source": [
    "# Expante o tamanho de exibição de coluna de texto\n",
    "pd.set_option('display.max_colwidth', None) "
   ]
  },
  {
   "cell_type": "code",
   "execution_count": 5,
   "metadata": {},
   "outputs": [
    {
     "data": {
      "text/plain": [
       "0                                                              ���⛪ @ Catedral de Santo Antônio - Governador Valadares/MG https://t.co/JSbKamIqUJ\n",
       "1                                                                                  � @ Governador Valadares, Minas Gerais https://t.co/B3ThIDJCSf\n",
       "2                                                                                 �� @ Governador Valadares, Minas Gerais https://t.co/dPkgzVR2Qw\n",
       "3                                                                                                                     ��� https://t.co/BnDsO34qK0\n",
       "4                  ��� PSOL vai questionar aumento de vereadores e prefeito de BH na Justiça - Politica - Estado de Minas https://t.co/DMg7BGsek5\n",
       "                                                                         ...                                                                     \n",
       "95                             #noticiasdorenan Uso de depósitos judiciais pelo governo tem nova polêmica em MG: O Banco… https://t.co/kHuZpKQaj5\n",
       "96    #OperacaoBetaLab #TimBeta #Beta #BetaLab #BetaAjudaBeta #BetaSegueBeta UOL: Desastre ambiental em MG: Empresas ped… https://t.co/kwyeKjhtcI\n",
       "97    #OperacaoBetaLab #TimBeta #Beta #BetaLab #BetaAjudaBeta #BetaSegueBeta UOL: Governo em calamidade financeira: BB a… https://t.co/1rWaHUACqt\n",
       "98    #OperacaoBetaLab #TimBeta #Beta #BetaLab #BetaAjudaBeta #BetaSegueBeta UOL: Polêmica com filho de Pimentel: Govern… https://t.co/E1EhSA9Ti3\n",
       "99                        #operacaobetalab BB avisa Justiça que governo de MG não tem recursos em conta judicial https://t.co/W6AoFMMsvA #rt #sdv\n",
       "Name: Text, Length: 100, dtype: object"
      ]
     },
     "execution_count": 5,
     "metadata": {},
     "output_type": "execute_result"
    }
   ],
   "source": [
    "dataset.Text.head(100)"
   ]
  },
  {
   "cell_type": "markdown",
   "metadata": {},
   "source": [
    "**Excluir Linhas duplicadas**"
   ]
  },
  {
   "cell_type": "code",
   "execution_count": 6,
   "metadata": {},
   "outputs": [],
   "source": [
    "dataset.drop_duplicates(['Text'],inplace=True)"
   ]
  },
  {
   "cell_type": "code",
   "execution_count": 7,
   "metadata": {},
   "outputs": [
    {
     "data": {
      "text/plain": [
       "Unnamed: 0                   5765\n",
       "Created At                   5765\n",
       "Text                         5765\n",
       "Geo Coordinates.latitude      104\n",
       "Geo Coordinates.longitude     104\n",
       "User Location                3851\n",
       "Username                     5765\n",
       "User Screen Name             5765\n",
       "Retweet Count                5765\n",
       "Classificacao                5765\n",
       "Observação                      1\n",
       "Unnamed: 10                     0\n",
       "Unnamed: 11                     0\n",
       "Unnamed: 12                     0\n",
       "Unnamed: 13                     0\n",
       "Unnamed: 14                     0\n",
       "Unnamed: 15                     0\n",
       "Unnamed: 16                     0\n",
       "Unnamed: 17                     0\n",
       "Unnamed: 18                     0\n",
       "Unnamed: 19                     0\n",
       "Unnamed: 20                     0\n",
       "Unnamed: 21                     0\n",
       "Unnamed: 22                     0\n",
       "Unnamed: 23                     0\n",
       "Unnamed: 24                     0\n",
       "dtype: int64"
      ]
     },
     "execution_count": 7,
     "metadata": {},
     "output_type": "execute_result"
    }
   ],
   "source": [
    "dataset.count()"
   ]
  },
  {
   "cell_type": "markdown",
   "metadata": {},
   "source": [
    "**Removendo Colunas desnecessárias**"
   ]
  },
  {
   "cell_type": "code",
   "execution_count": 9,
   "metadata": {},
   "outputs": [
    {
     "data": {
      "text/plain": [
       "array(['Unnamed: 0', 'Created At', 'Text', 'Geo Coordinates.latitude',\n",
       "       'Geo Coordinates.longitude', 'User Location', 'Username',\n",
       "       'User Screen Name', 'Retweet Count', 'Classificacao', 'Observação',\n",
       "       'Unnamed: 10', 'Unnamed: 11', 'Unnamed: 12', 'Unnamed: 13',\n",
       "       'Unnamed: 14', 'Unnamed: 15', 'Unnamed: 16', 'Unnamed: 17',\n",
       "       'Unnamed: 18', 'Unnamed: 19', 'Unnamed: 20', 'Unnamed: 21',\n",
       "       'Unnamed: 22', 'Unnamed: 23', 'Unnamed: 24'], dtype=object)"
      ]
     },
     "execution_count": 9,
     "metadata": {},
     "output_type": "execute_result"
    }
   ],
   "source": [
    "dataset.columns.values"
   ]
  },
  {
   "cell_type": "code",
   "execution_count": 8,
   "metadata": {},
   "outputs": [
    {
     "name": "stdout",
     "output_type": "stream",
     "text": [
      "Colunas Deletadas: Unnamed: 0\n",
      "Colunas Deletadas: Unnamed: 10\n",
      "Colunas Deletadas: Unnamed: 11\n",
      "Colunas Deletadas: Unnamed: 12\n",
      "Colunas Deletadas: Unnamed: 13\n",
      "Colunas Deletadas: Unnamed: 14\n",
      "Colunas Deletadas: Unnamed: 15\n",
      "Colunas Deletadas: Unnamed: 16\n",
      "Colunas Deletadas: Unnamed: 17\n",
      "Colunas Deletadas: Unnamed: 18\n",
      "Colunas Deletadas: Unnamed: 19\n",
      "Colunas Deletadas: Unnamed: 20\n",
      "Colunas Deletadas: Unnamed: 21\n",
      "Colunas Deletadas: Unnamed: 22\n",
      "Colunas Deletadas: Unnamed: 23\n",
      "Colunas Deletadas: Unnamed: 24\n"
     ]
    }
   ],
   "source": [
    "for i in dataset.columns.values:\n",
    "    if i.startswith('Unnamed'):\n",
    "        dataset.drop(i, axis=1, inplace=True)\n",
    "        print ('Colunas Deletadas:', i)"
   ]
  },
  {
   "cell_type": "code",
   "execution_count": 9,
   "metadata": {},
   "outputs": [
    {
     "data": {
      "text/plain": [
       "Index(['Created At', 'Text', 'Geo Coordinates.latitude',\n",
       "       'Geo Coordinates.longitude', 'User Location', 'Username',\n",
       "       'User Screen Name', 'Retweet Count', 'Classificacao', 'Observação'],\n",
       "      dtype='object')"
      ]
     },
     "execution_count": 9,
     "metadata": {},
     "output_type": "execute_result"
    }
   ],
   "source": [
    "# Visualizando as colunas do dataset\n",
    "dataset.columns"
   ]
  },
  {
   "cell_type": "markdown",
   "metadata": {},
   "source": [
    "**Distribuição das classes neutros, positivos e negativos**"
   ]
  },
  {
   "cell_type": "code",
   "execution_count": 10,
   "metadata": {},
   "outputs": [
    {
     "data": {
      "text/plain": [
       "Positivo    2840\n",
       "Neutro      1974\n",
       "Negativo     951\n",
       "Name: Classificacao, dtype: int64"
      ]
     },
     "execution_count": 10,
     "metadata": {},
     "output_type": "execute_result"
    }
   ],
   "source": [
    "dataset.Classificacao.value_counts()"
   ]
  },
  {
   "cell_type": "code",
   "execution_count": 11,
   "metadata": {},
   "outputs": [
    {
     "data": {
      "text/plain": [
       "<matplotlib.axes._subplots.AxesSubplot at 0x1c8ea26a400>"
      ]
     },
     "execution_count": 11,
     "metadata": {},
     "output_type": "execute_result"
    },
    {
     "data": {
      "image/png": "[encoded data removed]",
      "text/plain": [
       "<Figure size 432x288 with 1 Axes>"
      ]
     },
     "metadata": {
      "needs_background": "light"
     },
     "output_type": "display_data"
    }
   ],
   "source": [
    "%matplotlib inline\n",
    "dataset.Classificacao.value_counts().plot(kind='bar') # As classes se apresentaram desbalanceadas."
   ]
  },
  {
   "cell_type": "markdown",
   "metadata": {},
   "source": [
    "** Separando tweets e suas classes\n",
    "**"
   ]
  },
  {
   "cell_type": "code",
   "execution_count": 12,
   "metadata": {},
   "outputs": [],
   "source": [
    "tweets = dataset['Text']\n",
    "classes = dataset['Classificacao']"
   ]
  },
  {
   "cell_type": "code",
   "execution_count": 20,
   "metadata": {},
   "outputs": [
    {
     "data": {
      "text/plain": [
       "0    ���⛪ @ Catedral de Santo Antônio - Governador Valadares/MG https://t.co/JSbKamIqUJ                                            \n",
       "1    � @ Governador Valadares, Minas Gerais https://t.co/B3ThIDJCSf                                                                \n",
       "2    �� @ Governador Valadares, Minas Gerais https://t.co/dPkgzVR2Qw                                                               \n",
       "3    ��� https://t.co/BnDsO34qK0                                                                                                   \n",
       "4    ��� PSOL vai questionar aumento de vereadores e prefeito de BH na Justiça - Politica - Estado de Minas https://t.co/DMg7BGsek5\n",
       "Name: Text, dtype: object"
      ]
     },
     "execution_count": 20,
     "metadata": {},
     "output_type": "execute_result"
    }
   ],
   "source": [
    "tweets.head()"
   ]
  },
  {
   "cell_type": "code",
   "execution_count": 21,
   "metadata": {},
   "outputs": [
    {
     "data": {
      "text/plain": [
       "0    Neutro  \n",
       "1    Neutro  \n",
       "2    Neutro  \n",
       "3    Neutro  \n",
       "4    Negativo\n",
       "Name: Classificacao, dtype: object"
      ]
     },
     "execution_count": 21,
     "metadata": {},
     "output_type": "execute_result"
    }
   ],
   "source": [
    "classes.head()"
   ]
  },
  {
   "cell_type": "markdown",
   "metadata": {
    "collapsed": true
   },
   "source": [
    "**Gerando o modelo**"
   ]
  },
  {
   "cell_type": "markdown",
   "metadata": {},
   "source": [
    "Como são dados de textos, o que ira acontecer é transformar os textos em uma lista de vetores binarios."
   ]
  },
  {
   "cell_type": "code",
   "execution_count": 13,
   "metadata": {},
   "outputs": [],
   "source": [
    "vectorizer = CountVectorizer(analyzer=\"word\")\n",
    "freq_tweets = vectorizer.fit_transform(tweets)"
   ]
  },
  {
   "cell_type": "code",
   "execution_count": 14,
   "metadata": {},
   "outputs": [
    {
     "data": {
      "text/plain": [
       "scipy.sparse.csr.csr_matrix"
      ]
     },
     "execution_count": 14,
     "metadata": {},
     "output_type": "execute_result"
    }
   ],
   "source": [
    "type(freq_tweets)# Foi transformado em uma matriz esparça."
   ]
  },
  {
   "cell_type": "code",
   "execution_count": 15,
   "metadata": {},
   "outputs": [
    {
     "data": {
      "text/plain": [
       "(5765, 13029)"
      ]
     },
     "execution_count": 15,
     "metadata": {},
     "output_type": "execute_result"
    }
   ],
   "source": [
    "freq_tweets.shape # O indicadivo de colunas, mostra que cada palavra da base virou agora uma coluna."
   ]
  },
  {
   "cell_type": "code",
   "execution_count": 18,
   "metadata": {},
   "outputs": [
    {
     "data": {
      "text/plain": [
       "array([[0, 0, 0, ..., 0, 0, 0],\n",
       "       [0, 0, 0, ..., 0, 0, 0],\n",
       "       [0, 0, 0, ..., 0, 0, 0],\n",
       "       ...,\n",
       "       [0, 0, 0, ..., 0, 0, 0],\n",
       "       [0, 0, 0, ..., 0, 0, 0],\n",
       "       [0, 0, 0, ..., 0, 0, 0]], dtype=int64)"
      ]
     },
     "execution_count": 18,
     "metadata": {},
     "output_type": "execute_result"
    }
   ],
   "source": [
    "freq_tweets.A"
   ]
  },
  {
   "cell_type": "markdown",
   "metadata": {},
   "source": [
    "**Cria um modelo usando Naive Bayes Multinomial**"
   ]
  },
  {
   "cell_type": "code",
   "execution_count": 19,
   "metadata": {},
   "outputs": [
    {
     "data": {
      "text/plain": [
       "MultinomialNB(alpha=1.0, class_prior=None, fit_prior=True)"
      ]
     },
     "execution_count": 19,
     "metadata": {},
     "output_type": "execute_result"
    }
   ],
   "source": [
    "modelo = MultinomialNB()#Este é o tipo de naive bayes que será trabalhado.\n",
    "modelo.fit(freq_tweets,classes)"
   ]
  },
  {
   "cell_type": "markdown",
   "metadata": {},
   "source": [
    "** Testando o modelo com algumas instâncias simples**"
   ]
  },
  {
   "cell_type": "code",
   "execution_count": 20,
   "metadata": {},
   "outputs": [],
   "source": [
    "# defina instâncias de teste dentro de uma lista\n",
    "testes = ['Esse governo está no início, vamos ver o que vai dar',\n",
    "          'Estou muito feliz com o governo de Minas esse ano',\n",
    "          'O estado de Minas Gerais decretou calamidade financeira!!!',\n",
    "          'A segurança desse país está deixando a desejar',\n",
    "          'O governador de Minas é mais uma vez do PT']"
   ]
  },
  {
   "cell_type": "code",
   "execution_count": 21,
   "metadata": {},
   "outputs": [],
   "source": [
    "# Transforma os dados de teste em vetores de palavras.\n",
    "freq_testes = vectorizer.transform(testes)"
   ]
  },
  {
   "cell_type": "code",
   "execution_count": 22,
   "metadata": {},
   "outputs": [
    {
     "data": {
      "text/plain": [
       "array(['Neutro', 'Neutro', 'Negativo', 'Neutro', 'Neutro'], dtype='<U8')"
      ]
     },
     "execution_count": 22,
     "metadata": {},
     "output_type": "execute_result"
    }
   ],
   "source": [
    "modelo.predict(freq_testes)"
   ]
  },
  {
   "cell_type": "code",
   "execution_count": 23,
   "metadata": {},
   "outputs": [
    {
     "name": "stdout",
     "output_type": "stream",
     "text": [
      "Esse governo está no início, vamos ver o que vai dar, Neutro\n",
      "Estou muito feliz com o governo de Minas esse ano, Neutro\n",
      "O estado de Minas Gerais decretou calamidade financeira!!!, Negativo\n",
      "A segurança desse país está deixando a desejar, Neutro\n",
      "O governador de Minas é mais uma vez do PT, Neutro\n"
     ]
    }
   ],
   "source": [
    "# Fazendo a classificação com o modelo treinado.\n",
    "for t, c in zip (testes,modelo.predict(freq_testes)):\n",
    "    print (t +\", \"+ c)"
   ]
  },
  {
   "cell_type": "code",
   "execution_count": 24,
   "metadata": {},
   "outputs": [
    {
     "name": "stdout",
     "output_type": "stream",
     "text": [
      "['Negativo' 'Neutro' 'Positivo']\n"
     ]
    },
    {
     "data": {
      "text/plain": [
       "array([[0.18, 0.82, 0.  ],\n",
       "       [0.02, 0.98, 0.  ],\n",
       "       [0.99, 0.01, 0.  ],\n",
       "       [0.1 , 0.89, 0.01],\n",
       "       [0.15, 0.85, 0.  ]])"
      ]
     },
     "execution_count": 24,
     "metadata": {},
     "output_type": "execute_result"
    }
   ],
   "source": [
    "# Probabilidades de cada classe\n",
    "\n",
    "print (modelo.classes_)\n",
    "modelo.predict_proba(freq_testes).round(2)"
   ]
  },
  {
   "cell_type": "markdown",
   "metadata": {},
   "source": [
    "## Avaliação o modelo ##"
   ]
  },
  {
   "cell_type": "markdown",
   "metadata": {},
   "source": [
    "* Usaremos a técnica de Cross Validation para avaliação dos modelos.\n",
    "* Esta técnica será usada com 10 folds."
   ]
  },
  {
   "cell_type": "markdown",
   "metadata": {
    "collapsed": true
   },
   "source": [
    "**Fazendo o cross validation do modelo**"
   ]
  },
  {
   "cell_type": "code",
   "execution_count": 26,
   "metadata": {},
   "outputs": [
    {
     "data": {
      "text/plain": [
       "array(['Neutro', 'Neutro', 'Neutro', ..., 'Positivo', 'Positivo',\n",
       "       'Positivo'], dtype='<U8')"
      ]
     },
     "execution_count": 26,
     "metadata": {},
     "output_type": "execute_result"
    }
   ],
   "source": [
    "resultados = cross_val_predict(modelo, freq_tweets, classes, cv=10)\n",
    "resultados"
   ]
  },
  {
   "cell_type": "markdown",
   "metadata": {},
   "source": [
    "**Matriz de confusão**"
   ]
  },
  {
   "cell_type": "code",
   "execution_count": 27,
   "metadata": {
    "scrolled": false
   },
   "outputs": [
    {
     "name": "stdout",
     "output_type": "stream",
     "text": [
      "Predito   Negativo  Neutro  Positivo   All\n",
      "Real                                      \n",
      "Negativo       846     100         5   951\n",
      "Neutro         206    1656       112  1974\n",
      "Positivo        53     294      2493  2840\n",
      "All           1105    2050      2610  5765\n"
     ]
    }
   ],
   "source": [
    "print (pd.crosstab(classes, resultados, rownames=['Real'], colnames=['Predito'], margins=True))"
   ]
  },
  {
   "cell_type": "markdown",
   "metadata": {
    "collapsed": true
   },
   "source": [
    "** Métricas de validação do modelo**"
   ]
  },
  {
   "cell_type": "code",
   "execution_count": 28,
   "metadata": {},
   "outputs": [
    {
     "name": "stdout",
     "output_type": "stream",
     "text": [
      "              precision    recall  f1-score   support\n",
      "\n",
      "    Positivo       0.96      0.88      0.91      2840\n",
      "    Negativo       0.77      0.89      0.82       951\n",
      "      Neutro       0.81      0.84      0.82      1974\n",
      "\n",
      "    accuracy                           0.87      5765\n",
      "   macro avg       0.84      0.87      0.85      5765\n",
      "weighted avg       0.87      0.87      0.87      5765\n",
      "\n"
     ]
    }
   ],
   "source": [
    "sentimento=['Positivo','Negativo','Neutro']\n",
    "print (metrics.classification_report(classes,resultados,sentimento))"
   ]
  },
  {
   "cell_type": "markdown",
   "metadata": {},
   "source": [
    "## Tunning do Naive Bayes"
   ]
  },
  {
   "cell_type": "code",
   "execution_count": 29,
   "metadata": {},
   "outputs": [],
   "source": [
    "from sklearn.model_selection import GridSearchCV"
   ]
  },
  {
   "cell_type": "markdown",
   "metadata": {},
   "source": [
    "** Defina uma lista de valores de Alpha**"
   ]
  },
  {
   "cell_type": "code",
   "execution_count": 30,
   "metadata": {},
   "outputs": [
    {
     "data": {
      "text/plain": [
       "[1, 2, 3, 4, 5, 6, 7, 8, 9, 10]"
      ]
     },
     "execution_count": 30,
     "metadata": {},
     "output_type": "execute_result"
    }
   ],
   "source": [
    "lista_alpha = list(range(1,11))\n",
    "lista_alpha"
   ]
  },
  {
   "cell_type": "markdown",
   "metadata": {},
   "source": [
    "** Cria um dicionario com o nome do parametro e a lista de valores **\n",
    "** O GridSearch faz testes exaustivo de parametros alpha no caso do Naive Bayes para a escolha dos parametros."
   ]
  },
  {
   "cell_type": "code",
   "execution_count": 31,
   "metadata": {},
   "outputs": [
    {
     "data": {
      "text/plain": [
       "{'alpha': [1, 2, 3, 4, 5, 6, 7, 8, 9, 10]}"
      ]
     },
     "execution_count": 31,
     "metadata": {},
     "output_type": "execute_result"
    }
   ],
   "source": [
    "parametros_grid = dict(alpha=lista_alpha)\n",
    "parametros_grid"
   ]
  },
  {
   "cell_type": "markdown",
   "metadata": {},
   "source": [
    "**Instância um modelo**"
   ]
  },
  {
   "cell_type": "code",
   "execution_count": 32,
   "metadata": {},
   "outputs": [],
   "source": [
    "nvModelo = MultinomialNB()"
   ]
  },
  {
   "cell_type": "markdown",
   "metadata": {},
   "source": [
    "** Cria o objeto Grid**"
   ]
  },
  {
   "cell_type": "code",
   "execution_count": 33,
   "metadata": {},
   "outputs": [],
   "source": [
    "grid = GridSearchCV(nvModelo, parametros_grid, cv=10, scoring='accuracy') # Para cada valor do parametro ele roda tambem uma validação cruzada."
   ]
  },
  {
   "cell_type": "markdown",
   "metadata": {},
   "source": [
    "**Roda o Grid**"
   ]
  },
  {
   "cell_type": "code",
   "execution_count": 34,
   "metadata": {},
   "outputs": [
    {
     "data": {
      "text/plain": [
       "GridSearchCV(cv=10, error_score=nan,\n",
       "             estimator=MultinomialNB(alpha=1.0, class_prior=None,\n",
       "                                     fit_prior=True),\n",
       "             iid='deprecated', n_jobs=None,\n",
       "             param_grid={'alpha': [1, 2, 3, 4, 5, 6, 7, 8, 9, 10]},\n",
       "             pre_dispatch='2*n_jobs', refit=True, return_train_score=False,\n",
       "             scoring='accuracy', verbose=0)"
      ]
     },
     "execution_count": 34,
     "metadata": {},
     "output_type": "execute_result"
    }
   ],
   "source": [
    "freq_tweets = vectorizer.fit_transform(tweets)\n",
    "grid.fit(freq_tweets, classes)"
   ]
  },
  {
   "cell_type": "markdown",
   "metadata": {},
   "source": [
    "** Melhores Scores**"
   ]
  },
  {
   "cell_type": "code",
   "execution_count": 35,
   "metadata": {},
   "outputs": [
    {
     "data": {
      "text/plain": [
       "{'mean_fit_time': array([0.01718595, 0.01718829, 0.01882207, 0.01772017, 0.01835465,\n",
       "        0.01727026, 0.01875081, 0.01786618, 0.01779661, 0.01718588]),\n",
       " 'std_fit_time': array([0.0046804 , 0.00468668, 0.00506373, 0.00135097, 0.00286565,\n",
       "        0.00512534, 0.00625419, 0.00561442, 0.00256457, 0.00468702]),\n",
       " 'mean_score_time': array([0.00156257, 0.        , 0.0003979 , 0.00168517, 0.00109959,\n",
       "        0.00206256, 0.        , 0.00010002, 0.00206273, 0.00156248]),\n",
       " 'std_score_time': array([0.00468771, 0.        , 0.00065832, 0.00163662, 0.00069976,\n",
       "        0.00454571, 0.        , 0.00030005, 0.00454629, 0.00468743]),\n",
       " 'param_alpha': masked_array(data=[1, 2, 3, 4, 5, 6, 7, 8, 9, 10],\n",
       "              mask=[False, False, False, False, False, False, False, False,\n",
       "                    False, False],\n",
       "        fill_value='?',\n",
       "             dtype=object),\n",
       " 'params': [{'alpha': 1},\n",
       "  {'alpha': 2},\n",
       "  {'alpha': 3},\n",
       "  {'alpha': 4},\n",
       "  {'alpha': 5},\n",
       "  {'alpha': 6},\n",
       "  {'alpha': 7},\n",
       "  {'alpha': 8},\n",
       "  {'alpha': 9},\n",
       "  {'alpha': 10}],\n",
       " 'split0_test_score': array([0.50259965, 0.50433276, 0.52339688, 0.52166378, 0.51819757,\n",
       "        0.51993068, 0.51646447, 0.52686308, 0.53379549, 0.53206239]),\n",
       " 'split1_test_score': array([0.86655113, 0.89948007, 0.90641248, 0.89948007, 0.89774697,\n",
       "        0.89428076, 0.89254766, 0.89254766, 0.88908146, 0.88214905]),\n",
       " 'split2_test_score': array([0.82322357, 0.82149047, 0.80935875, 0.80762565, 0.79896014,\n",
       "        0.91334489, 0.90294627, 0.78856153, 0.78336222, 0.78336222]),\n",
       " 'split3_test_score': array([0.91854419, 0.90294627, 0.89601386, 0.88561525, 0.88388215,\n",
       "        0.87868284, 0.87694974, 0.87521664, 0.87001733, 0.87001733]),\n",
       " 'split4_test_score': array([0.93760832, 0.93414211, 0.9220104 , 0.9202773 , 0.91681109,\n",
       "        0.91681109, 0.91161179, 0.90641248, 0.90294627, 0.89601386]),\n",
       " 'split5_test_score': array([0.96875   , 0.94618056, 0.94097222, 0.93576389, 0.93576389,\n",
       "        0.93402778, 0.93229167, 0.92708333, 0.92708333, 0.92361111]),\n",
       " 'split6_test_score': array([0.91840278, 0.91493056, 0.92013889, 0.90277778, 0.87847222,\n",
       "        0.86458333, 0.86111111, 0.85590278, 0.85069444, 0.82465278]),\n",
       " 'split7_test_score': array([0.89756944, 0.91319444, 0.91145833, 0.90277778, 0.90277778,\n",
       "        0.89756944, 0.89236111, 0.890625  , 0.88888889, 0.88194444]),\n",
       " 'split8_test_score': array([0.91666667, 0.89756944, 0.88194444, 0.88020833, 0.875     ,\n",
       "        0.87326389, 0.86979167, 0.86458333, 0.86111111, 0.85590278]),\n",
       " 'split9_test_score': array([0.91493056, 0.90972222, 0.90798611, 0.89756944, 0.88888889,\n",
       "        0.88541667, 0.88368056, 0.875     , 0.87152778, 0.86805556]),\n",
       " 'mean_test_score': array([0.86648463, 0.86439889, 0.86196924, 0.85537593, 0.84965007,\n",
       "        0.85779114, 0.8539756 , 0.84027958, 0.83785083, 0.83177715]),\n",
       " 'std_test_score': array([0.12690066, 0.12403493, 0.11778336, 0.11578804, 0.11561883,\n",
       "        0.11442477, 0.11421022, 0.1101547 , 0.10757453, 0.10639459]),\n",
       " 'rank_test_score': array([ 1,  2,  3,  5,  7,  4,  6,  8,  9, 10])}"
      ]
     },
     "execution_count": 35,
     "metadata": {},
     "output_type": "execute_result"
    }
   ],
   "source": [
    "grid.cv_results_"
   ]
  },
  {
   "cell_type": "markdown",
   "metadata": {},
   "source": [
    "** Melhores parâmetros**"
   ]
  },
  {
   "cell_type": "code",
   "execution_count": 36,
   "metadata": {},
   "outputs": [
    {
     "data": {
      "text/plain": [
       "{'alpha': 1}"
      ]
     },
     "execution_count": 36,
     "metadata": {},
     "output_type": "execute_result"
    }
   ],
   "source": [
    "grid.best_params_"
   ]
  },
  {
   "cell_type": "code",
   "execution_count": 37,
   "metadata": {},
   "outputs": [
    {
     "data": {
      "text/plain": [
       "0.8664846307529368"
      ]
     },
     "execution_count": 37,
     "metadata": {},
     "output_type": "execute_result"
    }
   ],
   "source": [
    "grid.best_score_"
   ]
  },
  {
   "cell_type": "code",
   "execution_count": 38,
   "metadata": {},
   "outputs": [
    {
     "data": {
      "text/plain": [
       "MultinomialNB(alpha=5, class_prior=None, fit_prior=True)"
      ]
     },
     "execution_count": 38,
     "metadata": {},
     "output_type": "execute_result"
    }
   ],
   "source": [
    "vectorizer = CountVectorizer(analyzer=\"word\")\n",
    "freq_tweets = vectorizer.fit_transform(tweets)\n",
    "modelo = MultinomialNB(alpha=5)\n",
    "modelo.fit(freq_tweets,classes)"
   ]
  },
  {
   "cell_type": "code",
   "execution_count": 39,
   "metadata": {},
   "outputs": [],
   "source": [
    "freq_testes = vectorizer.transform(testes)"
   ]
  },
  {
   "cell_type": "code",
   "execution_count": 40,
   "metadata": {},
   "outputs": [
    {
     "data": {
      "text/plain": [
       "array(['Neutro', 'Neutro', 'Negativo', 'Neutro', 'Neutro'], dtype='<U8')"
      ]
     },
     "execution_count": 40,
     "metadata": {},
     "output_type": "execute_result"
    }
   ],
   "source": [
    "# Fazendo a classificação com o modelo treinado.\n",
    "modelo.predict(freq_testes)"
   ]
  },
  {
   "cell_type": "code",
   "execution_count": 41,
   "metadata": {},
   "outputs": [],
   "source": [
    "resultados = cross_val_predict(modelo, freq_tweets, classes, cv=10)"
   ]
  },
  {
   "cell_type": "code",
   "execution_count": 42,
   "metadata": {},
   "outputs": [
    {
     "name": "stdout",
     "output_type": "stream",
     "text": [
      "              precision    recall  f1-score   support\n",
      "\n",
      "    Positivo       0.89      0.92      0.90      2840\n",
      "    Negativo       0.84      0.78      0.81       951\n",
      "      Neutro       0.79      0.79      0.79      1974\n",
      "\n",
      "    accuracy                           0.85      5765\n",
      "   macro avg       0.84      0.83      0.83      5765\n",
      "weighted avg       0.85      0.85      0.85      5765\n",
      "\n"
     ]
    }
   ],
   "source": [
    "sentimento=['Positivo','Negativo','Neutro']\n",
    "print (metrics.classification_report(classes,resultados,sentimento))"
   ]
  },
  {
   "cell_type": "markdown",
   "metadata": {},
   "source": [
    "A classifição das palavras negativas obteve uma melhor acuracia, por que com um maior alpha, o algoritmo deu maior peso a classe que estava desbalanceada. E em contrapartida ocorreu uma diminuição da precisão das outras classes."
   ]
  },
  {
   "cell_type": "markdown",
   "metadata": {},
   "source": [
    "** Considerações Finais**"
   ]
  },
  {
   "cell_type": "markdown",
   "metadata": {},
   "source": [
    "* Considere aumentar a quantidade de dados de treino.\n",
    "\n",
    "* Pela sua simplicidade o Naive Bayes pode ser usado perfeitamente como um algoritmo de Baseline.\n",
    "\n",
    "* Considere alterar os parâmetros do algoritmo.\n",
    "\n",
    "* Em tarefas de classificação de textos considere utilizar outras modelagens como Bigrams por exemplo.\n",
    "\n",
    "* Em tarefas envolvendo textos outras técnicas como stemming ou remoção de stoptowords podem dar bons resultados.\n"
   ]
  }
 ],
 "metadata": {
  "kernelspec": {
   "display_name": "Python 3",
   "language": "python",
   "name": "python3"
  },
  "language_info": {
   "codemirror_mode": {
    "name": "ipython",
    "version": 3
   },
   "file_extension": ".py",
   "mimetype": "text/x-python",
   "name": "python",
   "nbconvert_exporter": "python",
   "pygments_lexer": "ipython3",
   "version": "3.7.3"
  }
 },
 "nbformat": 4,
 "nbformat_minor": 2
}
